{
  "cells": [
    {
      "cell_type": "code",
      "execution_count": null,
      "metadata": {
        "id": "8046f0c1"
      },
      "outputs": [],
      "source": [
        "import pandas as pd\n",
        "import numpy as np\n",
        "import random\n",
        "import pickle\n",
        "from sklearn.model_selection import train_test_split, GridSearchCV\n",
        "from sklearn.metrics import accuracy_score, classification_report, balanced_accuracy_score\n",
        "from sklearn.metrics import roc_auc_score, roc_curve, auc\n",
        "from sklearn.feature_extraction.text import TfidfVectorizer\n",
        "from sklearn.svm import LinearSVC\n",
        "from sklearn.naive_bayes import MultinomialNB\n",
        "from sklearn.metrics import accuracy_score, ConfusionMatrixDisplay, confusion_matrix\n",
        "from sklearn.multiclass import OneVsRestClassifier\n",
        "from sklearn.pipeline import Pipeline\n",
        "from sklearn.preprocessing import label_binarize, LabelEncoder\n",
        "\n",
        "import matplotlib.pyplot as plt\n",
        "plt.style.use('seaborn-white')\n",
        "import seaborn as sns\n",
        "sns.set_style(\"white\")\n",
        "sns.set_style(\"ticks\")\n",
        "sns.set_context(\"notebook\")\n",
        "\n",
        "import re\n",
        "import nltk\n",
        "from nltk.corpus import stopwords\n",
        "from nltk.tokenize import word_tokenize\n",
        "from nltk.stem import PorterStemmer, WordNetLemmatizer\n",
        "from tqdm.notebook import tqdm\n",
        "tqdm.pandas()"
      ],
      "id": "8046f0c1"
    },
    {
      "cell_type": "code",
      "execution_count": null,
      "metadata": {
        "colab": {
          "base_uri": "https://localhost:8080/",
          "height": 35
        },
        "id": "lMVo7YbK73H0",
        "outputId": "fd70f622-d2e0-468d-ace6-e47c3caf7d58"
      },
      "outputs": [
        {
          "output_type": "execute_result",
          "data": {
            "text/plain": [
              "'2.8.2'"
            ],
            "application/vnd.google.colaboratory.intrinsic+json": {
              "type": "string"
            }
          },
          "metadata": {},
          "execution_count": 161
        }
      ],
      "source": [
        "import tensorflow as tf \n",
        "tf.__version__"
      ],
      "id": "lMVo7YbK73H0"
    },
    {
      "cell_type": "code",
      "execution_count": null,
      "metadata": {
        "colab": {
          "base_uri": "https://localhost:8080/"
        },
        "id": "Njjsj44w5Oow",
        "outputId": "f56f7640-c09c-417d-8ec6-9671a41cfed4"
      },
      "outputs": [
        {
          "output_type": "stream",
          "name": "stdout",
          "text": [
            "Drive already mounted at /content/drive; to attempt to forcibly remount, call drive.mount(\"/content/drive\", force_remount=True).\n"
          ]
        }
      ],
      "source": [
        "from google.colab import drive\n",
        "drive.mount('/content/drive')"
      ],
      "id": "Njjsj44w5Oow"
    },
    {
      "cell_type": "markdown",
      "metadata": {
        "id": "df5bbcb6"
      },
      "source": [
        "# Data"
      ],
      "id": "df5bbcb6"
    },
    {
      "cell_type": "markdown",
      "metadata": {
        "id": "61d062bb"
      },
      "source": [
        "Read the dataset"
      ],
      "id": "61d062bb"
    },
    {
      "cell_type": "code",
      "execution_count": null,
      "metadata": {
        "colab": {
          "base_uri": "https://localhost:8080/",
          "height": 354
        },
        "id": "5d6bd38e",
        "outputId": "0fc322d3-7e37-4a51-b015-3437a7fbb61b"
      },
      "outputs": [
        {
          "output_type": "stream",
          "name": "stdout",
          "text": [
            "Shape: (200853, 6)\n"
          ]
        },
        {
          "output_type": "display_data",
          "data": {
            "text/plain": [
              "        category                                           headline  \\\n",
              "0          CRIME  There Were 2 Mass Shootings In Texas Last Week...   \n",
              "1  ENTERTAINMENT  Will Smith Joins Diplo And Nicky Jam For The 2...   \n",
              "2  ENTERTAINMENT    Hugh Grant Marries For The First Time At Age 57   \n",
              "3  ENTERTAINMENT  Jim Carrey Blasts 'Castrato' Adam Schiff And D...   \n",
              "4  ENTERTAINMENT  Julianna Margulies Uses Donald Trump Poop Bags...   \n",
              "\n",
              "           authors                                               link  \\\n",
              "0  Melissa Jeltsen  https://www.huffingtonpost.com/entry/texas-ama...   \n",
              "1    Andy McDonald  https://www.huffingtonpost.com/entry/will-smit...   \n",
              "2       Ron Dicker  https://www.huffingtonpost.com/entry/hugh-gran...   \n",
              "3       Ron Dicker  https://www.huffingtonpost.com/entry/jim-carre...   \n",
              "4       Ron Dicker  https://www.huffingtonpost.com/entry/julianna-...   \n",
              "\n",
              "                                   short_description       date  \n",
              "0  She left her husband. He killed their children... 2018-05-26  \n",
              "1                           Of course it has a song. 2018-05-26  \n",
              "2  The actor and his longtime girlfriend Anna Ebe... 2018-05-26  \n",
              "3  The actor gives Dems an ass-kicking for not fi... 2018-05-26  \n",
              "4  The \"Dietland\" actress said using the bags is ... 2018-05-26  "
            ],
            "text/html": [
              "\n",
              "  <div id=\"df-8d06db85-579c-4f0f-9f81-f9be7f35b15d\">\n",
              "    <div class=\"colab-df-container\">\n",
              "      <div>\n",
              "<style scoped>\n",
              "    .dataframe tbody tr th:only-of-type {\n",
              "        vertical-align: middle;\n",
              "    }\n",
              "\n",
              "    .dataframe tbody tr th {\n",
              "        vertical-align: top;\n",
              "    }\n",
              "\n",
              "    .dataframe thead th {\n",
              "        text-align: right;\n",
              "    }\n",
              "</style>\n",
              "<table border=\"1\" class=\"dataframe\">\n",
              "  <thead>\n",
              "    <tr style=\"text-align: right;\">\n",
              "      <th></th>\n",
              "      <th>category</th>\n",
              "      <th>headline</th>\n",
              "      <th>authors</th>\n",
              "      <th>link</th>\n",
              "      <th>short_description</th>\n",
              "      <th>date</th>\n",
              "    </tr>\n",
              "  </thead>\n",
              "  <tbody>\n",
              "    <tr>\n",
              "      <th>0</th>\n",
              "      <td>CRIME</td>\n",
              "      <td>There Were 2 Mass Shootings In Texas Last Week...</td>\n",
              "      <td>Melissa Jeltsen</td>\n",
              "      <td>https://www.huffingtonpost.com/entry/texas-ama...</td>\n",
              "      <td>She left her husband. He killed their children...</td>\n",
              "      <td>2018-05-26</td>\n",
              "    </tr>\n",
              "    <tr>\n",
              "      <th>1</th>\n",
              "      <td>ENTERTAINMENT</td>\n",
              "      <td>Will Smith Joins Diplo And Nicky Jam For The 2...</td>\n",
              "      <td>Andy McDonald</td>\n",
              "      <td>https://www.huffingtonpost.com/entry/will-smit...</td>\n",
              "      <td>Of course it has a song.</td>\n",
              "      <td>2018-05-26</td>\n",
              "    </tr>\n",
              "    <tr>\n",
              "      <th>2</th>\n",
              "      <td>ENTERTAINMENT</td>\n",
              "      <td>Hugh Grant Marries For The First Time At Age 57</td>\n",
              "      <td>Ron Dicker</td>\n",
              "      <td>https://www.huffingtonpost.com/entry/hugh-gran...</td>\n",
              "      <td>The actor and his longtime girlfriend Anna Ebe...</td>\n",
              "      <td>2018-05-26</td>\n",
              "    </tr>\n",
              "    <tr>\n",
              "      <th>3</th>\n",
              "      <td>ENTERTAINMENT</td>\n",
              "      <td>Jim Carrey Blasts 'Castrato' Adam Schiff And D...</td>\n",
              "      <td>Ron Dicker</td>\n",
              "      <td>https://www.huffingtonpost.com/entry/jim-carre...</td>\n",
              "      <td>The actor gives Dems an ass-kicking for not fi...</td>\n",
              "      <td>2018-05-26</td>\n",
              "    </tr>\n",
              "    <tr>\n",
              "      <th>4</th>\n",
              "      <td>ENTERTAINMENT</td>\n",
              "      <td>Julianna Margulies Uses Donald Trump Poop Bags...</td>\n",
              "      <td>Ron Dicker</td>\n",
              "      <td>https://www.huffingtonpost.com/entry/julianna-...</td>\n",
              "      <td>The \"Dietland\" actress said using the bags is ...</td>\n",
              "      <td>2018-05-26</td>\n",
              "    </tr>\n",
              "  </tbody>\n",
              "</table>\n",
              "</div>\n",
              "      <button class=\"colab-df-convert\" onclick=\"convertToInteractive('df-8d06db85-579c-4f0f-9f81-f9be7f35b15d')\"\n",
              "              title=\"Convert this dataframe to an interactive table.\"\n",
              "              style=\"display:none;\">\n",
              "        \n",
              "  <svg xmlns=\"http://www.w3.org/2000/svg\" height=\"24px\"viewBox=\"0 0 24 24\"\n",
              "       width=\"24px\">\n",
              "    <path d=\"M0 0h24v24H0V0z\" fill=\"none\"/>\n",
              "    <path d=\"M18.56 5.44l.94 2.06.94-2.06 2.06-.94-2.06-.94-.94-2.06-.94 2.06-2.06.94zm-11 1L8.5 8.5l.94-2.06 2.06-.94-2.06-.94L8.5 2.5l-.94 2.06-2.06.94zm10 10l.94 2.06.94-2.06 2.06-.94-2.06-.94-.94-2.06-.94 2.06-2.06.94z\"/><path d=\"M17.41 7.96l-1.37-1.37c-.4-.4-.92-.59-1.43-.59-.52 0-1.04.2-1.43.59L10.3 9.45l-7.72 7.72c-.78.78-.78 2.05 0 2.83L4 21.41c.39.39.9.59 1.41.59.51 0 1.02-.2 1.41-.59l7.78-7.78 2.81-2.81c.8-.78.8-2.07 0-2.86zM5.41 20L4 18.59l7.72-7.72 1.47 1.35L5.41 20z\"/>\n",
              "  </svg>\n",
              "      </button>\n",
              "      \n",
              "  <style>\n",
              "    .colab-df-container {\n",
              "      display:flex;\n",
              "      flex-wrap:wrap;\n",
              "      gap: 12px;\n",
              "    }\n",
              "\n",
              "    .colab-df-convert {\n",
              "      background-color: #E8F0FE;\n",
              "      border: none;\n",
              "      border-radius: 50%;\n",
              "      cursor: pointer;\n",
              "      display: none;\n",
              "      fill: #1967D2;\n",
              "      height: 32px;\n",
              "      padding: 0 0 0 0;\n",
              "      width: 32px;\n",
              "    }\n",
              "\n",
              "    .colab-df-convert:hover {\n",
              "      background-color: #E2EBFA;\n",
              "      box-shadow: 0px 1px 2px rgba(60, 64, 67, 0.3), 0px 1px 3px 1px rgba(60, 64, 67, 0.15);\n",
              "      fill: #174EA6;\n",
              "    }\n",
              "\n",
              "    [theme=dark] .colab-df-convert {\n",
              "      background-color: #3B4455;\n",
              "      fill: #D2E3FC;\n",
              "    }\n",
              "\n",
              "    [theme=dark] .colab-df-convert:hover {\n",
              "      background-color: #434B5C;\n",
              "      box-shadow: 0px 1px 3px 1px rgba(0, 0, 0, 0.15);\n",
              "      filter: drop-shadow(0px 1px 2px rgba(0, 0, 0, 0.3));\n",
              "      fill: #FFFFFF;\n",
              "    }\n",
              "  </style>\n",
              "\n",
              "      <script>\n",
              "        const buttonEl =\n",
              "          document.querySelector('#df-8d06db85-579c-4f0f-9f81-f9be7f35b15d button.colab-df-convert');\n",
              "        buttonEl.style.display =\n",
              "          google.colab.kernel.accessAllowed ? 'block' : 'none';\n",
              "\n",
              "        async function convertToInteractive(key) {\n",
              "          const element = document.querySelector('#df-8d06db85-579c-4f0f-9f81-f9be7f35b15d');\n",
              "          const dataTable =\n",
              "            await google.colab.kernel.invokeFunction('convertToInteractive',\n",
              "                                                     [key], {});\n",
              "          if (!dataTable) return;\n",
              "\n",
              "          const docLinkHtml = 'Like what you see? Visit the ' +\n",
              "            '<a target=\"_blank\" href=https://colab.research.google.com/notebooks/data_table.ipynb>data table notebook</a>'\n",
              "            + ' to learn more about interactive tables.';\n",
              "          element.innerHTML = '';\n",
              "          dataTable['output_type'] = 'display_data';\n",
              "          await google.colab.output.renderOutput(dataTable, element);\n",
              "          const docLink = document.createElement('div');\n",
              "          docLink.innerHTML = docLinkHtml;\n",
              "          element.appendChild(docLink);\n",
              "        }\n",
              "      </script>\n",
              "    </div>\n",
              "  </div>\n",
              "  "
            ]
          },
          "metadata": {}
        }
      ],
      "source": [
        "df = pd.read_json('/content/drive/MyDrive/Thesis_Code/News_Category_Dataset_v2.json', lines=True)\n",
        "print('Shape: ' + str(df.shape))\n",
        "display(df.head(5))"
      ],
      "id": "5d6bd38e"
    },
    {
      "cell_type": "markdown",
      "metadata": {
        "id": "da26a159"
      },
      "source": [
        "Select all 41  topics and headline column"
      ],
      "id": "da26a159"
    },
    {
      "cell_type": "code",
      "execution_count": null,
      "metadata": {
        "colab": {
          "base_uri": "https://localhost:8080/"
        },
        "id": "F73rCrJ_Opwy",
        "outputId": "193a98da-854b-4567-a897-9c4981f4e5cf"
      },
      "outputs": [
        {
          "output_type": "execute_result",
          "data": {
            "text/plain": [
              "array(['CRIME', 'ENTERTAINMENT', 'WORLD NEWS', 'IMPACT', 'POLITICS',\n",
              "       'WEIRD NEWS', 'BLACK VOICES', 'WOMEN', 'COMEDY', 'QUEER VOICES',\n",
              "       'SPORTS', 'BUSINESS', 'TRAVEL', 'MEDIA', 'TECH', 'RELIGION',\n",
              "       'SCIENCE', 'LATINO VOICES', 'EDUCATION', 'COLLEGE', 'PARENTS',\n",
              "       'ARTS & CULTURE', 'STYLE', 'GREEN', 'TASTE', 'HEALTHY LIVING',\n",
              "       'THE WORLDPOST', 'GOOD NEWS', 'WORLDPOST', 'FIFTY', 'ARTS',\n",
              "       'WELLNESS', 'PARENTING', 'HOME & LIVING', 'STYLE & BEAUTY',\n",
              "       'DIVORCE', 'WEDDINGS', 'FOOD & DRINK', 'MONEY', 'ENVIRONMENT',\n",
              "       'CULTURE & ARTS'], dtype=object)"
            ]
          },
          "metadata": {},
          "execution_count": 164
        }
      ],
      "source": [
        "df['category'].unique()"
      ],
      "id": "F73rCrJ_Opwy"
    },
    {
      "cell_type": "code",
      "execution_count": null,
      "metadata": {
        "colab": {
          "base_uri": "https://localhost:8080/",
          "height": 441
        },
        "id": "a2034cac",
        "outputId": "953ff3dd-1e69-49c3-ef5f-f2069b3176a5"
      },
      "outputs": [
        {
          "output_type": "stream",
          "name": "stdout",
          "text": [
            "New shape: (81395, 2)\n"
          ]
        },
        {
          "output_type": "display_data",
          "data": {
            "text/plain": [
              "                                                headline       category\n",
              "1      Will Smith Joins Diplo And Nicky Jam For The 2...  ENTERTAINMENT\n",
              "2        Hugh Grant Marries For The First Time At Age 57  ENTERTAINMENT\n",
              "3      Jim Carrey Blasts 'Castrato' Adam Schiff And D...  ENTERTAINMENT\n",
              "4      Julianna Margulies Uses Donald Trump Poop Bags...  ENTERTAINMENT\n",
              "5      Morgan Freeman 'Devastated' That Sexual Harass...  ENTERTAINMENT\n",
              "...                                                  ...            ...\n",
              "16212  Criminalizing Immigrants Puts Them At Risk Dur...       POLITICS\n",
              "16214  Hillary Lost The Election, But Kate McKinnon W...  ENTERTAINMENT\n",
              "16218  Trump Still Hasn't Officially Declared The Opi...       POLITICS\n",
              "16219  6 Dreamers Sue Trump Administration Over DACA ...       POLITICS\n",
              "16221       America Is Doubling Down On Climate Progress       POLITICS\n",
              "\n",
              "[9000 rows x 2 columns]"
            ],
            "text/html": [
              "\n",
              "  <div id=\"df-a5a68346-14be-4975-bd92-6f1eb322fbab\">\n",
              "    <div class=\"colab-df-container\">\n",
              "      <div>\n",
              "<style scoped>\n",
              "    .dataframe tbody tr th:only-of-type {\n",
              "        vertical-align: middle;\n",
              "    }\n",
              "\n",
              "    .dataframe tbody tr th {\n",
              "        vertical-align: top;\n",
              "    }\n",
              "\n",
              "    .dataframe thead th {\n",
              "        text-align: right;\n",
              "    }\n",
              "</style>\n",
              "<table border=\"1\" class=\"dataframe\">\n",
              "  <thead>\n",
              "    <tr style=\"text-align: right;\">\n",
              "      <th></th>\n",
              "      <th>headline</th>\n",
              "      <th>category</th>\n",
              "    </tr>\n",
              "  </thead>\n",
              "  <tbody>\n",
              "    <tr>\n",
              "      <th>1</th>\n",
              "      <td>Will Smith Joins Diplo And Nicky Jam For The 2...</td>\n",
              "      <td>ENTERTAINMENT</td>\n",
              "    </tr>\n",
              "    <tr>\n",
              "      <th>2</th>\n",
              "      <td>Hugh Grant Marries For The First Time At Age 57</td>\n",
              "      <td>ENTERTAINMENT</td>\n",
              "    </tr>\n",
              "    <tr>\n",
              "      <th>3</th>\n",
              "      <td>Jim Carrey Blasts 'Castrato' Adam Schiff And D...</td>\n",
              "      <td>ENTERTAINMENT</td>\n",
              "    </tr>\n",
              "    <tr>\n",
              "      <th>4</th>\n",
              "      <td>Julianna Margulies Uses Donald Trump Poop Bags...</td>\n",
              "      <td>ENTERTAINMENT</td>\n",
              "    </tr>\n",
              "    <tr>\n",
              "      <th>5</th>\n",
              "      <td>Morgan Freeman 'Devastated' That Sexual Harass...</td>\n",
              "      <td>ENTERTAINMENT</td>\n",
              "    </tr>\n",
              "    <tr>\n",
              "      <th>...</th>\n",
              "      <td>...</td>\n",
              "      <td>...</td>\n",
              "    </tr>\n",
              "    <tr>\n",
              "      <th>16212</th>\n",
              "      <td>Criminalizing Immigrants Puts Them At Risk Dur...</td>\n",
              "      <td>POLITICS</td>\n",
              "    </tr>\n",
              "    <tr>\n",
              "      <th>16214</th>\n",
              "      <td>Hillary Lost The Election, But Kate McKinnon W...</td>\n",
              "      <td>ENTERTAINMENT</td>\n",
              "    </tr>\n",
              "    <tr>\n",
              "      <th>16218</th>\n",
              "      <td>Trump Still Hasn't Officially Declared The Opi...</td>\n",
              "      <td>POLITICS</td>\n",
              "    </tr>\n",
              "    <tr>\n",
              "      <th>16219</th>\n",
              "      <td>6 Dreamers Sue Trump Administration Over DACA ...</td>\n",
              "      <td>POLITICS</td>\n",
              "    </tr>\n",
              "    <tr>\n",
              "      <th>16221</th>\n",
              "      <td>America Is Doubling Down On Climate Progress</td>\n",
              "      <td>POLITICS</td>\n",
              "    </tr>\n",
              "  </tbody>\n",
              "</table>\n",
              "<p>9000 rows × 2 columns</p>\n",
              "</div>\n",
              "      <button class=\"colab-df-convert\" onclick=\"convertToInteractive('df-a5a68346-14be-4975-bd92-6f1eb322fbab')\"\n",
              "              title=\"Convert this dataframe to an interactive table.\"\n",
              "              style=\"display:none;\">\n",
              "        \n",
              "  <svg xmlns=\"http://www.w3.org/2000/svg\" height=\"24px\"viewBox=\"0 0 24 24\"\n",
              "       width=\"24px\">\n",
              "    <path d=\"M0 0h24v24H0V0z\" fill=\"none\"/>\n",
              "    <path d=\"M18.56 5.44l.94 2.06.94-2.06 2.06-.94-2.06-.94-.94-2.06-.94 2.06-2.06.94zm-11 1L8.5 8.5l.94-2.06 2.06-.94-2.06-.94L8.5 2.5l-.94 2.06-2.06.94zm10 10l.94 2.06.94-2.06 2.06-.94-2.06-.94-.94-2.06-.94 2.06-2.06.94z\"/><path d=\"M17.41 7.96l-1.37-1.37c-.4-.4-.92-.59-1.43-.59-.52 0-1.04.2-1.43.59L10.3 9.45l-7.72 7.72c-.78.78-.78 2.05 0 2.83L4 21.41c.39.39.9.59 1.41.59.51 0 1.02-.2 1.41-.59l7.78-7.78 2.81-2.81c.8-.78.8-2.07 0-2.86zM5.41 20L4 18.59l7.72-7.72 1.47 1.35L5.41 20z\"/>\n",
              "  </svg>\n",
              "      </button>\n",
              "      \n",
              "  <style>\n",
              "    .colab-df-container {\n",
              "      display:flex;\n",
              "      flex-wrap:wrap;\n",
              "      gap: 12px;\n",
              "    }\n",
              "\n",
              "    .colab-df-convert {\n",
              "      background-color: #E8F0FE;\n",
              "      border: none;\n",
              "      border-radius: 50%;\n",
              "      cursor: pointer;\n",
              "      display: none;\n",
              "      fill: #1967D2;\n",
              "      height: 32px;\n",
              "      padding: 0 0 0 0;\n",
              "      width: 32px;\n",
              "    }\n",
              "\n",
              "    .colab-df-convert:hover {\n",
              "      background-color: #E2EBFA;\n",
              "      box-shadow: 0px 1px 2px rgba(60, 64, 67, 0.3), 0px 1px 3px 1px rgba(60, 64, 67, 0.15);\n",
              "      fill: #174EA6;\n",
              "    }\n",
              "\n",
              "    [theme=dark] .colab-df-convert {\n",
              "      background-color: #3B4455;\n",
              "      fill: #D2E3FC;\n",
              "    }\n",
              "\n",
              "    [theme=dark] .colab-df-convert:hover {\n",
              "      background-color: #434B5C;\n",
              "      box-shadow: 0px 1px 3px 1px rgba(0, 0, 0, 0.15);\n",
              "      filter: drop-shadow(0px 1px 2px rgba(0, 0, 0, 0.3));\n",
              "      fill: #FFFFFF;\n",
              "    }\n",
              "  </style>\n",
              "\n",
              "      <script>\n",
              "        const buttonEl =\n",
              "          document.querySelector('#df-a5a68346-14be-4975-bd92-6f1eb322fbab button.colab-df-convert');\n",
              "        buttonEl.style.display =\n",
              "          google.colab.kernel.accessAllowed ? 'block' : 'none';\n",
              "\n",
              "        async function convertToInteractive(key) {\n",
              "          const element = document.querySelector('#df-a5a68346-14be-4975-bd92-6f1eb322fbab');\n",
              "          const dataTable =\n",
              "            await google.colab.kernel.invokeFunction('convertToInteractive',\n",
              "                                                     [key], {});\n",
              "          if (!dataTable) return;\n",
              "\n",
              "          const docLinkHtml = 'Like what you see? Visit the ' +\n",
              "            '<a target=\"_blank\" href=https://colab.research.google.com/notebooks/data_table.ipynb>data table notebook</a>'\n",
              "            + ' to learn more about interactive tables.';\n",
              "          element.innerHTML = '';\n",
              "          dataTable['output_type'] = 'display_data';\n",
              "          await google.colab.output.renderOutput(dataTable, element);\n",
              "          const docLink = document.createElement('div');\n",
              "          docLink.innerHTML = docLinkHtml;\n",
              "          element.appendChild(docLink);\n",
              "        }\n",
              "      </script>\n",
              "    </div>\n",
              "  </div>\n",
              "  "
            ]
          },
          "metadata": {}
        }
      ],
      "source": [
        "column_selected = 'headline' \n",
        "#classes = df['category'].unique().tolist()\n",
        "classes=['ENTERTAINMENT', 'POLITICS', 'SPORTS', 'TRAVEL', 'WELLNESS']\n",
        "\n",
        "df = df[[column_selected, 'category']]\n",
        "df = df[df['category'].isin(classes)]\n",
        "print('New shape: ' + str(df.shape))\n",
        "display(df.head(9000))"
      ],
      "id": "a2034cac"
    },
    {
      "cell_type": "markdown",
      "metadata": {
        "id": "93b06ee4"
      },
      "source": [
        "### Labels"
      ],
      "id": "93b06ee4"
    },
    {
      "cell_type": "markdown",
      "metadata": {
        "id": "5c93d712"
      },
      "source": [
        "Distribution of labels"
      ],
      "id": "5c93d712"
    },
    {
      "cell_type": "code",
      "execution_count": null,
      "metadata": {
        "colab": {
          "base_uri": "https://localhost:8080/",
          "height": 591
        },
        "id": "0a969cda",
        "outputId": "a9e04f34-2d38-4cee-ae40-f81c6a1a59d7"
      },
      "outputs": [
        {
          "output_type": "display_data",
          "data": {
            "text/plain": [
              "<Figure size 720x720 with 1 Axes>"
            ],
            "image/png": "[encoded data removed]"
          },
          "metadata": {}
        }
      ],
      "source": [
        "plot = df.category.value_counts(normalize=True).plot.pie(autopct='%1.0f%%',\n",
        "                                                         title='% of News per Topic', \n",
        "                                                         figsize=(10, 10), \n",
        "                                                         fontsize=12,\n",
        "                                                          \n",
        "                                                         ylabel='')"
      ],
      "id": "0a969cda"
    },
    {
      "cell_type": "markdown",
      "metadata": {
        "id": "6a51b526"
      },
      "source": [
        "\n",
        "\n",
        "```\n",
        "# This is formatted as code\n",
        "```\n",
        "\n",
        "Encode labels (ENTERTAINMENT -> 0, POLITICS -> 1, SPORTS -> 2, TRAVEL -> 3, WELLNESS -> 4......)"
      ],
      "id": "6a51b526"
    },
    {
      "cell_type": "code",
      "execution_count": null,
      "metadata": {
        "colab": {
          "base_uri": "https://localhost:8080/"
        },
        "id": "8874eaed",
        "outputId": "0763bbea-ff14-46ba-aa22-ab3febced64e"
      },
      "outputs": [
        {
          "output_type": "stream",
          "name": "stdout",
          "text": [
            "['ENTERTAINMENT', 'POLITICS', 'SPORTS', 'TRAVEL', 'WELLNESS']\n"
          ]
        }
      ],
      "source": [
        "le = LabelEncoder()\n",
        "df['category'] = le.fit_transform(df.category)\n",
        "classes = list(le.classes_)\n",
        "print(classes)"
      ],
      "id": "8874eaed"
    },
    {
      "cell_type": "markdown",
      "metadata": {
        "id": "72f561c2"
      },
      "source": [
        "### Word Count"
      ],
      "id": "72f561c2"
    },
    {
      "cell_type": "markdown",
      "metadata": {
        "id": "9ee376ff"
      },
      "source": [
        "Descriptive table of the number of words"
      ],
      "id": "9ee376ff"
    },
    {
      "cell_type": "code",
      "execution_count": null,
      "metadata": {
        "colab": {
          "base_uri": "https://localhost:8080/",
          "height": 173
        },
        "id": "25a8e09f",
        "outputId": "1d869ea0-2eac-43f5-8b69-779f30bf9b76"
      },
      "outputs": [
        {
          "output_type": "display_data",
          "data": {
            "text/plain": [
              "count    81395.00\n",
              "mean         9.59\n",
              "std          3.12\n",
              "min          1.00\n",
              "25%          7.00\n",
              "50%         10.00\n",
              "75%         12.00\n",
              "max         44.00\n",
              "Name: headline, dtype: float64"
            ]
          },
          "metadata": {}
        }
      ],
      "source": [
        "word_lens = df[column_selected].str.split(\" \").str.len()\n",
        "display(word_lens.describe().round(2))"
      ],
      "id": "25a8e09f"
    },
    {
      "cell_type": "markdown",
      "metadata": {
        "id": "6bbd3d0c"
      },
      "source": [
        "Histogram"
      ],
      "id": "6bbd3d0c"
    },
    {
      "cell_type": "code",
      "execution_count": null,
      "metadata": {
        "colab": {
          "base_uri": "https://localhost:8080/",
          "height": 301
        },
        "id": "3fa6e174",
        "outputId": "308937e4-b63c-4073-8968-70830534e274"
      },
      "outputs": [
        {
          "output_type": "display_data",
          "data": {
            "text/plain": [
              "<Figure size 432x288 with 1 Axes>"
            ],
            "image/png": "[encoded data removed]"
          },
          "metadata": {}
        }
      ],
      "source": [
        "ax = word_lens.plot.hist(bins=20, title='Number of Words in the ' + column_selected)\n",
        "plot = ax.set_xlabel(\"# Words\")"
      ],
      "id": "3fa6e174"
    },
    {
      "cell_type": "markdown",
      "metadata": {
        "id": "f5560bdd"
      },
      "source": [
        "# Preprocessing\n",
        "- Lower-case text.\n",
        "- Replacing contractions.\n",
        "- Cleaning up special characters.\n",
        "- Removing extra whitespaces.\n",
        "- Removing stopwords.\n",
        "- Lemmatize."
      ],
      "id": "f5560bdd"
    },
    {
      "cell_type": "code",
      "execution_count": null,
      "metadata": {
        "id": "00a3f8f0"
      },
      "outputs": [],
      "source": [
        "class Normalizer:\n",
        "    def __init__(self):\n",
        "        self.stop_words = set(stopwords.words('english'))\n",
        "        self.ps = PorterStemmer() # Create Stemmer\n",
        "        self.word_net = WordNetLemmatizer() #Create Lemmatizer\n",
        "    \n",
        "    def remove_punct(self, text):\n",
        "        text = text.lower() # To lower case\n",
        "        # Replace contractions\n",
        "        text = re.sub(r\"\\'s\", \" is \", text)\n",
        "        text = re.sub(r\"\\'ve\", \" have \", text)\n",
        "        text = re.sub(r\"can't\", \"can not \", text)\n",
        "        text = re.sub(r\"n't\", \" not \", text)\n",
        "        text = re.sub(r\"i'm\", \"i am \", text)\n",
        "        text = re.sub(r\"\\'re\", \" are \", text)\n",
        "        text = re.sub(r\"\\'d\", \" would \", text)\n",
        "        text = re.sub(r\"\\'ll\", \" will \", text)\n",
        "        text = re.sub('\\W', ' ', text) # Replace any character which is not a word character\n",
        "        text = re.sub('\\s+', ' ', text) # Replace any whitespace character\n",
        "        text = re.sub(' +', ' ', text) # Replace multiple whitespaces\n",
        "        text = text.strip() # Delete sorrounding whitespaces\n",
        "        return text\n",
        "    \n",
        "    def tokenize(self, text):\n",
        "        return word_tokenize(text)\n",
        "\n",
        "    \n",
        "    def remove_stop_words(self, tokens):\n",
        "        return [word for word in tokens if not word in self.stop_words] \n",
        "    \n",
        "    def stemming(self, tokens):\n",
        "        return [ps.stem(word) for word in tokens]\n",
        "    \n",
        "    def lemmatize(self, tokens):\n",
        "        return [self.word_net.lemmatize(word) for word in tokens]\n",
        "    \n",
        "    def return_sentences(self, tokens):\n",
        "        return \" \".join(tokens)\n",
        "    \n",
        "    def clean_all(self, text):\n",
        "        text = self.remove_punct(text)\n",
        "        \n",
        "        tokens = self.tokenize(text)\n",
        "        tokens = self.remove_stop_words(tokens)\n",
        "        tokens = self.lemmatize(tokens)\n",
        "        text = self.return_sentences(tokens)\n",
        "        return text"
      ],
      "id": "00a3f8f0"
    },
    {
      "cell_type": "markdown",
      "metadata": {
        "id": "56ee8f16"
      },
      "source": [
        "Create a copy of the dataset to retain original headlines"
      ],
      "id": "56ee8f16"
    },
    {
      "cell_type": "code",
      "execution_count": null,
      "metadata": {
        "id": "bdef70ef"
      },
      "outputs": [],
      "source": [
        "df_final = df.copy()"
      ],
      "id": "bdef70ef"
    },
    {
      "cell_type": "code",
      "execution_count": null,
      "metadata": {
        "id": "MgmYhbt7-Oq-"
      },
      "outputs": [],
      "source": [
        "import nltk"
      ],
      "id": "MgmYhbt7-Oq-"
    },
    {
      "cell_type": "code",
      "execution_count": null,
      "metadata": {
        "colab": {
          "base_uri": "https://localhost:8080/"
        },
        "id": "M8osF54A-Uvq",
        "outputId": "67c9d09e-dd9d-47c7-f246-a2ebe5853eb2"
      },
      "outputs": [
        {
          "output_type": "stream",
          "name": "stderr",
          "text": [
            "[nltk_data] Downloading package stopwords to /root/nltk_data...\n",
            "[nltk_data]   Package stopwords is already up-to-date!\n",
            "[nltk_data] Downloading package punkt to /root/nltk_data...\n",
            "[nltk_data]   Package punkt is already up-to-date!\n",
            "[nltk_data] Downloading package wordnet to /root/nltk_data...\n",
            "[nltk_data]   Package wordnet is already up-to-date!\n",
            "[nltk_data] Downloading package omw-1.4 to /root/nltk_data...\n",
            "[nltk_data]   Package omw-1.4 is already up-to-date!\n"
          ]
        },
        {
          "output_type": "execute_result",
          "data": {
            "text/plain": [
              "True"
            ]
          },
          "metadata": {},
          "execution_count": 173
        }
      ],
      "source": [
        "nltk.download('stopwords')\n",
        "nltk.download('punkt')\n",
        "nltk.download('wordnet')\n",
        "nltk.download('omw-1.4')"
      ],
      "id": "M8osF54A-Uvq"
    },
    {
      "cell_type": "markdown",
      "metadata": {
        "id": "990d5ee2"
      },
      "source": [
        "Apply the normalizer to all the headlines"
      ],
      "id": "990d5ee2"
    },
    {
      "cell_type": "code",
      "execution_count": null,
      "metadata": {
        "colab": {
          "base_uri": "https://localhost:8080/",
          "height": 49,
          "referenced_widgets": [
            "845c4dd674b249bf803b5bcd43725924",
            "d482a9c3e05343f99c7a644ebc86904e",
            "57039f428a7f4ac29c181b9b2fa68d13",
            "c5947e9d785745bc80e5cc772467fde5",
            "e8e1f70ddbfd4d418b7985d35196f258",
            "552c9d0e8b7c4db8ba47cc2c965fb472",
            "1485bfdd7bb442f19fba9c6996ed4cec",
            "21415a831efe4be0a9da8b44f92f9325",
            "0c0f368931224f41a31a4db78de7920b",
            "d6f46cf09ee04e5791deefe684db8bda",
            "c252737f89ce4190b8d641f4d0fbe9b5"
          ]
        },
        "id": "89923686",
        "outputId": "b7af97e2-bc95-4fb3-d318-e9c1ef25b3b9"
      },
      "outputs": [
        {
          "output_type": "display_data",
          "data": {
            "text/plain": [
              "  0%|          | 0/81395 [00:00<?, ?it/s]"
            ],
            "application/vnd.jupyter.widget-view+json": {
              "version_major": 2,
              "version_minor": 0,
              "model_id": "845c4dd674b249bf803b5bcd43725924"
            }
          },
          "metadata": {}
        }
      ],
      "source": [
        "norm = Normalizer()\n",
        "df_final[column_selected] = df_final[column_selected].progress_apply(lambda x: norm.clean_all(x))"
      ],
      "id": "89923686"
    },
    {
      "cell_type": "markdown",
      "metadata": {
        "id": "f2b0d464"
      },
      "source": [
        "Example"
      ],
      "id": "f2b0d464"
    },
    {
      "cell_type": "code",
      "execution_count": null,
      "metadata": {
        "colab": {
          "base_uri": "https://localhost:8080/"
        },
        "id": "a014a80e",
        "outputId": "50f430d4-67e9-4e5b-c725-805ffef6fc2a"
      },
      "outputs": [
        {
          "output_type": "stream",
          "name": "stdout",
          "text": [
            "Original: Ireland Votes To Repeal Abortion Amendment In Landslide Referendum\n",
            "New: ireland vote repeal abortion amendment landslide referendum\n"
          ]
        }
      ],
      "source": [
        "data_no = 14\n",
        "print('Original: ' + df[column_selected].iloc[data_no])\n",
        "print('New: ' + df_final[column_selected].iloc[data_no])"
      ],
      "id": "a014a80e"
    },
    {
      "cell_type": "code",
      "execution_count": null,
      "metadata": {
        "colab": {
          "base_uri": "https://localhost:8080/",
          "height": 363
        },
        "id": "d7f19d4b",
        "outputId": "8f9fb47a-86a5-48e3-cb27-1883381a8470"
      },
      "outputs": [
        {
          "output_type": "display_data",
          "data": {
            "text/plain": [
              "                                                 headline  category\n",
              "200800             sleep library 11 soothing book bedtime         4\n",
              "200802                                 benefit caring pet         4\n",
              "200804                tea time beneath western ghat photo         3\n",
              "200805            beginning surprising advice centenarian         4\n",
              "200838            sundance ice shade american race cinema         0\n",
              "200839  girl dragon tattoo india release canceled loca...         0\n",
              "200849  maria sharapova stunned victoria azarenka aust...         2\n",
              "200850  giant patriot jet colt among improbable super ...         2\n",
              "200851   aldon smith arrested 49ers linebacker busted duo         2\n",
              "200852       dwight howard rip teammate magic loss hornet         2"
            ],
            "text/html": [
              "\n",
              "  <div id=\"df-ba342be2-395f-431a-9058-beb188edcb8c\">\n",
              "    <div class=\"colab-df-container\">\n",
              "      <div>\n",
              "<style scoped>\n",
              "    .dataframe tbody tr th:only-of-type {\n",
              "        vertical-align: middle;\n",
              "    }\n",
              "\n",
              "    .dataframe tbody tr th {\n",
              "        vertical-align: top;\n",
              "    }\n",
              "\n",
              "    .dataframe thead th {\n",
              "        text-align: right;\n",
              "    }\n",
              "</style>\n",
              "<table border=\"1\" class=\"dataframe\">\n",
              "  <thead>\n",
              "    <tr style=\"text-align: right;\">\n",
              "      <th></th>\n",
              "      <th>headline</th>\n",
              "      <th>category</th>\n",
              "    </tr>\n",
              "  </thead>\n",
              "  <tbody>\n",
              "    <tr>\n",
              "      <th>200800</th>\n",
              "      <td>sleep library 11 soothing book bedtime</td>\n",
              "      <td>4</td>\n",
              "    </tr>\n",
              "    <tr>\n",
              "      <th>200802</th>\n",
              "      <td>benefit caring pet</td>\n",
              "      <td>4</td>\n",
              "    </tr>\n",
              "    <tr>\n",
              "      <th>200804</th>\n",
              "      <td>tea time beneath western ghat photo</td>\n",
              "      <td>3</td>\n",
              "    </tr>\n",
              "    <tr>\n",
              "      <th>200805</th>\n",
              "      <td>beginning surprising advice centenarian</td>\n",
              "      <td>4</td>\n",
              "    </tr>\n",
              "    <tr>\n",
              "      <th>200838</th>\n",
              "      <td>sundance ice shade american race cinema</td>\n",
              "      <td>0</td>\n",
              "    </tr>\n",
              "    <tr>\n",
              "      <th>200839</th>\n",
              "      <td>girl dragon tattoo india release canceled loca...</td>\n",
              "      <td>0</td>\n",
              "    </tr>\n",
              "    <tr>\n",
              "      <th>200849</th>\n",
              "      <td>maria sharapova stunned victoria azarenka aust...</td>\n",
              "      <td>2</td>\n",
              "    </tr>\n",
              "    <tr>\n",
              "      <th>200850</th>\n",
              "      <td>giant patriot jet colt among improbable super ...</td>\n",
              "      <td>2</td>\n",
              "    </tr>\n",
              "    <tr>\n",
              "      <th>200851</th>\n",
              "      <td>aldon smith arrested 49ers linebacker busted duo</td>\n",
              "      <td>2</td>\n",
              "    </tr>\n",
              "    <tr>\n",
              "      <th>200852</th>\n",
              "      <td>dwight howard rip teammate magic loss hornet</td>\n",
              "      <td>2</td>\n",
              "    </tr>\n",
              "  </tbody>\n",
              "</table>\n",
              "</div>\n",
              "      <button class=\"colab-df-convert\" onclick=\"convertToInteractive('df-ba342be2-395f-431a-9058-beb188edcb8c')\"\n",
              "              title=\"Convert this dataframe to an interactive table.\"\n",
              "              style=\"display:none;\">\n",
              "        \n",
              "  <svg xmlns=\"http://www.w3.org/2000/svg\" height=\"24px\"viewBox=\"0 0 24 24\"\n",
              "       width=\"24px\">\n",
              "    <path d=\"M0 0h24v24H0V0z\" fill=\"none\"/>\n",
              "    <path d=\"M18.56 5.44l.94 2.06.94-2.06 2.06-.94-2.06-.94-.94-2.06-.94 2.06-2.06.94zm-11 1L8.5 8.5l.94-2.06 2.06-.94-2.06-.94L8.5 2.5l-.94 2.06-2.06.94zm10 10l.94 2.06.94-2.06 2.06-.94-2.06-.94-.94-2.06-.94 2.06-2.06.94z\"/><path d=\"M17.41 7.96l-1.37-1.37c-.4-.4-.92-.59-1.43-.59-.52 0-1.04.2-1.43.59L10.3 9.45l-7.72 7.72c-.78.78-.78 2.05 0 2.83L4 21.41c.39.39.9.59 1.41.59.51 0 1.02-.2 1.41-.59l7.78-7.78 2.81-2.81c.8-.78.8-2.07 0-2.86zM5.41 20L4 18.59l7.72-7.72 1.47 1.35L5.41 20z\"/>\n",
              "  </svg>\n",
              "      </button>\n",
              "      \n",
              "  <style>\n",
              "    .colab-df-container {\n",
              "      display:flex;\n",
              "      flex-wrap:wrap;\n",
              "      gap: 12px;\n",
              "    }\n",
              "\n",
              "    .colab-df-convert {\n",
              "      background-color: #E8F0FE;\n",
              "      border: none;\n",
              "      border-radius: 50%;\n",
              "      cursor: pointer;\n",
              "      display: none;\n",
              "      fill: #1967D2;\n",
              "      height: 32px;\n",
              "      padding: 0 0 0 0;\n",
              "      width: 32px;\n",
              "    }\n",
              "\n",
              "    .colab-df-convert:hover {\n",
              "      background-color: #E2EBFA;\n",
              "      box-shadow: 0px 1px 2px rgba(60, 64, 67, 0.3), 0px 1px 3px 1px rgba(60, 64, 67, 0.15);\n",
              "      fill: #174EA6;\n",
              "    }\n",
              "\n",
              "    [theme=dark] .colab-df-convert {\n",
              "      background-color: #3B4455;\n",
              "      fill: #D2E3FC;\n",
              "    }\n",
              "\n",
              "    [theme=dark] .colab-df-convert:hover {\n",
              "      background-color: #434B5C;\n",
              "      box-shadow: 0px 1px 3px 1px rgba(0, 0, 0, 0.15);\n",
              "      filter: drop-shadow(0px 1px 2px rgba(0, 0, 0, 0.3));\n",
              "      fill: #FFFFFF;\n",
              "    }\n",
              "  </style>\n",
              "\n",
              "      <script>\n",
              "        const buttonEl =\n",
              "          document.querySelector('#df-ba342be2-395f-431a-9058-beb188edcb8c button.colab-df-convert');\n",
              "        buttonEl.style.display =\n",
              "          google.colab.kernel.accessAllowed ? 'block' : 'none';\n",
              "\n",
              "        async function convertToInteractive(key) {\n",
              "          const element = document.querySelector('#df-ba342be2-395f-431a-9058-beb188edcb8c');\n",
              "          const dataTable =\n",
              "            await google.colab.kernel.invokeFunction('convertToInteractive',\n",
              "                                                     [key], {});\n",
              "          if (!dataTable) return;\n",
              "\n",
              "          const docLinkHtml = 'Like what you see? Visit the ' +\n",
              "            '<a target=\"_blank\" href=https://colab.research.google.com/notebooks/data_table.ipynb>data table notebook</a>'\n",
              "            + ' to learn more about interactive tables.';\n",
              "          element.innerHTML = '';\n",
              "          dataTable['output_type'] = 'display_data';\n",
              "          await google.colab.output.renderOutput(dataTable, element);\n",
              "          const docLink = document.createElement('div');\n",
              "          docLink.innerHTML = docLinkHtml;\n",
              "          element.appendChild(docLink);\n",
              "        }\n",
              "      </script>\n",
              "    </div>\n",
              "  </div>\n",
              "  "
            ]
          },
          "metadata": {}
        }
      ],
      "source": [
        "display(df_final.tail(10))"
      ],
      "id": "d7f19d4b"
    },
    {
      "cell_type": "code",
      "execution_count": null,
      "metadata": {
        "colab": {
          "base_uri": "https://localhost:8080/"
        },
        "id": "i3IDQhTLRqce",
        "outputId": "cbcc1cc4-42c4-4bac-fde7-1fbd5c674f35"
      },
      "outputs": [
        {
          "output_type": "execute_result",
          "data": {
            "text/plain": [
              "[0, 1, 2, 3, 4]"
            ]
          },
          "metadata": {},
          "execution_count": 177
        }
      ],
      "source": [
        "df_final['category'].unique().tolist()"
      ],
      "id": "i3IDQhTLRqce"
    },
    {
      "cell_type": "code",
      "execution_count": null,
      "metadata": {
        "colab": {
          "base_uri": "https://localhost:8080/"
        },
        "id": "ps8mMpFV__e0",
        "outputId": "e8b102c2-9a79-4764-8002-b1b11e13251e"
      },
      "outputs": [
        {
          "output_type": "execute_result",
          "data": {
            "text/plain": [
              "(81395, 2)"
            ]
          },
          "metadata": {},
          "execution_count": 93
        }
      ],
      "source": [
        "df_final.shape"
      ],
      "id": "ps8mMpFV__e0"
    },
    {
      "cell_type": "markdown",
      "metadata": {
        "id": "1bff37e5"
      },
      "source": [
        "## Split Train and Test\n",
        "Train (80%) and Test (20%). Stratified to maintain the proportion of the labels"
      ],
      "id": "1bff37e5"
    },
    {
      "cell_type": "code",
      "execution_count": null,
      "metadata": {
        "colab": {
          "base_uri": "https://localhost:8080/"
        },
        "id": "3ea6420f",
        "outputId": "3a46806b-6457-4246-dbd3-46eba1412e26"
      },
      "outputs": [
        {
          "output_type": "stream",
          "name": "stdout",
          "text": [
            "1         0\n",
            "2         0\n",
            "3         0\n",
            "4         0\n",
            "5         0\n",
            "         ..\n",
            "200839    0\n",
            "200849    2\n",
            "200850    2\n",
            "200851    2\n",
            "200852    2\n",
            "Name: category, Length: 81395, dtype: int64\n"
          ]
        }
      ],
      "source": [
        "X = df_final[column_selected]\n",
        "y = df_final.category\n",
        "print(y)\n"
      ],
      "id": "3ea6420f"
    },
    {
      "cell_type": "code",
      "execution_count": null,
      "metadata": {
        "id": "a7vGOq7QVXrm"
      },
      "outputs": [],
      "source": [],
      "id": "a7vGOq7QVXrm"
    },
    {
      "cell_type": "code",
      "execution_count": null,
      "metadata": {
        "colab": {
          "base_uri": "https://localhost:8080/"
        },
        "id": "t0f0biLnBMy7",
        "outputId": "b6fe5385-9fd9-4214-e561-2649a127559f"
      },
      "outputs": [
        {
          "output_type": "stream",
          "name": "stdout",
          "text": [
            "Shape train: (65116,)\n",
            "Shape test: (16279,)\n"
          ]
        }
      ],
      "source": [
        "X_train, X_test, y_train, y_test = train_test_split(X, y, test_size=0.2, random_state=9, stratify=y)\n",
        "print('Shape train: ' + str(X_train.shape))\n",
        "print('Shape test: ' + str(X_test.shape))"
      ],
      "id": "t0f0biLnBMy7"
    },
    {
      "cell_type": "markdown",
      "metadata": {
        "id": "bdf37e1e"
      },
      "source": [
        "# Encoding"
      ],
      "id": "bdf37e1e"
    },
    {
      "cell_type": "markdown",
      "metadata": {
        "id": "5c80a6ad"
      },
      "source": [
        "## Text encoding - TF-IDF\n",
        "\n",
        "Apply Tf-Idf strategy to encode the text\n",
        "\n",
        "Ignore words that appear in less than 10 documents and more than 80% of the documents"
      ],
      "id": "5c80a6ad"
    },
    {
      "cell_type": "code",
      "execution_count": null,
      "metadata": {
        "id": "e04f86b4"
      },
      "outputs": [],
      "source": [
        "# from sklearn.feature_extraction.text import CountVectorizer, TfidfTransformer\n",
        "\n",
        "# tfidf = TfidfVectorizer(max_df=0.8, min_df=10, use_idf=True, smooth_idf=True, sublinear_tf=True)\n",
        "# X_train_enc = tfidf.fit_transform(X_train)\n",
        "# X_test_enc = tfidf.fit_transform(X_test)\n",
        "\n",
        "# data_no = 5\n",
        "# print('Size of the Vocabulary for train data: ' + str(X_train_enc.shape[1]))\n",
        "# print('Size of the Vocabulary for test data: ' + str(X_test_enc.shape[1]))\n",
        "# print('Original: ' + X_train.iloc[data_no])\n",
        "# print('Encoded: ' + str(X_train_enc[data_no]))"
      ],
      "id": "e04f86b4"
    },
    {
      "cell_type": "code",
      "execution_count": null,
      "metadata": {
        "colab": {
          "base_uri": "https://localhost:8080/"
        },
        "id": "ICCL_oDk15B2",
        "outputId": "266950f1-dad1-4c09-ef56-d281100258cc"
      },
      "outputs": [
        {
          "output_type": "stream",
          "name": "stdout",
          "text": [
            "Size of the Vocabulary for train data: 5910\n",
            "Size of the Vocabulary for test data: 5910\n",
            "Original: 50 000 trip hawaii look like\n",
            "Encoded:   (0, 3125)\t0.3359623491772339\n",
            "  (0, 3177)\t0.3610695502257701\n",
            "  (0, 2436)\t0.4660172973617114\n",
            "  (0, 5496)\t0.39746934718535953\n",
            "  (0, 0)\t0.4282536202374546\n",
            "  (0, 62)\t0.44519985758793656\n"
          ]
        }
      ],
      "source": [
        "from sklearn.feature_extraction.text import CountVectorizer, TfidfTransformer\n",
        "\n",
        "tfidf = TfidfVectorizer(max_df=0.8, min_df=10, use_idf=True, smooth_idf=True, sublinear_tf=True)\n",
        "X_train_enc = tfidf.fit_transform(X_train)\n",
        "X_test_enc = tfidf.transform(X_test)\n",
        "\n",
        "\n",
        "data_no = 5\n",
        "print('Size of the Vocabulary for train data: ' + str(X_train_enc.shape[1]))\n",
        "print('Size of the Vocabulary for test data: ' + str(X_test_enc.shape[1]))\n",
        "print('Original: ' + X_train.iloc[data_no])\n",
        "print('Encoded: ' + str(X_train_enc[data_no]))"
      ],
      "id": "ICCL_oDk15B2"
    },
    {
      "cell_type": "code",
      "execution_count": null,
      "metadata": {
        "id": "HdFAueAswggl"
      },
      "outputs": [],
      "source": [
        "# from sklearn.feature_extraction.text import CountVectorizer\n",
        "\n",
        "# vectorizer = CountVectorizer()\n",
        "# vectorizer.fit(X_train) \n",
        "\n",
        "# X_train_enc = vectorizer.transform(X_train)\n",
        "# X_test_enc = vectorizer.transform(X_test)\n",
        "\n",
        "# data_no = 5\n",
        "# print('Size of the Vocabulary for train data: ' + str(X_train_enc.shape[1]))\n",
        "# print('Size of the Vocabulary for test data: ' + str(X_test_enc.shape[1]))\n",
        "# print('Original: ' + X_train.iloc[data_no])\n",
        "# print('Encoded: ' + str(X_train_enc[data_no]))"
      ],
      "id": "HdFAueAswggl"
    },
    {
      "cell_type": "code",
      "execution_count": null,
      "metadata": {
        "colab": {
          "base_uri": "https://localhost:8080/"
        },
        "id": "bcKXehzzv54t",
        "outputId": "a50cfe37-2bb8-4154-b233-29b8bd55ec5c"
      },
      "outputs": [
        {
          "output_type": "stream",
          "name": "stdout",
          "text": [
            "  (0, 5838)\t0.30708230255674207\n",
            "  (0, 4132)\t0.42230270407454656\n",
            "  (0, 3775)\t0.5692519750175791\n",
            "  (0, 3368)\t0.4317214265307296\n",
            "  (0, 1951)\t0.35498012739376206\n",
            "  (0, 267)\t0.3015274341683382\n"
          ]
        }
      ],
      "source": [
        "print(X_test_enc[0])"
      ],
      "id": "bcKXehzzv54t"
    },
    {
      "cell_type": "markdown",
      "metadata": {
        "id": "39ffee51"
      },
      "source": [
        "## Users encoding"
      ],
      "id": "39ffee51"
    },
    {
      "cell_type": "markdown",
      "metadata": {
        "id": "01deb71a"
      },
      "source": [
        "Use Users class to generate and encode the users as a dictionary"
      ],
      "id": "01deb71a"
    },
    {
      "cell_type": "code",
      "execution_count": null,
      "metadata": {
        "id": "8c52e1b0"
      },
      "outputs": [],
      "source": [
        "class Users:\n",
        "    # Receives a number of users and classes (interests)\n",
        "    def __init__(self, n_users, classes):\n",
        "        if n_users == 0:\n",
        "            self.users = {}\n",
        "        else:\n",
        "            self.users = self.create_users(n_users, classes)\n",
        "        \n",
        "    def create_users(self, n_users, classes):\n",
        "        users = [('user_' + str(i), random.sample(classes, \n",
        "                                                  random.randint(1,5))) for i in range(1, n_users + 1)]\n",
        "        return dict(users)\n",
        "        \n",
        "    def add_user(self, user_name, topics_list):\n",
        "        self.users[user_name] = topics_list\n",
        "    \n",
        "    def delete_user(self, user_name):\n",
        "        del self.users[user_name]\n",
        "    \n",
        "    def get_preferences(self, user_name):\n",
        "        return self.users[user_name]\n",
        "    \n",
        "    def get_users_names(self):\n",
        "        return list(self.users.keys())\n",
        "    \n",
        "    def get_items(self):\n",
        "        return self.users.items()"
      ],
      "id": "8c52e1b0"
    },
    {
      "cell_type": "markdown",
      "metadata": {
        "id": "bf883244"
      },
      "source": [
        "Generate random users"
      ],
      "id": "bf883244"
    },
    {
      "cell_type": "code",
      "execution_count": null,
      "metadata": {
        "colab": {
          "base_uri": "https://localhost:8080/",
          "height": 885
        },
        "id": "d43a72c9",
        "outputId": "bf9bc2a9-6e06-484f-f8c6-a17f5bbee004"
      },
      "outputs": [
        {
          "output_type": "display_data",
          "data": {
            "text/plain": [
              "{'user_1': ['TRAVEL', 'WELLNESS', 'ENTERTAINMENT'],\n",
              " 'user_10': ['SPORTS', 'POLITICS', 'TRAVEL', 'ENTERTAINMENT', 'WELLNESS'],\n",
              " 'user_11': ['ENTERTAINMENT', 'TRAVEL', 'SPORTS'],\n",
              " 'user_12': ['TRAVEL', 'POLITICS', 'ENTERTAINMENT'],\n",
              " 'user_13': ['TRAVEL', 'POLITICS', 'ENTERTAINMENT', 'SPORTS', 'WELLNESS'],\n",
              " 'user_14': ['POLITICS', 'TRAVEL'],\n",
              " 'user_15': ['ENTERTAINMENT', 'POLITICS', 'SPORTS', 'TRAVEL', 'WELLNESS'],\n",
              " 'user_16': ['TRAVEL', 'ENTERTAINMENT', 'WELLNESS', 'SPORTS'],\n",
              " 'user_17': ['ENTERTAINMENT', 'POLITICS'],\n",
              " 'user_18': ['ENTERTAINMENT', 'POLITICS', 'SPORTS'],\n",
              " 'user_19': ['WELLNESS'],\n",
              " 'user_2': ['TRAVEL', 'POLITICS', 'ENTERTAINMENT', 'SPORTS', 'WELLNESS'],\n",
              " 'user_20': ['POLITICS'],\n",
              " 'user_21': ['WELLNESS', 'ENTERTAINMENT', 'TRAVEL', 'SPORTS', 'POLITICS'],\n",
              " 'user_22': ['SPORTS', 'ENTERTAINMENT', 'TRAVEL', 'POLITICS'],\n",
              " 'user_23': ['POLITICS'],\n",
              " 'user_24': ['ENTERTAINMENT', 'WELLNESS', 'TRAVEL', 'SPORTS'],\n",
              " 'user_25': ['WELLNESS', 'POLITICS', 'TRAVEL', 'SPORTS'],\n",
              " 'user_26': ['WELLNESS'],\n",
              " 'user_27': ['POLITICS', 'ENTERTAINMENT', 'SPORTS'],\n",
              " 'user_28': ['SPORTS', 'WELLNESS', 'TRAVEL', 'POLITICS', 'ENTERTAINMENT'],\n",
              " 'user_29': ['WELLNESS'],\n",
              " 'user_3': ['ENTERTAINMENT'],\n",
              " 'user_30': ['TRAVEL'],\n",
              " 'user_31': ['TRAVEL', 'SPORTS', 'WELLNESS', 'POLITICS', 'ENTERTAINMENT'],\n",
              " 'user_32': ['ENTERTAINMENT', 'WELLNESS', 'POLITICS'],\n",
              " 'user_33': ['POLITICS', 'WELLNESS', 'SPORTS', 'TRAVEL'],\n",
              " 'user_34': ['SPORTS'],\n",
              " 'user_35': ['WELLNESS', 'ENTERTAINMENT', 'POLITICS', 'SPORTS'],\n",
              " 'user_36': ['SPORTS', 'TRAVEL'],\n",
              " 'user_37': ['SPORTS', 'TRAVEL', 'POLITICS'],\n",
              " 'user_38': ['WELLNESS', 'SPORTS', 'POLITICS', 'TRAVEL', 'ENTERTAINMENT'],\n",
              " 'user_39': ['WELLNESS', 'POLITICS', 'ENTERTAINMENT', 'SPORTS'],\n",
              " 'user_4': ['SPORTS', 'WELLNESS', 'ENTERTAINMENT', 'TRAVEL'],\n",
              " 'user_40': ['WELLNESS', 'TRAVEL', 'ENTERTAINMENT', 'SPORTS'],\n",
              " 'user_41': ['TRAVEL', 'POLITICS', 'ENTERTAINMENT', 'SPORTS'],\n",
              " 'user_42': ['ENTERTAINMENT'],\n",
              " 'user_43': ['SPORTS'],\n",
              " 'user_44': ['TRAVEL', 'SPORTS', 'ENTERTAINMENT'],\n",
              " 'user_45': ['WELLNESS'],\n",
              " 'user_46': ['TRAVEL', 'SPORTS', 'WELLNESS', 'ENTERTAINMENT'],\n",
              " 'user_47': ['ENTERTAINMENT', 'WELLNESS', 'TRAVEL'],\n",
              " 'user_48': ['WELLNESS', 'SPORTS', 'TRAVEL', 'ENTERTAINMENT'],\n",
              " 'user_49': ['ENTERTAINMENT'],\n",
              " 'user_5': ['POLITICS', 'SPORTS', 'TRAVEL', 'WELLNESS', 'ENTERTAINMENT'],\n",
              " 'user_50': ['SPORTS', 'ENTERTAINMENT', 'TRAVEL', 'WELLNESS'],\n",
              " 'user_6': ['SPORTS', 'TRAVEL'],\n",
              " 'user_7': ['WELLNESS', 'TRAVEL', 'SPORTS'],\n",
              " 'user_8': ['WELLNESS', 'SPORTS'],\n",
              " 'user_9': ['POLITICS']}"
            ]
          },
          "metadata": {}
        }
      ],
      "source": [
        "users = Users(50, classes)\n",
        "display(users.users)"
      ],
      "id": "d43a72c9"
    },
    {
      "cell_type": "markdown",
      "metadata": {
        "id": "9741bca4"
      },
      "source": [
        "# Modelling"
      ],
      "id": "9741bca4"
    },
    {
      "cell_type": "markdown",
      "metadata": {
        "id": "e38d5488"
      },
      "source": [
        "Train 3 different models"
      ],
      "id": "e38d5488"
    },
    {
      "cell_type": "markdown",
      "metadata": {
        "id": "OGvUFTYSVVB4"
      },
      "source": [
        "## Neural Network"
      ],
      "id": "OGvUFTYSVVB4"
    },
    {
      "cell_type": "code",
      "execution_count": null,
      "metadata": {
        "id": "tvvOSMuy7EP4"
      },
      "outputs": [],
      "source": [
        "# !pip install tensorflow==2.6.4"
      ],
      "id": "tvvOSMuy7EP4"
    },
    {
      "cell_type": "code",
      "execution_count": null,
      "metadata": {
        "id": "6mgLSEzkrp6o"
      },
      "outputs": [],
      "source": [
        "from tensorflow.keras.utils import to_categorical\n",
        "\n",
        "\n",
        "y_train_one_hot_encoder = to_categorical(y_train)\n",
        "y_test_one_hot_encoder = to_categorical(y_test)"
      ],
      "id": "6mgLSEzkrp6o"
    },
    {
      "cell_type": "code",
      "execution_count": null,
      "metadata": {
        "id": "z9p3jAzAcORG"
      },
      "outputs": [],
      "source": [
        "X_train_enc = X_train_enc.sorted_indices()\n",
        "X_test_enc = X_test_enc.sorted_indices()"
      ],
      "id": "z9p3jAzAcORG"
    },
    {
      "cell_type": "code",
      "execution_count": null,
      "metadata": {
        "colab": {
          "base_uri": "https://localhost:8080/"
        },
        "id": "J9FSPfSCVDds",
        "outputId": "06129f18-17da-4e94-ae8d-396367dd459c"
      },
      "outputs": [
        {
          "name": "stdout",
          "output_type": "stream",
          "text": [
            "Model: \"sequential_4\"\n",
            "_________________________________________________________________\n",
            " Layer (type)                Output Shape              Param #   \n",
            "=================================================================\n",
            " dense_24 (Dense)            (None, 256)               1513216   \n",
            "                                                                 \n",
            " dropout_20 (Dropout)        (None, 256)               0         \n",
            "                                                                 \n",
            " dense_25 (Dense)            (None, 200)               51400     \n",
            "                                                                 \n",
            " dropout_21 (Dropout)        (None, 200)               0         \n",
            "                                                                 \n",
            " dense_26 (Dense)            (None, 160)               32160     \n",
            "                                                                 \n",
            " dropout_22 (Dropout)        (None, 160)               0         \n",
            "                                                                 \n",
            " dense_27 (Dense)            (None, 120)               19320     \n",
            "                                                                 \n",
            " dropout_23 (Dropout)        (None, 120)               0         \n",
            "                                                                 \n",
            " dense_28 (Dense)            (None, 80)                9680      \n",
            "                                                                 \n",
            " dropout_24 (Dropout)        (None, 80)                0         \n",
            "                                                                 \n",
            " dense_29 (Dense)            (None, 5)                 405       \n",
            "                                                                 \n",
            "=================================================================\n",
            "Total params: 1,626,181\n",
            "Trainable params: 1,626,181\n",
            "Non-trainable params: 0\n",
            "_________________________________________________________________\n"
          ]
        }
      ],
      "source": [
        "import keras\n",
        "from keras.models import Sequential\n",
        "from keras.layers import Dense, Dropout\n",
        "from keras.wrappers.scikit_learn import KerasClassifier\n",
        "import seaborn as sns\n",
        "def get_model():\n",
        "    \n",
        "    # Neural network\n",
        "    model = Sequential()\n",
        "    model.add(Dense(256, input_shape=(X_train_enc.shape[1],), activation='relu'))\n",
        "    model.add(Dropout(0.3))\n",
        "    model.add(Dense(200, activation='relu'))\n",
        "    model.add(Dropout(0.3))\n",
        "    model.add(Dense(160, activation='relu'))\n",
        "    model.add(Dropout(0.3))\n",
        "    model.add(Dense(120, activation='relu'))\n",
        "    model.add(Dropout(0.3))\n",
        "    model.add(Dense(80, activation='relu'))\n",
        "    model.add(Dropout(0.3))\n",
        "    model.add(Dense(5, activation='softmax'))\n",
        "    \n",
        "    model.compile(loss='categorical_crossentropy', optimizer='adam', metrics=['accuracy'])\n",
        "    model.summary()\n",
        "    return model\n",
        "model = get_model()\n"
      ],
      "id": "J9FSPfSCVDds"
    },
    {
      "cell_type": "markdown",
      "metadata": {
        "id": "VqIBFKNtumPp"
      },
      "source": [
        "#### Plotting model architecture"
      ],
      "id": "VqIBFKNtumPp"
    },
    {
      "cell_type": "code",
      "execution_count": null,
      "metadata": {
        "colab": {
          "base_uri": "https://localhost:8080/",
          "height": 1000
        },
        "id": "UzE2qBgFukbp",
        "outputId": "123e2fbf-931b-4ddc-df72-56182b677955"
      },
      "outputs": [
        {
          "data": {
            "image/png": "[encoded data removed]",
            "text/plain": [
              "<IPython.core.display.Image object>"
            ]
          },
          "execution_count": 37,
          "metadata": {},
          "output_type": "execute_result"
        }
      ],
      "source": [
        "tf.keras.utils.plot_model(\n",
        "    model,\n",
        "    to_file=\"/content/drive/MyDrive/Thesis_Code/nn_model.png\",\n",
        "    show_shapes=True,\n",
        "    show_dtype=False,\n",
        "    show_layer_names=True,\n",
        "    rankdir=\"TB\",\n",
        "    expand_nested=False,\n",
        "    dpi=100,\n",
        "    layer_range=None,\n",
        "    show_layer_activations=False,\n",
        ")"
      ],
      "id": "UzE2qBgFukbp"
    },
    {
      "cell_type": "code",
      "execution_count": null,
      "metadata": {
        "colab": {
          "background_save": true,
          "base_uri": "https://localhost:8080/"
        },
        "id": "C0Ac3_B4hSIC",
        "outputId": "70308b00-60a1-429b-c41e-b3861041545c"
      },
      "outputs": [
        {
          "name": "stdout",
          "output_type": "stream",
          "text": [
            "Compile model ...\n",
            "Epoch 1/70\n"
          ]
        },
        {
          "name": "stderr",
          "output_type": "stream",
          "text": [
            "/usr/local/lib/python3.7/dist-packages/tensorflow/python/framework/indexed_slices.py:446: UserWarning: Converting sparse IndexedSlices(IndexedSlices(indices=Tensor(\"gradient_tape/sequential_4/dense_24/embedding_lookup_sparse/Reshape_1:0\", shape=(None,), dtype=int32), values=Tensor(\"gradient_tape/sequential_4/dense_24/embedding_lookup_sparse/Reshape:0\", shape=(None, 256), dtype=float32), dense_shape=Tensor(\"gradient_tape/sequential_4/dense_24/embedding_lookup_sparse/Cast:0\", shape=(2,), dtype=int32))) to a dense Tensor of unknown shape. This may consume a large amount of memory.\n",
            "  \"shape. This may consume a large amount of memory.\" % value)\n"
          ]
        },
        {
          "name": "stdout",
          "output_type": "stream",
          "text": [
            "2035/2035 [==============================] - 24s 8ms/step - loss: 0.6388 - accuracy: 0.7795 - val_loss: 0.4103 - val_accuracy: 0.8708\n",
            "Epoch 2/70\n",
            "2035/2035 [==============================] - 11s 5ms/step - loss: 0.3515 - accuracy: 0.8941 - val_loss: 0.4047 - val_accuracy: 0.8714\n",
            "Epoch 3/70\n",
            "2035/2035 [==============================] - 11s 5ms/step - loss: 0.2482 - accuracy: 0.9249 - val_loss: 0.4216 - val_accuracy: 0.8722\n",
            "Epoch 4/70\n",
            "2035/2035 [==============================] - 12s 6ms/step - loss: 0.1723 - accuracy: 0.9499 - val_loss: 0.4823 - val_accuracy: 0.8717\n",
            "Epoch 5/70\n",
            "2035/2035 [==============================] - 11s 6ms/step - loss: 0.1147 - accuracy: 0.9653 - val_loss: 0.5763 - val_accuracy: 0.8731\n",
            "Epoch 6/70\n",
            "2035/2035 [==============================] - 12s 6ms/step - loss: 0.0886 - accuracy: 0.9732 - val_loss: 0.7344 - val_accuracy: 0.8705\n",
            "Epoch 7/70\n",
            "2035/2035 [==============================] - 12s 6ms/step - loss: 0.0684 - accuracy: 0.9793 - val_loss: 0.7318 - val_accuracy: 0.8690\n",
            "Epoch 8/70\n",
            "2035/2035 [==============================] - 12s 6ms/step - loss: 0.0559 - accuracy: 0.9829 - val_loss: 0.8444 - val_accuracy: 0.8666\n",
            "Epoch 9/70\n",
            "2035/2035 [==============================] - 12s 6ms/step - loss: 0.0470 - accuracy: 0.9855 - val_loss: 0.8073 - val_accuracy: 0.8678\n",
            "Epoch 10/70\n",
            "2035/2035 [==============================] - 13s 6ms/step - loss: 0.0421 - accuracy: 0.9874 - val_loss: 0.8956 - val_accuracy: 0.8686\n",
            "Epoch 11/70\n",
            "2035/2035 [==============================] - 12s 6ms/step - loss: 0.0384 - accuracy: 0.9885 - val_loss: 1.0308 - val_accuracy: 0.8675\n",
            "Epoch 12/70\n",
            "2035/2035 [==============================] - 12s 6ms/step - loss: 0.0319 - accuracy: 0.9900 - val_loss: 1.2835 - val_accuracy: 0.8665\n",
            "Epoch 13/70\n",
            "2035/2035 [==============================] - 12s 6ms/step - loss: 0.0319 - accuracy: 0.9901 - val_loss: 1.1284 - val_accuracy: 0.8685\n",
            "Epoch 14/70\n",
            "2035/2035 [==============================] - 14s 7ms/step - loss: 0.0313 - accuracy: 0.9907 - val_loss: 1.1421 - val_accuracy: 0.8701\n",
            "Epoch 15/70\n",
            "2035/2035 [==============================] - 13s 6ms/step - loss: 0.0277 - accuracy: 0.9918 - val_loss: 1.1944 - val_accuracy: 0.8698\n",
            "Epoch 16/70\n",
            "2035/2035 [==============================] - 11s 6ms/step - loss: 0.0271 - accuracy: 0.9918 - val_loss: 1.2583 - val_accuracy: 0.8694\n",
            "Epoch 17/70\n",
            "2035/2035 [==============================] - 12s 6ms/step - loss: 0.0257 - accuracy: 0.9925 - val_loss: 1.2368 - val_accuracy: 0.8688\n",
            "Epoch 18/70\n",
            "2035/2035 [==============================] - 12s 6ms/step - loss: 0.0234 - accuracy: 0.9927 - val_loss: 1.2029 - val_accuracy: 0.8690\n",
            "Epoch 19/70\n",
            "2035/2035 [==============================] - 12s 6ms/step - loss: 0.0236 - accuracy: 0.9928 - val_loss: 1.5867 - val_accuracy: 0.8697\n",
            "Epoch 20/70\n",
            "2035/2035 [==============================] - 13s 6ms/step - loss: 0.0221 - accuracy: 0.9930 - val_loss: 1.4427 - val_accuracy: 0.8686\n",
            "Epoch 21/70\n",
            "2035/2035 [==============================] - 12s 6ms/step - loss: 0.0220 - accuracy: 0.9932 - val_loss: 1.6106 - val_accuracy: 0.8659\n",
            "Epoch 22/70\n",
            "2035/2035 [==============================] - 12s 6ms/step - loss: 0.0227 - accuracy: 0.9930 - val_loss: 1.3367 - val_accuracy: 0.8668\n",
            "Epoch 23/70\n",
            "2035/2035 [==============================] - 12s 6ms/step - loss: 0.0216 - accuracy: 0.9931 - val_loss: 1.3514 - val_accuracy: 0.8675\n",
            "Epoch 24/70\n",
            "2035/2035 [==============================] - 11s 6ms/step - loss: 0.0212 - accuracy: 0.9936 - val_loss: 1.5370 - val_accuracy: 0.8677\n",
            "Epoch 25/70\n",
            "2035/2035 [==============================] - 12s 6ms/step - loss: 0.0202 - accuracy: 0.9937 - val_loss: 2.0900 - val_accuracy: 0.8690\n",
            "Epoch 26/70\n",
            "2035/2035 [==============================] - 11s 6ms/step - loss: 0.0215 - accuracy: 0.9938 - val_loss: 1.5078 - val_accuracy: 0.8685\n",
            "Epoch 27/70\n",
            "2035/2035 [==============================] - 12s 6ms/step - loss: 0.0186 - accuracy: 0.9941 - val_loss: 1.7118 - val_accuracy: 0.8679\n",
            "Epoch 28/70\n",
            "2035/2035 [==============================] - 12s 6ms/step - loss: 0.0188 - accuracy: 0.9939 - val_loss: 1.9665 - val_accuracy: 0.8678\n",
            "Epoch 29/70\n",
            "2035/2035 [==============================] - 12s 6ms/step - loss: 0.0228 - accuracy: 0.9937 - val_loss: 1.4131 - val_accuracy: 0.8698\n",
            "Epoch 30/70\n",
            "2035/2035 [==============================] - 12s 6ms/step - loss: 0.0175 - accuracy: 0.9944 - val_loss: 1.7949 - val_accuracy: 0.8690\n",
            "Epoch 31/70\n",
            "2035/2035 [==============================] - 12s 6ms/step - loss: 0.0192 - accuracy: 0.9943 - val_loss: 1.9085 - val_accuracy: 0.8682\n",
            "Epoch 32/70\n",
            "2035/2035 [==============================] - 12s 6ms/step - loss: 0.0181 - accuracy: 0.9941 - val_loss: 1.9345 - val_accuracy: 0.8685\n",
            "Epoch 33/70\n",
            "2035/2035 [==============================] - 12s 6ms/step - loss: 0.0193 - accuracy: 0.9942 - val_loss: 1.8069 - val_accuracy: 0.8684\n",
            "Epoch 34/70\n",
            "2035/2035 [==============================] - 11s 6ms/step - loss: 0.0176 - accuracy: 0.9944 - val_loss: 1.7936 - val_accuracy: 0.8677\n",
            "Epoch 35/70\n",
            "2035/2035 [==============================] - 11s 6ms/step - loss: 0.0180 - accuracy: 0.9943 - val_loss: 1.9448 - val_accuracy: 0.8671\n",
            "Epoch 36/70\n",
            "2035/2035 [==============================] - 12s 6ms/step - loss: 0.0151 - accuracy: 0.9949 - val_loss: 2.5507 - val_accuracy: 0.8682\n",
            "Epoch 37/70\n",
            "2035/2035 [==============================] - 11s 6ms/step - loss: 0.0173 - accuracy: 0.9942 - val_loss: 2.4203 - val_accuracy: 0.8671\n",
            "Epoch 38/70\n",
            "2035/2035 [==============================] - 12s 6ms/step - loss: 0.0196 - accuracy: 0.9943 - val_loss: 2.2404 - val_accuracy: 0.8669\n",
            "Epoch 39/70\n",
            "2035/2035 [==============================] - 12s 6ms/step - loss: 0.0172 - accuracy: 0.9945 - val_loss: 2.1731 - val_accuracy: 0.8662\n",
            "Epoch 40/70\n",
            "2035/2035 [==============================] - 12s 6ms/step - loss: 0.0169 - accuracy: 0.9945 - val_loss: 2.1946 - val_accuracy: 0.8661\n",
            "Epoch 41/70\n",
            "2035/2035 [==============================] - 12s 6ms/step - loss: 0.0166 - accuracy: 0.9945 - val_loss: 2.2132 - val_accuracy: 0.8684\n",
            "Epoch 42/70\n",
            "2035/2035 [==============================] - 12s 6ms/step - loss: 0.0169 - accuracy: 0.9946 - val_loss: 2.1548 - val_accuracy: 0.8667\n",
            "Epoch 43/70\n",
            "2035/2035 [==============================] - 12s 6ms/step - loss: 0.0161 - accuracy: 0.9944 - val_loss: 2.3130 - val_accuracy: 0.8673\n",
            "Epoch 44/70\n",
            "2035/2035 [==============================] - 12s 6ms/step - loss: 0.0172 - accuracy: 0.9945 - val_loss: 2.3036 - val_accuracy: 0.8659\n",
            "Epoch 45/70\n",
            "2035/2035 [==============================] - 11s 6ms/step - loss: 0.0158 - accuracy: 0.9947 - val_loss: 2.7382 - val_accuracy: 0.8675\n",
            "Epoch 46/70\n",
            "2035/2035 [==============================] - 12s 6ms/step - loss: 0.0164 - accuracy: 0.9947 - val_loss: 2.6386 - val_accuracy: 0.8669\n",
            "Epoch 47/70\n",
            "2035/2035 [==============================] - 12s 6ms/step - loss: 0.0181 - accuracy: 0.9947 - val_loss: 2.3236 - val_accuracy: 0.8657\n",
            "Epoch 48/70\n",
            "2035/2035 [==============================] - 12s 6ms/step - loss: 0.0176 - accuracy: 0.9945 - val_loss: 2.1021 - val_accuracy: 0.8664\n",
            "Epoch 49/70\n",
            "2035/2035 [==============================] - 12s 6ms/step - loss: 0.0174 - accuracy: 0.9944 - val_loss: 2.2822 - val_accuracy: 0.8677\n",
            "Epoch 50/70\n",
            "2035/2035 [==============================] - 12s 6ms/step - loss: 0.0175 - accuracy: 0.9945 - val_loss: 2.0886 - val_accuracy: 0.8684\n",
            "Epoch 51/70\n",
            "2035/2035 [==============================] - 12s 6ms/step - loss: 0.0181 - accuracy: 0.9945 - val_loss: 2.6361 - val_accuracy: 0.8672\n",
            "Epoch 52/70\n",
            "2035/2035 [==============================] - 12s 6ms/step - loss: 0.0149 - accuracy: 0.9948 - val_loss: 2.2651 - val_accuracy: 0.8696\n",
            "Epoch 53/70\n",
            "2035/2035 [==============================] - 11s 6ms/step - loss: 0.0159 - accuracy: 0.9949 - val_loss: 2.4795 - val_accuracy: 0.8673\n",
            "Epoch 54/70\n",
            "2035/2035 [==============================] - 13s 6ms/step - loss: 0.0180 - accuracy: 0.9945 - val_loss: 2.4237 - val_accuracy: 0.8684\n",
            "Epoch 55/70\n",
            "2035/2035 [==============================] - 12s 6ms/step - loss: 0.0183 - accuracy: 0.9947 - val_loss: 2.6038 - val_accuracy: 0.8675\n",
            "Epoch 56/70\n",
            "2035/2035 [==============================] - 12s 6ms/step - loss: 0.0168 - accuracy: 0.9948 - val_loss: 2.3628 - val_accuracy: 0.8662\n",
            "Epoch 57/70\n",
            "2035/2035 [==============================] - 11s 6ms/step - loss: 0.0196 - accuracy: 0.9943 - val_loss: 2.1558 - val_accuracy: 0.8655\n",
            "Epoch 58/70\n",
            "2035/2035 [==============================] - 11s 6ms/step - loss: 0.0190 - accuracy: 0.9942 - val_loss: 2.1384 - val_accuracy: 0.8652\n",
            "Epoch 59/70\n",
            "2035/2035 [==============================] - 11s 6ms/step - loss: 0.0169 - accuracy: 0.9946 - val_loss: 2.4364 - val_accuracy: 0.8633\n",
            "Epoch 60/70\n",
            "2035/2035 [==============================] - 12s 6ms/step - loss: 0.0140 - accuracy: 0.9950 - val_loss: 2.8471 - val_accuracy: 0.8655\n",
            "Epoch 61/70\n",
            "2035/2035 [==============================] - 12s 6ms/step - loss: 0.0169 - accuracy: 0.9948 - val_loss: 2.7543 - val_accuracy: 0.8644\n",
            "Epoch 62/70\n",
            "2035/2035 [==============================] - 11s 5ms/step - loss: 0.0162 - accuracy: 0.9950 - val_loss: 2.8264 - val_accuracy: 0.8665\n",
            "Epoch 63/70\n",
            "2035/2035 [==============================] - 11s 5ms/step - loss: 0.0171 - accuracy: 0.9948 - val_loss: 2.6630 - val_accuracy: 0.8612\n",
            "Epoch 64/70\n",
            "2035/2035 [==============================] - 11s 5ms/step - loss: 0.0174 - accuracy: 0.9948 - val_loss: 2.4179 - val_accuracy: 0.8660\n",
            "Epoch 65/70\n",
            "2035/2035 [==============================] - 11s 5ms/step - loss: 0.0153 - accuracy: 0.9950 - val_loss: 2.6197 - val_accuracy: 0.8647\n",
            "Epoch 66/70\n",
            "2035/2035 [==============================] - 12s 6ms/step - loss: 0.0154 - accuracy: 0.9949 - val_loss: 2.5013 - val_accuracy: 0.8642\n",
            "Epoch 67/70\n",
            "2035/2035 [==============================] - 11s 5ms/step - loss: 0.0155 - accuracy: 0.9950 - val_loss: 2.6320 - val_accuracy: 0.8657\n",
            "Epoch 68/70\n",
            "2035/2035 [==============================] - 11s 5ms/step - loss: 0.0165 - accuracy: 0.9950 - val_loss: 2.7376 - val_accuracy: 0.8661\n",
            "Epoch 69/70\n",
            "2035/2035 [==============================] - 11s 5ms/step - loss: 0.0178 - accuracy: 0.9946 - val_loss: 2.3773 - val_accuracy: 0.8663\n",
            "Epoch 70/70\n",
            "2035/2035 [==============================] - 11s 5ms/step - loss: 0.0172 - accuracy: 0.9946 - val_loss: 2.6656 - val_accuracy: 0.8663\n"
          ]
        }
      ],
      "source": [
        "print(\"Compile model ...\")\n",
        "history = model.fit(X_train_enc, y_train_one_hot_encoder, validation_data=(X_test_enc, y_test_one_hot_encoder) ,epochs=70, batch_size=32)"
      ],
      "id": "C0Ac3_B4hSIC"
    },
    {
      "cell_type": "code",
      "execution_count": null,
      "metadata": {
        "colab": {
          "background_save": true
        },
        "id": "YB7GBjW9tAJu"
      },
      "outputs": [],
      "source": [
        "#saving model in json format\n",
        "model_path = '/content/drive/MyDrive/Thesis_Code/'\n",
        "model_json = model.to_json()\n",
        "with open(model_path+\"nn_model.json\", \"w\") as json_file:\n",
        "    json_file.write(model_json)\n",
        "  \n",
        "model.save_weights(model_path+\"nn_model.h5\")"
      ],
      "id": "YB7GBjW9tAJu"
    },
    {
      "cell_type": "code",
      "execution_count": null,
      "metadata": {
        "colab": {
          "background_save": true
        },
        "id": "8e2Ee1cGW2gx",
        "outputId": "1094f90a-c19f-43e9-ee9e-a420d445680b"
      },
      "outputs": [
        {
          "name": "stdout",
          "output_type": "stream",
          "text": [
            "No.of epochs: 70\n"
          ]
        },
        {
          "data": {
            "image/png": "[encoded data removed]",
            "text/plain": [
              "<Figure size 432x288 with 1 Axes>"
            ]
          },
          "metadata": {},
          "output_type": "display_data"
        },
        {
          "data": {
            "text/plain": [
              "<Figure size 432x288 with 0 Axes>"
            ]
          },
          "metadata": {},
          "output_type": "display_data"
        }
      ],
      "source": [
        "%matplotlib inline\n",
        "import matplotlib.pyplot as plt\n",
        "loss = history.history['loss']\n",
        "validation_loss = history.history['val_loss']\n",
        "epochs = range(1,len(loss)+1)\n",
        "print('No.of epochs: '+ str(len(loss)))\n",
        "plt.plot(epochs, loss, 'r', label='Training loss')\n",
        "plt.plot(epochs, validation_loss, 'b', label='Validation loss')\n",
        "\n",
        "plt.title('Training loss')\n",
        "plt.legend(loc=0)\n",
        "plt.figure()\n",
        "\n",
        "plt.show()"
      ],
      "id": "8e2Ee1cGW2gx"
    },
    {
      "cell_type": "code",
      "execution_count": null,
      "metadata": {
        "colab": {
          "background_save": true
        },
        "id": "tzn2qwl-W8fb",
        "outputId": "992b0651-7c26-458b-8436-0dfba910f651"
      },
      "outputs": [
        {
          "name": "stdout",
          "output_type": "stream",
          "text": [
            "No.of epochs: 70\n"
          ]
        },
        {
          "data": {
            "image/png": "[encoded data removed]",
            "text/plain": [
              "<Figure size 432x288 with 1 Axes>"
            ]
          },
          "metadata": {},
          "output_type": "display_data"
        },
        {
          "data": {
            "text/plain": [
              "<Figure size 432x288 with 0 Axes>"
            ]
          },
          "metadata": {},
          "output_type": "display_data"
        }
      ],
      "source": [
        "accuracy= history.history['accuracy']\n",
        "validation_accuracy= history.history['val_accuracy']\n",
        "\n",
        "epochs = range(1,len(accuracy)+1)\n",
        "print('No.of epochs: '+ str(len(accuracy)))\n",
        "plt.plot(epochs, accuracy, 'r', label='Training accuracy')\n",
        "plt.plot(epochs, validation_accuracy, 'b', label='Validation accuracy')\n",
        "\n",
        "plt.title('Training accuracy')\n",
        "plt.legend(loc=0)\n",
        "plt.figure()\n",
        "\n",
        "plt.show()"
      ],
      "id": "tzn2qwl-W8fb"
    },
    {
      "cell_type": "markdown",
      "metadata": {
        "id": "380137e1"
      },
      "source": [
        "## LinearSVC"
      ],
      "id": "380137e1"
    },
    {
      "cell_type": "markdown",
      "metadata": {
        "id": "9577029d"
      },
      "source": [
        "Train LinearSVC using gridsearch, stratified cross-validation and optimizing the balanced accuracy"
      ],
      "id": "9577029d"
    },
    {
      "cell_type": "code",
      "execution_count": null,
      "metadata": {
        "colab": {
          "base_uri": "https://localhost:8080/"
        },
        "id": "adf8ac60",
        "outputId": "8c83d1b7-9fde-4bfb-843d-2ca7d333bdf9"
      },
      "outputs": [
        {
          "name": "stdout",
          "output_type": "stream",
          "text": [
            "Fitting 10 folds for each of 40 candidates, totalling 400 fits\n"
          ]
        },
        {
          "name": "stderr",
          "output_type": "stream",
          "text": [
            "/usr/local/lib/python3.7/dist-packages/sklearn/model_selection/_validation.py:372: FitFailedWarning: \n",
            "200 fits failed out of a total of 400.\n",
            "The score on these train-test partitions for these parameters will be set to nan.\n",
            "If these failures are not expected, you can try to debug them by setting error_score='raise'.\n",
            "\n",
            "Below are more details about the failures:\n",
            "--------------------------------------------------------------------------------\n",
            "100 fits failed with the following error:\n",
            "Traceback (most recent call last):\n",
            "  File \"/usr/local/lib/python3.7/dist-packages/sklearn/model_selection/_validation.py\", line 680, in _fit_and_score\n",
            "    estimator.fit(X_train, y_train, **fit_params)\n",
            "  File \"/usr/local/lib/python3.7/dist-packages/sklearn/svm/_classes.py\", line 272, in fit\n",
            "    sample_weight=sample_weight,\n",
            "  File \"/usr/local/lib/python3.7/dist-packages/sklearn/svm/_base.py\", line 1185, in _fit_liblinear\n",
            "    solver_type = _get_liblinear_solver_type(multi_class, penalty, loss, dual)\n",
            "  File \"/usr/local/lib/python3.7/dist-packages/sklearn/svm/_base.py\", line 1026, in _get_liblinear_solver_type\n",
            "    % (error_string, penalty, loss, dual)\n",
            "ValueError: Unsupported set of arguments: The combination of penalty='l1' and loss='hinge' is not supported, Parameters: penalty='l1', loss='hinge', dual=True\n",
            "\n",
            "--------------------------------------------------------------------------------\n",
            "100 fits failed with the following error:\n",
            "Traceback (most recent call last):\n",
            "  File \"/usr/local/lib/python3.7/dist-packages/sklearn/model_selection/_validation.py\", line 680, in _fit_and_score\n",
            "    estimator.fit(X_train, y_train, **fit_params)\n",
            "  File \"/usr/local/lib/python3.7/dist-packages/sklearn/svm/_classes.py\", line 272, in fit\n",
            "    sample_weight=sample_weight,\n",
            "  File \"/usr/local/lib/python3.7/dist-packages/sklearn/svm/_base.py\", line 1185, in _fit_liblinear\n",
            "    solver_type = _get_liblinear_solver_type(multi_class, penalty, loss, dual)\n",
            "  File \"/usr/local/lib/python3.7/dist-packages/sklearn/svm/_base.py\", line 1026, in _get_liblinear_solver_type\n",
            "    % (error_string, penalty, loss, dual)\n",
            "ValueError: Unsupported set of arguments: The combination of penalty='l1' and loss='squared_hinge' are not supported when dual=True, Parameters: penalty='l1', loss='squared_hinge', dual=True\n",
            "\n",
            "  warnings.warn(some_fits_failed_message, FitFailedWarning)\n",
            "/usr/local/lib/python3.7/dist-packages/sklearn/model_selection/_search.py:972: UserWarning: One or more of the test scores are non-finite: [       nan 0.84468799        nan 0.85505471        nan 0.85158102\n",
            "        nan 0.85769552        nan 0.85372814        nan 0.857242\n",
            "        nan 0.85552249        nan 0.85709109        nan 0.85722824\n",
            "        nan 0.85675001        nan 0.85739624        nan 0.85605774\n",
            "        nan 0.85666005        nan 0.85557762        nan 0.85619797\n",
            "        nan 0.85502884        nan 0.85576443        nan 0.85445704\n",
            "        nan 0.85567943        nan 0.85368407]\n",
            "  category=UserWarning,\n"
          ]
        },
        {
          "data": {
            "text/plain": [
              "GridSearchCV(cv=10, estimator=LinearSVC(random_state=9), n_jobs=-1,\n",
              "             param_grid={'C': array([0.1, 0.2, 0.3, 0.4, 0.5, 0.6, 0.7, 0.8, 0.9, 1. ]),\n",
              "                         'class_weight': ['balanced'],\n",
              "                         'loss': ['hinge', 'squared_hinge'],\n",
              "                         'penalty': ['l1', 'l2']},\n",
              "             scoring='balanced_accuracy', verbose=1)"
            ]
          },
          "execution_count": 39,
          "metadata": {},
          "output_type": "execute_result"
        }
      ],
      "source": [
        "param_grid = { \n",
        "    'penalty': ['l1', 'l2'],\n",
        "    'loss' : ['hinge', 'squared_hinge'],\n",
        "    'C': np.arange(0.1, 1.1, 0.1),\n",
        "    'class_weight': ['balanced']\n",
        "}\n",
        "\n",
        "svc = LinearSVC(random_state=9)\n",
        "svc_clf = GridSearchCV(estimator=svc, param_grid=param_grid, cv= 10, # Stratified Kfold by default (cv)\n",
        "                       scoring='balanced_accuracy', refit=True,\n",
        "                       return_train_score=False, n_jobs=-1, verbose=1)\n",
        "svc_clf.fit(X_train_enc, y_train)"
      ],
      "id": "adf8ac60"
    },
    {
      "cell_type": "code",
      "execution_count": null,
      "metadata": {
        "id": "TpmfFOaarzKy"
      },
      "outputs": [],
      "source": [
        "# save the model to drive\n",
        "filename_LinearSVC = '/content/drive/MyDrive/Thesis_Code/model_LinearSVC.sav'\n",
        "pickle.dump(svc_clf, open(filename_LinearSVC, 'wb'))"
      ],
      "id": "TpmfFOaarzKy"
    },
    {
      "cell_type": "code",
      "execution_count": null,
      "metadata": {
        "colab": {
          "base_uri": "https://localhost:8080/",
          "height": 69
        },
        "id": "6f9cab5d",
        "outputId": "1b6962e8-f851-43e0-db3b-62b36bd64fcc"
      },
      "outputs": [
        {
          "data": {
            "text/plain": [
              "(40, 22)"
            ]
          },
          "metadata": {},
          "output_type": "display_data"
        },
        {
          "name": "stdout",
          "output_type": "stream",
          "text": [
            "Best score: 0.8576955186312049\n",
            "Best params: {'C': 0.2, 'class_weight': 'balanced', 'loss': 'squared_hinge', 'penalty': 'l2'}\n"
          ]
        }
      ],
      "source": [
        "display(pd.DataFrame(svc_clf.cv_results_).sort_values('rank_test_score').shape)\n",
        "print('Best score: ' + str(svc_clf.best_score_))\n",
        "print('Best params: ' + str(svc_clf.best_params_))"
      ],
      "id": "6f9cab5d"
    },
    {
      "cell_type": "markdown",
      "metadata": {
        "id": "cb14f776"
      },
      "source": [
        "## Naive Bayes"
      ],
      "id": "cb14f776"
    },
    {
      "cell_type": "code",
      "execution_count": null,
      "metadata": {
        "colab": {
          "base_uri": "https://localhost:8080/"
        },
        "id": "20a9e07c",
        "outputId": "5b639a31-1416-41a9-b4d6-3362449dc383"
      },
      "outputs": [
        {
          "name": "stdout",
          "output_type": "stream",
          "text": [
            "Fitting 10 folds for each of 22 candidates, totalling 220 fits\n"
          ]
        },
        {
          "data": {
            "text/plain": [
              "GridSearchCV(cv=10, estimator=MultinomialNB(), n_jobs=-1,\n",
              "             param_grid={'alpha': array([0. , 0.1, 0.2, 0.3, 0.4, 0.5, 0.6, 0.7, 0.8, 0.9, 1. ]),\n",
              "                         'fit_prior': [True, False]},\n",
              "             scoring='balanced_accuracy', verbose=1)"
            ]
          },
          "execution_count": 42,
          "metadata": {},
          "output_type": "execute_result"
        }
      ],
      "source": [
        "param_grid = { \n",
        "    'alpha': np.arange(0, 1.1, 0.1),\n",
        "    'fit_prior': [True, False],\n",
        "}\n",
        "\n",
        "svc = MultinomialNB()\n",
        "nb_clf = GridSearchCV(estimator=svc, param_grid=param_grid, cv= 10, # Stratified Kfold by default (cv)\n",
        "                      scoring='balanced_accuracy', refit=True,\n",
        "                      return_train_score=False, n_jobs=-1, verbose=1)\n",
        "nb_clf.fit(X_train_enc, y_train)"
      ],
      "id": "20a9e07c"
    },
    {
      "cell_type": "code",
      "execution_count": null,
      "metadata": {
        "id": "0o9zU5hto-Gp"
      },
      "outputs": [],
      "source": [
        "# save the model to drive\n",
        "filename_MultinomialNB = '/content/drive/MyDrive/Thesis_Code/model_MultinomialNB.sav'\n",
        "pickle.dump(nb_clf, open(filename_MultinomialNB, 'wb'))"
      ],
      "id": "0o9zU5hto-Gp"
    },
    {
      "cell_type": "code",
      "execution_count": null,
      "metadata": {
        "colab": {
          "base_uri": "https://localhost:8080/",
          "height": 687
        },
        "id": "59e63eff",
        "outputId": "7233f7c4-f831-4c96-e85e-59289714a649"
      },
      "outputs": [
        {
          "data": {
            "text/html": [
              "\n",
              "  <div id=\"df-26a41606-ea7e-4744-8b84-d9f5eaf90eb5\">\n",
              "    <div class=\"colab-df-container\">\n",
              "      <div>\n",
              "<style scoped>\n",
              "    .dataframe tbody tr th:only-of-type {\n",
              "        vertical-align: middle;\n",
              "    }\n",
              "\n",
              "    .dataframe tbody tr th {\n",
              "        vertical-align: top;\n",
              "    }\n",
              "\n",
              "    .dataframe thead th {\n",
              "        text-align: right;\n",
              "    }\n",
              "</style>\n",
              "<table border=\"1\" class=\"dataframe\">\n",
              "  <thead>\n",
              "    <tr style=\"text-align: right;\">\n",
              "      <th></th>\n",
              "      <th>mean_fit_time</th>\n",
              "      <th>std_fit_time</th>\n",
              "      <th>mean_score_time</th>\n",
              "      <th>std_score_time</th>\n",
              "      <th>param_alpha</th>\n",
              "      <th>param_fit_prior</th>\n",
              "      <th>params</th>\n",
              "      <th>split0_test_score</th>\n",
              "      <th>split1_test_score</th>\n",
              "      <th>split2_test_score</th>\n",
              "      <th>split3_test_score</th>\n",
              "      <th>split4_test_score</th>\n",
              "      <th>split5_test_score</th>\n",
              "      <th>split6_test_score</th>\n",
              "      <th>split7_test_score</th>\n",
              "      <th>split8_test_score</th>\n",
              "      <th>split9_test_score</th>\n",
              "      <th>mean_test_score</th>\n",
              "      <th>std_test_score</th>\n",
              "      <th>rank_test_score</th>\n",
              "    </tr>\n",
              "  </thead>\n",
              "  <tbody>\n",
              "    <tr>\n",
              "      <th>11</th>\n",
              "      <td>0.029922</td>\n",
              "      <td>0.004878</td>\n",
              "      <td>0.003808</td>\n",
              "      <td>0.001823</td>\n",
              "      <td>0.5</td>\n",
              "      <td>False</td>\n",
              "      <td>{'alpha': 0.5, 'fit_prior': False}</td>\n",
              "      <td>0.851701</td>\n",
              "      <td>0.845438</td>\n",
              "      <td>0.847919</td>\n",
              "      <td>0.840930</td>\n",
              "      <td>0.851547</td>\n",
              "      <td>0.843503</td>\n",
              "      <td>0.846515</td>\n",
              "      <td>0.850543</td>\n",
              "      <td>0.844000</td>\n",
              "      <td>0.844888</td>\n",
              "      <td>0.846698</td>\n",
              "      <td>0.003471</td>\n",
              "      <td>1</td>\n",
              "    </tr>\n",
              "    <tr>\n",
              "      <th>13</th>\n",
              "      <td>0.028301</td>\n",
              "      <td>0.004477</td>\n",
              "      <td>0.003208</td>\n",
              "      <td>0.000118</td>\n",
              "      <td>0.6</td>\n",
              "      <td>False</td>\n",
              "      <td>{'alpha': 0.6000000000000001, 'fit_prior': False}</td>\n",
              "      <td>0.851655</td>\n",
              "      <td>0.847043</td>\n",
              "      <td>0.847174</td>\n",
              "      <td>0.840838</td>\n",
              "      <td>0.850877</td>\n",
              "      <td>0.842327</td>\n",
              "      <td>0.845016</td>\n",
              "      <td>0.850683</td>\n",
              "      <td>0.844878</td>\n",
              "      <td>0.844024</td>\n",
              "      <td>0.846451</td>\n",
              "      <td>0.003527</td>\n",
              "      <td>2</td>\n",
              "    </tr>\n",
              "    <tr>\n",
              "      <th>9</th>\n",
              "      <td>0.027933</td>\n",
              "      <td>0.004340</td>\n",
              "      <td>0.003264</td>\n",
              "      <td>0.000225</td>\n",
              "      <td>0.4</td>\n",
              "      <td>False</td>\n",
              "      <td>{'alpha': 0.4, 'fit_prior': False}</td>\n",
              "      <td>0.851024</td>\n",
              "      <td>0.847127</td>\n",
              "      <td>0.847934</td>\n",
              "      <td>0.840031</td>\n",
              "      <td>0.851610</td>\n",
              "      <td>0.842562</td>\n",
              "      <td>0.846622</td>\n",
              "      <td>0.850015</td>\n",
              "      <td>0.843657</td>\n",
              "      <td>0.843871</td>\n",
              "      <td>0.846445</td>\n",
              "      <td>0.003657</td>\n",
              "      <td>3</td>\n",
              "    </tr>\n",
              "    <tr>\n",
              "      <th>15</th>\n",
              "      <td>0.027949</td>\n",
              "      <td>0.001829</td>\n",
              "      <td>0.003228</td>\n",
              "      <td>0.000222</td>\n",
              "      <td>0.7</td>\n",
              "      <td>False</td>\n",
              "      <td>{'alpha': 0.7000000000000001, 'fit_prior': False}</td>\n",
              "      <td>0.852124</td>\n",
              "      <td>0.845821</td>\n",
              "      <td>0.846634</td>\n",
              "      <td>0.841294</td>\n",
              "      <td>0.849779</td>\n",
              "      <td>0.841772</td>\n",
              "      <td>0.844106</td>\n",
              "      <td>0.851180</td>\n",
              "      <td>0.845075</td>\n",
              "      <td>0.842663</td>\n",
              "      <td>0.846045</td>\n",
              "      <td>0.003669</td>\n",
              "      <td>4</td>\n",
              "    </tr>\n",
              "    <tr>\n",
              "      <th>7</th>\n",
              "      <td>0.028899</td>\n",
              "      <td>0.005844</td>\n",
              "      <td>0.003295</td>\n",
              "      <td>0.000230</td>\n",
              "      <td>0.3</td>\n",
              "      <td>False</td>\n",
              "      <td>{'alpha': 0.30000000000000004, 'fit_prior': Fa...</td>\n",
              "      <td>0.849975</td>\n",
              "      <td>0.848127</td>\n",
              "      <td>0.846268</td>\n",
              "      <td>0.839002</td>\n",
              "      <td>0.852262</td>\n",
              "      <td>0.840239</td>\n",
              "      <td>0.844188</td>\n",
              "      <td>0.849869</td>\n",
              "      <td>0.844993</td>\n",
              "      <td>0.844248</td>\n",
              "      <td>0.845917</td>\n",
              "      <td>0.004050</td>\n",
              "      <td>5</td>\n",
              "    </tr>\n",
              "    <tr>\n",
              "      <th>17</th>\n",
              "      <td>0.030551</td>\n",
              "      <td>0.006029</td>\n",
              "      <td>0.003339</td>\n",
              "      <td>0.000152</td>\n",
              "      <td>0.8</td>\n",
              "      <td>False</td>\n",
              "      <td>{'alpha': 0.8, 'fit_prior': False}</td>\n",
              "      <td>0.852616</td>\n",
              "      <td>0.845341</td>\n",
              "      <td>0.846461</td>\n",
              "      <td>0.841114</td>\n",
              "      <td>0.848331</td>\n",
              "      <td>0.841920</td>\n",
              "      <td>0.843205</td>\n",
              "      <td>0.851760</td>\n",
              "      <td>0.844116</td>\n",
              "      <td>0.844008</td>\n",
              "      <td>0.845887</td>\n",
              "      <td>0.003725</td>\n",
              "      <td>6</td>\n",
              "    </tr>\n",
              "    <tr>\n",
              "      <th>21</th>\n",
              "      <td>0.027446</td>\n",
              "      <td>0.002122</td>\n",
              "      <td>0.003247</td>\n",
              "      <td>0.000338</td>\n",
              "      <td>1.0</td>\n",
              "      <td>False</td>\n",
              "      <td>{'alpha': 1.0, 'fit_prior': False}</td>\n",
              "      <td>0.852561</td>\n",
              "      <td>0.842873</td>\n",
              "      <td>0.845086</td>\n",
              "      <td>0.839801</td>\n",
              "      <td>0.849564</td>\n",
              "      <td>0.840019</td>\n",
              "      <td>0.842817</td>\n",
              "      <td>0.853363</td>\n",
              "      <td>0.844406</td>\n",
              "      <td>0.844697</td>\n",
              "      <td>0.845519</td>\n",
              "      <td>0.004548</td>\n",
              "      <td>7</td>\n",
              "    </tr>\n",
              "    <tr>\n",
              "      <th>19</th>\n",
              "      <td>0.028420</td>\n",
              "      <td>0.002755</td>\n",
              "      <td>0.003254</td>\n",
              "      <td>0.000169</td>\n",
              "      <td>0.9</td>\n",
              "      <td>False</td>\n",
              "      <td>{'alpha': 0.9, 'fit_prior': False}</td>\n",
              "      <td>0.852603</td>\n",
              "      <td>0.844112</td>\n",
              "      <td>0.844999</td>\n",
              "      <td>0.840408</td>\n",
              "      <td>0.848697</td>\n",
              "      <td>0.841338</td>\n",
              "      <td>0.843760</td>\n",
              "      <td>0.852510</td>\n",
              "      <td>0.842085</td>\n",
              "      <td>0.844183</td>\n",
              "      <td>0.845470</td>\n",
              "      <td>0.004143</td>\n",
              "      <td>8</td>\n",
              "    </tr>\n",
              "    <tr>\n",
              "      <th>5</th>\n",
              "      <td>0.029180</td>\n",
              "      <td>0.004972</td>\n",
              "      <td>0.003233</td>\n",
              "      <td>0.000223</td>\n",
              "      <td>0.2</td>\n",
              "      <td>False</td>\n",
              "      <td>{'alpha': 0.2, 'fit_prior': False}</td>\n",
              "      <td>0.849563</td>\n",
              "      <td>0.847623</td>\n",
              "      <td>0.845101</td>\n",
              "      <td>0.838192</td>\n",
              "      <td>0.850962</td>\n",
              "      <td>0.837278</td>\n",
              "      <td>0.843131</td>\n",
              "      <td>0.847298</td>\n",
              "      <td>0.844143</td>\n",
              "      <td>0.845834</td>\n",
              "      <td>0.844912</td>\n",
              "      <td>0.004235</td>\n",
              "      <td>9</td>\n",
              "    </tr>\n",
              "    <tr>\n",
              "      <th>3</th>\n",
              "      <td>0.028300</td>\n",
              "      <td>0.003715</td>\n",
              "      <td>0.003272</td>\n",
              "      <td>0.000219</td>\n",
              "      <td>0.1</td>\n",
              "      <td>False</td>\n",
              "      <td>{'alpha': 0.1, 'fit_prior': False}</td>\n",
              "      <td>0.841562</td>\n",
              "      <td>0.844340</td>\n",
              "      <td>0.840867</td>\n",
              "      <td>0.834514</td>\n",
              "      <td>0.845608</td>\n",
              "      <td>0.835505</td>\n",
              "      <td>0.839873</td>\n",
              "      <td>0.842717</td>\n",
              "      <td>0.840653</td>\n",
              "      <td>0.842522</td>\n",
              "      <td>0.840816</td>\n",
              "      <td>0.003336</td>\n",
              "      <td>10</td>\n",
              "    </tr>\n",
              "  </tbody>\n",
              "</table>\n",
              "</div>\n",
              "      <button class=\"colab-df-convert\" onclick=\"convertToInteractive('df-26a41606-ea7e-4744-8b84-d9f5eaf90eb5')\"\n",
              "              title=\"Convert this dataframe to an interactive table.\"\n",
              "              style=\"display:none;\">\n",
              "        \n",
              "  <svg xmlns=\"http://www.w3.org/2000/svg\" height=\"24px\"viewBox=\"0 0 24 24\"\n",
              "       width=\"24px\">\n",
              "    <path d=\"M0 0h24v24H0V0z\" fill=\"none\"/>\n",
              "    <path d=\"M18.56 5.44l.94 2.06.94-2.06 2.06-.94-2.06-.94-.94-2.06-.94 2.06-2.06.94zm-11 1L8.5 8.5l.94-2.06 2.06-.94-2.06-.94L8.5 2.5l-.94 2.06-2.06.94zm10 10l.94 2.06.94-2.06 2.06-.94-2.06-.94-.94-2.06-.94 2.06-2.06.94z\"/><path d=\"M17.41 7.96l-1.37-1.37c-.4-.4-.92-.59-1.43-.59-.52 0-1.04.2-1.43.59L10.3 9.45l-7.72 7.72c-.78.78-.78 2.05 0 2.83L4 21.41c.39.39.9.59 1.41.59.51 0 1.02-.2 1.41-.59l7.78-7.78 2.81-2.81c.8-.78.8-2.07 0-2.86zM5.41 20L4 18.59l7.72-7.72 1.47 1.35L5.41 20z\"/>\n",
              "  </svg>\n",
              "      </button>\n",
              "      \n",
              "  <style>\n",
              "    .colab-df-container {\n",
              "      display:flex;\n",
              "      flex-wrap:wrap;\n",
              "      gap: 12px;\n",
              "    }\n",
              "\n",
              "    .colab-df-convert {\n",
              "      background-color: #E8F0FE;\n",
              "      border: none;\n",
              "      border-radius: 50%;\n",
              "      cursor: pointer;\n",
              "      display: none;\n",
              "      fill: #1967D2;\n",
              "      height: 32px;\n",
              "      padding: 0 0 0 0;\n",
              "      width: 32px;\n",
              "    }\n",
              "\n",
              "    .colab-df-convert:hover {\n",
              "      background-color: #E2EBFA;\n",
              "      box-shadow: 0px 1px 2px rgba(60, 64, 67, 0.3), 0px 1px 3px 1px rgba(60, 64, 67, 0.15);\n",
              "      fill: #174EA6;\n",
              "    }\n",
              "\n",
              "    [theme=dark] .colab-df-convert {\n",
              "      background-color: #3B4455;\n",
              "      fill: #D2E3FC;\n",
              "    }\n",
              "\n",
              "    [theme=dark] .colab-df-convert:hover {\n",
              "      background-color: #434B5C;\n",
              "      box-shadow: 0px 1px 3px 1px rgba(0, 0, 0, 0.15);\n",
              "      filter: drop-shadow(0px 1px 2px rgba(0, 0, 0, 0.3));\n",
              "      fill: #FFFFFF;\n",
              "    }\n",
              "  </style>\n",
              "\n",
              "      <script>\n",
              "        const buttonEl =\n",
              "          document.querySelector('#df-26a41606-ea7e-4744-8b84-d9f5eaf90eb5 button.colab-df-convert');\n",
              "        buttonEl.style.display =\n",
              "          google.colab.kernel.accessAllowed ? 'block' : 'none';\n",
              "\n",
              "        async function convertToInteractive(key) {\n",
              "          const element = document.querySelector('#df-26a41606-ea7e-4744-8b84-d9f5eaf90eb5');\n",
              "          const dataTable =\n",
              "            await google.colab.kernel.invokeFunction('convertToInteractive',\n",
              "                                                     [key], {});\n",
              "          if (!dataTable) return;\n",
              "\n",
              "          const docLinkHtml = 'Like what you see? Visit the ' +\n",
              "            '<a target=\"_blank\" href=https://colab.research.google.com/notebooks/data_table.ipynb>data table notebook</a>'\n",
              "            + ' to learn more about interactive tables.';\n",
              "          element.innerHTML = '';\n",
              "          dataTable['output_type'] = 'display_data';\n",
              "          await google.colab.output.renderOutput(dataTable, element);\n",
              "          const docLink = document.createElement('div');\n",
              "          docLink.innerHTML = docLinkHtml;\n",
              "          element.appendChild(docLink);\n",
              "        }\n",
              "      </script>\n",
              "    </div>\n",
              "  </div>\n",
              "  "
            ],
            "text/plain": [
              "    mean_fit_time  std_fit_time  mean_score_time  std_score_time param_alpha  \\\n",
              "11       0.029922      0.004878         0.003808        0.001823         0.5   \n",
              "13       0.028301      0.004477         0.003208        0.000118         0.6   \n",
              "9        0.027933      0.004340         0.003264        0.000225         0.4   \n",
              "15       0.027949      0.001829         0.003228        0.000222         0.7   \n",
              "7        0.028899      0.005844         0.003295        0.000230         0.3   \n",
              "17       0.030551      0.006029         0.003339        0.000152         0.8   \n",
              "21       0.027446      0.002122         0.003247        0.000338         1.0   \n",
              "19       0.028420      0.002755         0.003254        0.000169         0.9   \n",
              "5        0.029180      0.004972         0.003233        0.000223         0.2   \n",
              "3        0.028300      0.003715         0.003272        0.000219         0.1   \n",
              "\n",
              "   param_fit_prior                                             params  \\\n",
              "11           False                 {'alpha': 0.5, 'fit_prior': False}   \n",
              "13           False  {'alpha': 0.6000000000000001, 'fit_prior': False}   \n",
              "9            False                 {'alpha': 0.4, 'fit_prior': False}   \n",
              "15           False  {'alpha': 0.7000000000000001, 'fit_prior': False}   \n",
              "7            False  {'alpha': 0.30000000000000004, 'fit_prior': Fa...   \n",
              "17           False                 {'alpha': 0.8, 'fit_prior': False}   \n",
              "21           False                 {'alpha': 1.0, 'fit_prior': False}   \n",
              "19           False                 {'alpha': 0.9, 'fit_prior': False}   \n",
              "5            False                 {'alpha': 0.2, 'fit_prior': False}   \n",
              "3            False                 {'alpha': 0.1, 'fit_prior': False}   \n",
              "\n",
              "    split0_test_score  split1_test_score  split2_test_score  \\\n",
              "11           0.851701           0.845438           0.847919   \n",
              "13           0.851655           0.847043           0.847174   \n",
              "9            0.851024           0.847127           0.847934   \n",
              "15           0.852124           0.845821           0.846634   \n",
              "7            0.849975           0.848127           0.846268   \n",
              "17           0.852616           0.845341           0.846461   \n",
              "21           0.852561           0.842873           0.845086   \n",
              "19           0.852603           0.844112           0.844999   \n",
              "5            0.849563           0.847623           0.845101   \n",
              "3            0.841562           0.844340           0.840867   \n",
              "\n",
              "    split3_test_score  split4_test_score  split5_test_score  \\\n",
              "11           0.840930           0.851547           0.843503   \n",
              "13           0.840838           0.850877           0.842327   \n",
              "9            0.840031           0.851610           0.842562   \n",
              "15           0.841294           0.849779           0.841772   \n",
              "7            0.839002           0.852262           0.840239   \n",
              "17           0.841114           0.848331           0.841920   \n",
              "21           0.839801           0.849564           0.840019   \n",
              "19           0.840408           0.848697           0.841338   \n",
              "5            0.838192           0.850962           0.837278   \n",
              "3            0.834514           0.845608           0.835505   \n",
              "\n",
              "    split6_test_score  split7_test_score  split8_test_score  \\\n",
              "11           0.846515           0.850543           0.844000   \n",
              "13           0.845016           0.850683           0.844878   \n",
              "9            0.846622           0.850015           0.843657   \n",
              "15           0.844106           0.851180           0.845075   \n",
              "7            0.844188           0.849869           0.844993   \n",
              "17           0.843205           0.851760           0.844116   \n",
              "21           0.842817           0.853363           0.844406   \n",
              "19           0.843760           0.852510           0.842085   \n",
              "5            0.843131           0.847298           0.844143   \n",
              "3            0.839873           0.842717           0.840653   \n",
              "\n",
              "    split9_test_score  mean_test_score  std_test_score  rank_test_score  \n",
              "11           0.844888         0.846698        0.003471                1  \n",
              "13           0.844024         0.846451        0.003527                2  \n",
              "9            0.843871         0.846445        0.003657                3  \n",
              "15           0.842663         0.846045        0.003669                4  \n",
              "7            0.844248         0.845917        0.004050                5  \n",
              "17           0.844008         0.845887        0.003725                6  \n",
              "21           0.844697         0.845519        0.004548                7  \n",
              "19           0.844183         0.845470        0.004143                8  \n",
              "5            0.845834         0.844912        0.004235                9  \n",
              "3            0.842522         0.840816        0.003336               10  "
            ]
          },
          "metadata": {},
          "output_type": "display_data"
        },
        {
          "name": "stdout",
          "output_type": "stream",
          "text": [
            "Best score: 0.8466984106306438\n",
            "Best params: {'alpha': 0.5, 'fit_prior': False}\n"
          ]
        }
      ],
      "source": [
        "display(pd.DataFrame(nb_clf.cv_results_).sort_values('rank_test_score').head(10))\n",
        "print('Best score: ' + str(nb_clf.best_score_))\n",
        "print('Best params: ' + str(nb_clf.best_params_))"
      ],
      "id": "59e63eff"
    },
    {
      "cell_type": "markdown",
      "metadata": {
        "id": "QokRm33Qqhbr"
      },
      "source": [
        "# Load The Models"
      ],
      "id": "QokRm33Qqhbr"
    },
    {
      "cell_type": "markdown",
      "metadata": {
        "id": "b2TRlziDqkqR"
      },
      "source": [
        "### Linear SVC"
      ],
      "id": "b2TRlziDqkqR"
    },
    {
      "cell_type": "code",
      "execution_count": null,
      "metadata": {
        "id": "vwtx1qSfqxVO"
      },
      "outputs": [],
      "source": [
        "filename_LinearSVC = '/content/drive/MyDrive/Thesis_Code/model_LinearSVC.sav'\n",
        "svc_clf = pickle.load(open(filename_LinearSVC, 'rb'))"
      ],
      "id": "vwtx1qSfqxVO"
    },
    {
      "cell_type": "markdown",
      "metadata": {
        "id": "YKGnnuYEqoxu"
      },
      "source": [
        "### Multinomial Naive Bayes"
      ],
      "id": "YKGnnuYEqoxu"
    },
    {
      "cell_type": "code",
      "execution_count": null,
      "metadata": {
        "id": "KToTES_8qxuy"
      },
      "outputs": [],
      "source": [
        "filename_MultinomialNB = '/content/drive/MyDrive/Thesis_Code/model_MultinomialNB.sav'\n",
        "nb_clf = pickle.load(open(filename_MultinomialNB, 'rb'))"
      ],
      "id": "KToTES_8qxuy"
    },
    {
      "cell_type": "markdown",
      "metadata": {
        "id": "3P4Gos_9quEK"
      },
      "source": [
        "### Neural Network"
      ],
      "id": "3P4Gos_9quEK"
    },
    {
      "cell_type": "code",
      "execution_count": null,
      "metadata": {
        "id": "ZAgb3qjYqyWM"
      },
      "outputs": [],
      "source": [
        "#Loading model in json format\n",
        "from keras.models import model_from_json\n",
        "model_path = '/content/drive/MyDrive/Thesis_Code/'\n",
        "\n",
        "\n",
        "json_file = open(model_path+'nn_model.json', 'r')\n",
        "loaded_model_json = json_file.read()\n",
        "json_file.close()\n",
        "model = model_from_json(loaded_model_json)\n",
        "\n",
        "model.load_weights(model_path+'nn_model.h5')\n",
        "\n",
        "model.compile(loss='categorical_crossentropy',\n",
        "         optimizer='Adam',\n",
        "         metrics=[tf.keras.metrics.BinaryAccuracy()])"
      ],
      "id": "ZAgb3qjYqyWM"
    },
    {
      "cell_type": "markdown",
      "metadata": {
        "id": "be800b99"
      },
      "source": [
        "# Results"
      ],
      "id": "be800b99"
    },
    {
      "cell_type": "markdown",
      "metadata": {
        "id": "cd72cae4"
      },
      "source": [
        "Create the functions to obtain the metrics:\n",
        "- Accuracy, Balanced accuracy and Report\n",
        "- Confusion matrix\n",
        "- Roc curve"
      ],
      "id": "cd72cae4"
    },
    {
      "cell_type": "code",
      "execution_count": null,
      "metadata": {
        "id": "35c53570"
      },
      "outputs": [],
      "source": [
        "def general_metrics(y_test, y_pred):\n",
        "    print('Accuracy: ' + str(accuracy_score(y_test, y_pred).round(2)))\n",
        "    print('Balanced Accuracy: ' + str(balanced_accuracy_score(y_test, y_pred).round(2)))\n",
        "    print('Report:')\n",
        "    print(classification_report(y_test, y_pred))\n",
        "\n",
        "def plot_confusion_matrix(y_test, y_pred, classes):\n",
        "    fig, ax = plt.subplots(figsize=(10, 8))\n",
        "    cmp = ConfusionMatrixDisplay(\n",
        "        confusion_matrix(y_test, y_pred),\n",
        "        display_labels=classes)\n",
        "    cmp.plot(ax=ax)\n",
        "    plt.xticks(rotation=90);\n",
        "    plt.show()\n",
        "    \n",
        "from random import randint\n",
        "def plot_roc_curve(y_test, y_score, classes):\n",
        "    n_classes = len(classes)\n",
        "    y_test = label_binarize(y_test, classes=np.arange(n_classes))\n",
        "\n",
        "    # Compute ROC curve and ROC area for each class\n",
        "    fpr = dict()\n",
        "    tpr = dict()\n",
        "    roc_auc = dict()\n",
        "    for i in range(n_classes):\n",
        "        fpr[i], tpr[i], _ = roc_curve(y_test[:, i], y_score[:, i])\n",
        "        roc_auc[i] = auc(fpr[i], tpr[i])\n",
        "  \n",
        "    # Compute micro-average ROC curve and ROC area\n",
        "    fpr[\"micro\"], tpr[\"micro\"], _ = roc_curve(y_test.ravel(), y_score.ravel())\n",
        "    roc_auc[\"micro\"] = auc(fpr[\"micro\"], tpr[\"micro\"])\n",
        "\n",
        "    # First aggregate all false positive rates\n",
        "    all_fpr = np.unique(np.concatenate([fpr[i] for i in range(n_classes)]))\n",
        "\n",
        "    # Then interpolate all ROC curves at this points\n",
        "    mean_tpr = np.zeros_like(all_fpr)\n",
        "    for i in range(n_classes):\n",
        "        mean_tpr += np.interp(all_fpr, fpr[i], tpr[i])\n",
        "\n",
        "    # Finally average it and compute AUC\n",
        "    mean_tpr /= n_classes\n",
        "\n",
        "    fpr[\"macro\"] = all_fpr\n",
        "    tpr[\"macro\"] = mean_tpr\n",
        "    roc_auc[\"macro\"] = auc(fpr[\"macro\"], tpr[\"macro\"])\n",
        "\n",
        "    # Plot all ROC curves\n",
        "    plt.figure(figsize=(10,8))\n",
        "    lw = 2\n",
        "    plt.plot(fpr[\"micro\"], tpr[\"micro\"],\n",
        "             label=\"micro-average ROC curve (area = {0:0.2f})\".format(roc_auc[\"micro\"]),\n",
        "             color=\"tab:pink\", linestyle=\":\", linewidth=4,)\n",
        "\n",
        "    plt.plot(fpr[\"macro\"], tpr[\"macro\"],\n",
        "             label=\"macro-average ROC curve (area = {0:0.2f})\".format(roc_auc[\"macro\"]),\n",
        "             color=\"tab:gray\", linestyle=\":\", linewidth=4,)\n",
        "\n",
        "\n",
        "    colors = []\n",
        "    no_of_colors = len(classes)\n",
        "\n",
        "    for i in range(no_of_colors):\n",
        "        colors.append('#%06X' % randint(0, 0xFFFFFF))\n",
        "    for i, color in enumerate(colors):\n",
        "        \n",
        "        type_class = classes[i]\n",
        "        plt.plot(fpr[i], tpr[i], color=color, lw=lw, \n",
        "                 label=\"ROC curve of \" + type_class +\" (area = {1:0.2f})\".format(i, roc_auc[i]),)\n",
        "\n",
        "    plt.plot([0, 1], [0, 1], \"k--\", lw=lw)\n",
        "    plt.xlim([0.0, 1.0])\n",
        "    plt.ylim([0.0, 1.05])\n",
        "    plt.xlabel(\"False Positive Rate\")\n",
        "    plt.ylabel(\"True Positive Rate\")\n",
        "    plt.title(\"ROC curve\")\n",
        "    plt.legend()"
      ],
      "id": "35c53570"
    },
    {
      "cell_type": "markdown",
      "metadata": {
        "id": "2UTdn4OUwT-t"
      },
      "source": [
        "## Ensemble Results"
      ],
      "id": "2UTdn4OUwT-t"
    },
    {
      "cell_type": "code",
      "execution_count": null,
      "metadata": {
        "id": "0gNl5XB5wxJY"
      },
      "outputs": [],
      "source": [
        "def hybrid_prediction( test_data,   svc_model, nn_model, nb_model,  classes):\n",
        "    #print('True label: ' + classes[new[1]])\n",
        "    \n",
        "    new_enc = test_data\n",
        "    new_enc_sorted = X_test_enc.sorted_indices()\n",
        "\n",
        "    svc_idx_class = svc_model.predict(new_enc)\n",
        "    nb_idx_class = nb_model.predict(new_enc)\n",
        "    nn_idx_class = nn_model.predict(new_enc_sorted).argmax(axis=1)\n",
        "    prediction_df = pd.DataFrame({'svc_idx_class': svc_idx_class.tolist(), 'nb_idx_class': nb_idx_class.tolist(), 'nn_idx_class':nn_idx_class.tolist()})\n",
        "    prediction_df['hybrid_pred'] = 0\n",
        "    for i in range(0,len(prediction_df)):\n",
        "      prediction_df['hybrid_pred'].iloc[i] = prediction_df.iloc[i].value_counts().index[0]\n",
        "    y_pred = prediction_df['hybrid_pred']\n",
        "    return y_pred"
      ],
      "id": "0gNl5XB5wxJY"
    },
    {
      "cell_type": "code",
      "execution_count": null,
      "metadata": {
        "colab": {
          "base_uri": "https://localhost:8080/"
        },
        "id": "E3YcvvM5xm0P",
        "outputId": "91b8d5da-5364-4e8d-bdac-afe389028136"
      },
      "outputs": [
        {
          "output_type": "stream",
          "name": "stdout",
          "text": [
            "Accuracy: 0.88\n",
            "Balanced Accuracy: 0.86\n",
            "Report:\n",
            "              precision    recall  f1-score   support\n",
            "\n",
            "           0       0.84      0.86      0.85      3212\n",
            "           1       0.94      0.91      0.92      6548\n",
            "           2       0.75      0.79      0.77       977\n",
            "           3       0.84      0.85      0.84      1977\n",
            "           4       0.86      0.87      0.86      3565\n",
            "\n",
            "    accuracy                           0.88     16279\n",
            "   macro avg       0.85      0.86      0.85     16279\n",
            "weighted avg       0.88      0.88      0.88     16279\n",
            "\n"
          ]
        }
      ],
      "source": [
        "y_pred = hybrid_prediction( X_test_enc,  svc_clf, model, nb_clf,  classes)\n",
        "general_metrics(y_test, y_pred)"
      ],
      "id": "E3YcvvM5xm0P"
    },
    {
      "cell_type": "code",
      "execution_count": null,
      "metadata": {
        "colab": {
          "base_uri": "https://localhost:8080/",
          "height": 585
        },
        "id": "Dm52Bd2U6Z44",
        "outputId": "6b24c986-0497-4768-ab92-b27ebefcd214"
      },
      "outputs": [
        {
          "output_type": "display_data",
          "data": {
            "text/plain": [
              "<Figure size 720x576 with 2 Axes>"
            ],
            "image/png": "[encoded data removed]"
          },
          "metadata": {}
        }
      ],
      "source": [
        "plot_confusion_matrix(y_test, y_pred, classes)"
      ],
      "id": "Dm52Bd2U6Z44"
    },
    {
      "cell_type": "code",
      "source": [
        "plot_roc_curve(y_test, y_score, classes)"
      ],
      "metadata": {
        "id": "qzWNYSPd5Dv3",
        "outputId": "d58003fd-4c38-4c9b-d7b8-28a7912561bc",
        "colab": {
          "base_uri": "https://localhost:8080/",
          "height": 518
        }
      },
      "id": "qzWNYSPd5Dv3",
      "execution_count": null,
      "outputs": [
        {
          "output_type": "display_data",
          "data": {
            "text/plain": [
              "<Figure size 720x576 with 1 Axes>"
            ],
            "image/png": "[encoded data removed]"
          },
          "metadata": {}
        }
      ]
    },
    {
      "cell_type": "markdown",
      "metadata": {
        "id": "9e3bbcbc"
      },
      "source": [
        "## LinearSVC Results"
      ],
      "id": "9e3bbcbc"
    },
    {
      "cell_type": "code",
      "execution_count": null,
      "metadata": {
        "colab": {
          "base_uri": "https://localhost:8080/"
        },
        "id": "fbadc99f",
        "outputId": "8cbe53f9-e24e-45af-da01-e054863ee170"
      },
      "outputs": [
        {
          "output_type": "stream",
          "name": "stdout",
          "text": [
            "Accuracy: 0.88\n",
            "Balanced Accuracy: 0.86\n",
            "Report:\n",
            "              precision    recall  f1-score   support\n",
            "\n",
            "           0       0.86      0.84      0.85      3212\n",
            "           1       0.94      0.91      0.92      6548\n",
            "           2       0.76      0.79      0.77       977\n",
            "           3       0.84      0.85      0.84      1977\n",
            "           4       0.84      0.88      0.86      3565\n",
            "\n",
            "    accuracy                           0.88     16279\n",
            "   macro avg       0.85      0.86      0.85     16279\n",
            "weighted avg       0.88      0.88      0.88     16279\n",
            "\n"
          ]
        }
      ],
      "source": [
        "y_pred = svc_clf.predict(X_test_enc)\n",
        "y_score = svc_clf.decision_function(X_test_enc)\n",
        "\n",
        "general_metrics(y_test, y_pred)"
      ],
      "id": "fbadc99f"
    },
    {
      "cell_type": "code",
      "execution_count": null,
      "metadata": {
        "colab": {
          "base_uri": "https://localhost:8080/",
          "height": 585
        },
        "id": "482f8baa",
        "outputId": "1e257de9-57d3-46b9-d33c-0de4437dcb13"
      },
      "outputs": [
        {
          "output_type": "display_data",
          "data": {
            "text/plain": [
              "<Figure size 720x576 with 2 Axes>"
            ],
            "image/png": "[encoded data removed]"
          },
          "metadata": {}
        }
      ],
      "source": [
        "plot_confusion_matrix(y_test, y_pred, classes)"
      ],
      "id": "482f8baa"
    },
    {
      "cell_type": "code",
      "execution_count": null,
      "metadata": {
        "colab": {
          "base_uri": "https://localhost:8080/",
          "height": 518
        },
        "id": "955ebcc9",
        "outputId": "79008a8d-fc87-408b-fc0b-a0c404a079c8"
      },
      "outputs": [
        {
          "output_type": "display_data",
          "data": {
            "text/plain": [
              "<Figure size 720x576 with 1 Axes>"
            ],
            "image/png": "[encoded data removed]"
          },
          "metadata": {}
        }
      ],
      "source": [
        "plot_roc_curve(y_test, y_score, classes)"
      ],
      "id": "955ebcc9"
    },
    {
      "cell_type": "markdown",
      "metadata": {
        "id": "436cbe45"
      },
      "source": [
        "## Naive Bayes Results"
      ],
      "id": "436cbe45"
    },
    {
      "cell_type": "code",
      "execution_count": null,
      "metadata": {
        "colab": {
          "base_uri": "https://localhost:8080/"
        },
        "id": "de04c49f",
        "outputId": "3ac6bf3d-3c7f-4f28-fa3e-89f4780319ff"
      },
      "outputs": [
        {
          "output_type": "stream",
          "name": "stdout",
          "text": [
            "Accuracy: 0.85\n",
            "Balanced Accuracy: 0.85\n",
            "Report:\n",
            "              precision    recall  f1-score   support\n",
            "\n",
            "           0       0.82      0.85      0.84      3212\n",
            "           1       0.94      0.87      0.91      6548\n",
            "           2       0.62      0.83      0.71       977\n",
            "           3       0.77      0.86      0.82      1977\n",
            "           4       0.87      0.82      0.85      3565\n",
            "\n",
            "    accuracy                           0.85     16279\n",
            "   macro avg       0.81      0.85      0.82     16279\n",
            "weighted avg       0.86      0.85      0.86     16279\n",
            "\n"
          ]
        }
      ],
      "source": [
        "y_pred = nb_clf.predict(X_test_enc)\n",
        "y_score = nb_clf.predict_proba(X_test_enc)\n",
        "\n",
        "general_metrics(y_test, y_pred)"
      ],
      "id": "de04c49f"
    },
    {
      "cell_type": "code",
      "execution_count": null,
      "metadata": {
        "colab": {
          "base_uri": "https://localhost:8080/",
          "height": 585
        },
        "id": "d44d1cde",
        "outputId": "7a63e5cb-3363-4e7e-86ea-0a2ba8702a0a"
      },
      "outputs": [
        {
          "output_type": "display_data",
          "data": {
            "text/plain": [
              "<Figure size 720x576 with 2 Axes>"
            ],
            "image/png": "[encoded data removed]"
          },
          "metadata": {}
        }
      ],
      "source": [
        "plot_confusion_matrix(y_test, y_pred, classes)"
      ],
      "id": "d44d1cde"
    },
    {
      "cell_type": "code",
      "execution_count": null,
      "metadata": {
        "colab": {
          "base_uri": "https://localhost:8080/",
          "height": 518
        },
        "id": "8ca576a8",
        "outputId": "89419688-e410-4a3e-dd63-5176d25637c1"
      },
      "outputs": [
        {
          "output_type": "display_data",
          "data": {
            "text/plain": [
              "<Figure size 720x576 with 1 Axes>"
            ],
            "image/png": "[encoded data removed]"
          },
          "metadata": {}
        }
      ],
      "source": [
        "plot_roc_curve(y_test, y_score, classes)"
      ],
      "id": "8ca576a8"
    },
    {
      "cell_type": "markdown",
      "metadata": {
        "id": "nLtrFie38LKP"
      },
      "source": [
        "## Neural Network Results\n"
      ],
      "id": "nLtrFie38LKP"
    },
    {
      "cell_type": "code",
      "execution_count": null,
      "metadata": {
        "id": "rrq5Rak69vIh"
      },
      "outputs": [],
      "source": [
        "y_pred = model.predict(X_test_enc.sorted_indices()).argmax(axis = 1)"
      ],
      "id": "rrq5Rak69vIh"
    },
    {
      "cell_type": "code",
      "execution_count": null,
      "metadata": {
        "colab": {
          "base_uri": "https://localhost:8080/"
        },
        "id": "0uAhGr_k83d9",
        "outputId": "09219f34-8262-4703-c120-6d803f0454d2"
      },
      "outputs": [
        {
          "output_type": "stream",
          "name": "stdout",
          "text": [
            "Accuracy: 0.87\n",
            "Balanced Accuracy: 0.83\n",
            "Report:\n",
            "              precision    recall  f1-score   support\n",
            "\n",
            "           0       0.86      0.84      0.85      3212\n",
            "           1       0.91      0.92      0.92      6548\n",
            "           2       0.77      0.71      0.74       977\n",
            "           3       0.81      0.81      0.81      1977\n",
            "           4       0.84      0.86      0.85      3565\n",
            "\n",
            "    accuracy                           0.87     16279\n",
            "   macro avg       0.84      0.83      0.83     16279\n",
            "weighted avg       0.87      0.87      0.87     16279\n",
            "\n"
          ]
        }
      ],
      "source": [
        "general_metrics(y_test, y_pred)"
      ],
      "id": "0uAhGr_k83d9"
    },
    {
      "cell_type": "code",
      "execution_count": null,
      "metadata": {
        "colab": {
          "base_uri": "https://localhost:8080/",
          "height": 587
        },
        "id": "YnKximJe8SBE",
        "outputId": "2b2f1cfc-2bbb-4385-c32d-40dc11ee1d51"
      },
      "outputs": [
        {
          "output_type": "display_data",
          "data": {
            "text/plain": [
              "<Figure size 720x576 with 2 Axes>"
            ],
            "image/png": "[encoded data removed]"
          },
          "metadata": {}
        }
      ],
      "source": [
        "plot_confusion_matrix(y_test, y_pred, classes)"
      ],
      "id": "YnKximJe8SBE"
    },
    {
      "cell_type": "code",
      "execution_count": null,
      "metadata": {
        "colab": {
          "base_uri": "https://localhost:8080/",
          "height": 518
        },
        "id": "MjAW2pot8SDp",
        "outputId": "1d9075f1-f06e-48e2-e943-5ab2ea4f9787"
      },
      "outputs": [
        {
          "output_type": "display_data",
          "data": {
            "text/plain": [
              "<Figure size 720x576 with 1 Axes>"
            ],
            "image/png": "[encoded data removed]"
          },
          "metadata": {}
        }
      ],
      "source": [
        "plot_roc_curve(y_test, y_score, classes)"
      ],
      "id": "MjAW2pot8SDp"
    },
    {
      "cell_type": "markdown",
      "metadata": {
        "id": "df623fe0"
      },
      "source": [
        "# Demo"
      ],
      "id": "df623fe0"
    },
    {
      "cell_type": "code",
      "execution_count": null,
      "metadata": {
        "id": "0f211ad5"
      },
      "outputs": [],
      "source": [
        "def get_random_new(news_df, classes, topic):\n",
        "    sample = news_df[test_og['category'] == classes.index(topic)].sample(1).iloc[0]\n",
        "    text = sample['headline']\n",
        "    label = sample['category']\n",
        "    return text, label\n",
        "\n"
      ],
      "id": "0f211ad5"
    },
    {
      "cell_type": "code",
      "source": [
        "class Normalizer_output:\n",
        "    def __init__(self):\n",
        "        self.stop_words = set(stopwords.words('english'))\n",
        "        self.ps = PorterStemmer() # Create Stemmer\n",
        "        self.word_net = WordNetLemmatizer() #Create Lemmatizer\n",
        "    \n",
        "    def remove_punct(self, text):\n",
        "        text = text.lower() # To lower case\n",
        "        # Replace contractions\n",
        "        text = re.sub(r\"\\'s\", \" is \", text)\n",
        "        text = re.sub(r\"\\'ve\", \" have \", text)\n",
        "        text = re.sub(r\"can't\", \"can not \", text)\n",
        "        text = re.sub(r\"n't\", \" not \", text)\n",
        "        text = re.sub(r\"i'm\", \"i am \", text)\n",
        "        text = re.sub(r\"\\'re\", \" are \", text)\n",
        "        text = re.sub(r\"\\'d\", \" would \", text)\n",
        "        text = re.sub(r\"\\'ll\", \" will \", text)\n",
        "        text = re.sub('\\W', ' ', text) # Replace any character which is not a word character\n",
        "        text = re.sub('\\s+', ' ', text) # Replace any whitespace character\n",
        "        text = re.sub(' +', ' ', text) # Replace multiple whitespaces\n",
        "        text = text.strip() # Delete sorrounding whitespaces\n",
        "        return text\n",
        "    \n",
        "    def tokenize(self, text):\n",
        "        return word_tokenize(text)\n",
        "\n",
        "    \n",
        "    def remove_stop_words(self, tokens):\n",
        "        return [word for word in tokens if not word in self.stop_words] \n",
        "    \n",
        "    def stemming(self, tokens):\n",
        "        return [self.ps.stem(word) for word in tokens]\n",
        "    \n",
        "    def lemmatize(self, tokens):\n",
        "        return [self.word_net.lemmatize(word) for word in tokens]\n",
        "    \n",
        "    def return_sentences(self, tokens):\n",
        "        return \" \".join(tokens)\n",
        "    \n",
        "    def clean_all(self, text):\n",
        "        text = self.remove_punct(text)\n",
        "        print('\\n remove_punct:\\t'+ str(text) +'\\n')\n",
        "        tokens = self.tokenize(text)\n",
        "        print('\\n tokenize:\\t'+ str(tokens) +'\\n')\n",
        "        tokens = self.remove_stop_words(tokens)\n",
        "        print('\\n remove_stop_words:\\t'+ str(tokens) +'\\n')\n",
        "        tokens = self.stemming(tokens)\n",
        "        print('\\n stemming:\\t'+ str(tokens) +'\\n')\n",
        "        tokens = self.lemmatize(tokens)\n",
        "        print('\\n lemmatize:\\t'+ str(tokens) +'\\n')\n",
        "        text = self.return_sentences(tokens)\n",
        "        print('\\n return_sentences:\\t'+ str(text) +'\\n')\n",
        "        return text"
      ],
      "metadata": {
        "id": "Ilsoaki5bRlz"
      },
      "id": "Ilsoaki5bRlz",
      "execution_count": null,
      "outputs": []
    },
    {
      "cell_type": "code",
      "execution_count": null,
      "metadata": {
        "id": "KSOmjFS4jZR5"
      },
      "outputs": [],
      "source": [
        "def deliver_new_hybrid(new, normalizer, encoder, svc_model, nn_model, nb_model, users, classes):\n",
        "    print('Headline: ' + new)\n",
        "    #print('True label: ' + classes[new[1]])\n",
        "    \n",
        "    new_norm = normalizer.clean_all(new)\n",
        "    new_enc = encoder.transform([new_norm])\n",
        "    new_enc_sorted = new_enc.sorted_indices()\n",
        "\n",
        "    svc_idx_class = svc_model.predict(new_enc)[0]\n",
        "    nb_idx_class = nb_model.predict(new_enc)[0]\n",
        "    nn_idx_class = nn_model.predict(new_enc_sorted)[0].argmax()\n",
        "    #add mode_idx_class for model prediction similarly\n",
        "\n",
        "\n",
        "    class_nn = classes[nn_idx_class]\n",
        "    class_svc = classes[svc_idx_class]\n",
        "    class_nb = classes[nb_idx_class]   \n",
        "    #add more class_model for class label prediction similarly\n",
        "\n",
        "    prediction_category_list = []\n",
        "    prediction_category_list.append(class_nb)\n",
        "    prediction_category_list.append(class_svc)\n",
        "    prediction_category_list.append(class_nn)\n",
        "    #add more prediction_category_list for more model prediction similarly\n",
        "\n",
        "    prediction_category_df =  pd.DataFrame(prediction_category_list)\n",
        "    hybrid_prediction = prediction_category_df.value_counts().index.tolist()[0][0]\n",
        "    \n",
        "    print('Classify as: ' + hybrid_prediction)\n",
        "    print('Recommended to the following users: ', end='')\n",
        "    final_users = []\n",
        "    for k,v in users.get_items():\n",
        "        if hybrid_prediction in v:\n",
        "            final_users.append(k)\n",
        "    print(final_users)"
      ],
      "id": "KSOmjFS4jZR5"
    },
    {
      "cell_type": "markdown",
      "metadata": {
        "id": "582533f1"
      },
      "source": [
        "Generate 10 random users for the demo"
      ],
      "id": "582533f1"
    },
    {
      "cell_type": "code",
      "execution_count": null,
      "metadata": {
        "colab": {
          "base_uri": "https://localhost:8080/"
        },
        "id": "e07f215d",
        "outputId": "1b990dab-ec4b-447c-bc3c-57fcf312c9c2"
      },
      "outputs": [
        {
          "output_type": "execute_result",
          "data": {
            "text/plain": [
              "{'user_1': ['TRAVEL', 'WELLNESS', 'SPORTS', 'POLITICS', 'ENTERTAINMENT'],\n",
              " 'user_10': ['ENTERTAINMENT', 'SPORTS'],\n",
              " 'user_11': ['TRAVEL', 'POLITICS', 'WELLNESS', 'SPORTS'],\n",
              " 'user_12': ['POLITICS', 'SPORTS', 'ENTERTAINMENT'],\n",
              " 'user_13': ['ENTERTAINMENT', 'TRAVEL'],\n",
              " 'user_14': ['POLITICS', 'WELLNESS', 'TRAVEL', 'SPORTS', 'ENTERTAINMENT'],\n",
              " 'user_15': ['SPORTS', 'ENTERTAINMENT', 'POLITICS', 'TRAVEL', 'WELLNESS'],\n",
              " 'user_16': ['TRAVEL', 'SPORTS', 'WELLNESS', 'ENTERTAINMENT', 'POLITICS'],\n",
              " 'user_17': ['SPORTS', 'ENTERTAINMENT', 'TRAVEL', 'WELLNESS'],\n",
              " 'user_18': ['TRAVEL', 'ENTERTAINMENT', 'WELLNESS'],\n",
              " 'user_19': ['SPORTS', 'POLITICS', 'WELLNESS', 'TRAVEL'],\n",
              " 'user_2': ['ENTERTAINMENT'],\n",
              " 'user_20': ['SPORTS', 'POLITICS', 'TRAVEL', 'WELLNESS'],\n",
              " 'user_21': ['ENTERTAINMENT', 'WELLNESS', 'SPORTS', 'POLITICS'],\n",
              " 'user_22': ['POLITICS', 'TRAVEL'],\n",
              " 'user_23': ['SPORTS', 'TRAVEL', 'WELLNESS'],\n",
              " 'user_24': ['TRAVEL', 'ENTERTAINMENT', 'WELLNESS'],\n",
              " 'user_25': ['SPORTS', 'POLITICS', 'ENTERTAINMENT', 'WELLNESS'],\n",
              " 'user_26': ['SPORTS', 'TRAVEL', 'POLITICS', 'ENTERTAINMENT', 'WELLNESS'],\n",
              " 'user_27': ['WELLNESS', 'ENTERTAINMENT', 'POLITICS', 'SPORTS', 'TRAVEL'],\n",
              " 'user_28': ['POLITICS'],\n",
              " 'user_29': ['WELLNESS', 'ENTERTAINMENT', 'SPORTS'],\n",
              " 'user_3': ['POLITICS', 'ENTERTAINMENT'],\n",
              " 'user_30': ['WELLNESS', 'ENTERTAINMENT'],\n",
              " 'user_31': ['ENTERTAINMENT', 'WELLNESS', 'TRAVEL', 'SPORTS', 'POLITICS'],\n",
              " 'user_32': ['TRAVEL', 'POLITICS', 'SPORTS', 'WELLNESS', 'ENTERTAINMENT'],\n",
              " 'user_33': ['TRAVEL', 'WELLNESS', 'POLITICS'],\n",
              " 'user_34': ['POLITICS', 'ENTERTAINMENT', 'SPORTS', 'WELLNESS', 'TRAVEL'],\n",
              " 'user_35': ['ENTERTAINMENT', 'SPORTS', 'POLITICS', 'TRAVEL'],\n",
              " 'user_36': ['POLITICS', 'WELLNESS', 'TRAVEL', 'ENTERTAINMENT'],\n",
              " 'user_37': ['SPORTS', 'TRAVEL', 'POLITICS', 'WELLNESS'],\n",
              " 'user_38': ['TRAVEL', 'WELLNESS'],\n",
              " 'user_39': ['SPORTS'],\n",
              " 'user_4': ['POLITICS', 'TRAVEL'],\n",
              " 'user_40': ['POLITICS', 'TRAVEL', 'SPORTS', 'ENTERTAINMENT', 'WELLNESS'],\n",
              " 'user_41': ['WELLNESS', 'POLITICS', 'SPORTS', 'ENTERTAINMENT', 'TRAVEL'],\n",
              " 'user_42': ['SPORTS', 'TRAVEL', 'POLITICS', 'WELLNESS', 'ENTERTAINMENT'],\n",
              " 'user_43': ['TRAVEL', 'POLITICS', 'WELLNESS', 'ENTERTAINMENT'],\n",
              " 'user_44': ['ENTERTAINMENT', 'WELLNESS', 'POLITICS'],\n",
              " 'user_45': ['ENTERTAINMENT', 'TRAVEL', 'POLITICS', 'WELLNESS', 'SPORTS'],\n",
              " 'user_46': ['SPORTS', 'POLITICS', 'WELLNESS'],\n",
              " 'user_47': ['POLITICS', 'ENTERTAINMENT', 'TRAVEL', 'WELLNESS', 'SPORTS'],\n",
              " 'user_48': ['WELLNESS', 'TRAVEL', 'POLITICS', 'SPORTS', 'ENTERTAINMENT'],\n",
              " 'user_49': ['ENTERTAINMENT', 'TRAVEL', 'SPORTS', 'POLITICS'],\n",
              " 'user_5': ['WELLNESS'],\n",
              " 'user_50': ['ENTERTAINMENT', 'TRAVEL', 'SPORTS', 'POLITICS'],\n",
              " 'user_6': ['ENTERTAINMENT', 'SPORTS', 'WELLNESS'],\n",
              " 'user_7': ['ENTERTAINMENT', 'SPORTS', 'POLITICS', 'WELLNESS', 'TRAVEL'],\n",
              " 'user_8': ['SPORTS', 'ENTERTAINMENT', 'TRAVEL', 'WELLNESS', 'POLITICS'],\n",
              " 'user_9': ['TRAVEL', 'SPORTS', 'ENTERTAINMENT']}"
            ]
          },
          "metadata": {},
          "execution_count": 202
        }
      ],
      "source": [
        "users = Users(50, classes)\n",
        "users.users"
      ],
      "id": "e07f215d"
    },
    {
      "cell_type": "markdown",
      "metadata": {
        "id": "c534db6d"
      },
      "source": [
        "Retrieve the original test set headlines"
      ],
      "id": "c534db6d"
    },
    {
      "cell_type": "code",
      "execution_count": null,
      "metadata": {
        "id": "ca78ae46"
      },
      "outputs": [],
      "source": [
        "test_og = df.loc[y_test.index]"
      ],
      "id": "ca78ae46"
    },
    {
      "cell_type": "code",
      "source": [
        "norm_with_output = Normalizer_output()"
      ],
      "metadata": {
        "id": "jsZJXS2MbqmF"
      },
      "id": "jsZJXS2MbqmF",
      "execution_count": null,
      "outputs": []
    },
    {
      "cell_type": "markdown",
      "metadata": {
        "id": "772d8934"
      },
      "source": [
        "Example by distributing a random category news item from test"
      ],
      "id": "772d8934"
    },
    {
      "cell_type": "code",
      "execution_count": null,
      "metadata": {
        "colab": {
          "base_uri": "https://localhost:8080/"
        },
        "id": "6a5b6216",
        "outputId": "550ec7c6-b965-400b-9f44-641dffe9eaa6"
      },
      "outputs": [
        {
          "output_type": "stream",
          "name": "stdout",
          "text": [
            "Actual Label: POLITICS\n",
            "Headline: Ivanka Is Not Donald's Trump Card With Young Women\n",
            "\n",
            " remove_punct:\tivanka is not donald is trump card with young women\n",
            "\n",
            "\n",
            " tokenize:\t['ivanka', 'is', 'not', 'donald', 'is', 'trump', 'card', 'with', 'young', 'women']\n",
            "\n",
            "\n",
            " remove_stop_words:\t['ivanka', 'donald', 'trump', 'card', 'young', 'women']\n",
            "\n",
            "\n",
            " stemming:\t['ivanka', 'donald', 'trump', 'card', 'young', 'women']\n",
            "\n",
            "\n",
            " lemmatize:\t['ivanka', 'donald', 'trump', 'card', 'young', 'woman']\n",
            "\n",
            "\n",
            " return_sentences:\tivanka donald trump card young woman\n",
            "\n",
            "Classify as: POLITICS\n",
            "Recommended to the following users: ['user_1', 'user_6', 'user_11', 'user_12', 'user_15', 'user_16', 'user_19', 'user_21', 'user_23', 'user_25', 'user_28', 'user_29', 'user_30', 'user_32', 'user_33', 'user_34', 'user_36', 'user_40', 'user_41', 'user_42', 'user_44', 'user_45', 'user_46', 'user_47', 'user_48', 'user_49', 'user_50']\n"
          ]
        }
      ],
      "source": [
        "new, label = get_random_new(test_og, classes, 'POLITICS')\n",
        "print(\"Actual Label: \" + str(classes[label]))\n",
        "deliver_new_hybrid(new, norm_with_output, tfidf, svc_clf, model, nb_clf, users, classes)"
      ],
      "id": "6a5b6216"
    },
    {
      "cell_type": "code",
      "execution_count": null,
      "metadata": {
        "colab": {
          "base_uri": "https://localhost:8080/"
        },
        "id": "gPj0GqC1TvA9",
        "outputId": "565d6d35-b178-4d10-e611-4c0e1d2fc684"
      },
      "outputs": [
        {
          "name": "stdout",
          "output_type": "stream",
          "text": [
            "Actual Label: RELIGION\n",
            "Headline: Confessions of a Truthoholic: An Excerpt of the Truth\n",
            "Classify as: PARENTING\n",
            "Recommended to the following users: ['user_2', 'user_7', 'user_10', 'user_14', 'user_25', 'user_27', 'user_40', 'user_41']\n"
          ]
        }
      ],
      "source": [
        "new, label = get_random_new(test_og, classes, 'RELIGION')\n",
        "print(\"Actual Label: \" + str(classes[label]))\n",
        "deliver_new_hybrid(new, norm_with_output, tfidf, svc_clf, model, nb_clf, users, classes)"
      ],
      "id": "gPj0GqC1TvA9"
    },
    {
      "cell_type": "code",
      "execution_count": null,
      "metadata": {
        "colab": {
          "base_uri": "https://localhost:8080/"
        },
        "id": "XIPQywpHHXm4",
        "outputId": "375fb5b7-417f-431b-e326-fced0c0dd4bc"
      },
      "outputs": [
        {
          "name": "stdout",
          "output_type": "stream",
          "text": [
            "Actual Label: ARTS\n",
            "Headline: This Optical Illusion Will Make Your Eyes Bulge And Your Brain Burst\n",
            "Classify as: ARTS\n",
            "Recommended to the following users: ['user_2', 'user_7', 'user_8', 'user_11', 'user_18', 'user_21', 'user_37', 'user_38', 'user_47', 'user_49']\n"
          ]
        }
      ],
      "source": [
        "new, label = get_random_new(test_og, classes, 'ARTS')\n",
        "print(\"Actual Label: \" + str(classes[label]))\n",
        "deliver_new_hybrid(new, norm_with_output, tfidf, svc_clf, model, nb_clf, users, classes)"
      ],
      "id": "XIPQywpHHXm4"
    },
    {
      "cell_type": "code",
      "execution_count": null,
      "metadata": {
        "colab": {
          "base_uri": "https://localhost:8080/"
        },
        "id": "D8xHqKGQHfDA",
        "outputId": "9745fc3d-85a0-46c0-cc2c-dfda8b42e27e"
      },
      "outputs": [
        {
          "name": "stdout",
          "output_type": "stream",
          "text": [
            "Actual Label: ARTS & CULTURE\n",
            "Headline: 8 Books To Help You Celebrate The Return Of 'Broad City'\n",
            "Classify as: ARTS & CULTURE\n",
            "Recommended to the following users: ['user_6', 'user_7', 'user_8', 'user_11', 'user_28', 'user_40', 'user_46', 'user_50']\n"
          ]
        }
      ],
      "source": [
        "new, label = get_random_new(test_og, classes, 'ARTS & CULTURE')\n",
        "print(\"Actual Label: \" + str(classes[label]))\n",
        "deliver_new_hybrid(new, norm_with_output, tfidf, svc_clf, model, nb_clf, users, classes)"
      ],
      "id": "D8xHqKGQHfDA"
    },
    {
      "cell_type": "code",
      "execution_count": null,
      "metadata": {
        "colab": {
          "base_uri": "https://localhost:8080/"
        },
        "id": "bfBlDGdFHqy-",
        "outputId": "0b2c4b1d-f941-49d9-c477-0d7b9ff8ea1e"
      },
      "outputs": [
        {
          "name": "stdout",
          "output_type": "stream",
          "text": [
            "Actual Label: BLACK VOICES\n",
            "Headline: Trayvon Martin Case Recasts Century-Old Battle Lines For Local Activist\n",
            "Classify as: BLACK VOICES\n",
            "Recommended to the following users: ['user_5', 'user_10', 'user_12', 'user_21']\n"
          ]
        }
      ],
      "source": [
        "new, label = get_random_new(test_og, classes, 'BLACK VOICES')\n",
        "print(\"Actual Label: \" + str(classes[label]))\n",
        "deliver_new_hybrid(new, norm_with_output, tfidf, svc_clf, model, nb_clf, users, classes)"
      ],
      "id": "bfBlDGdFHqy-"
    },
    {
      "cell_type": "code",
      "execution_count": null,
      "metadata": {
        "colab": {
          "base_uri": "https://localhost:8080/",
          "height": 200
        },
        "id": "llsZC4tdHqma",
        "outputId": "c1cbae29-88e8-431d-cf74-9eda50427075"
      },
      "outputs": [
        {
          "ename": "NameError",
          "evalue": "ignored",
          "output_type": "error",
          "traceback": [
            "\u001b[0;31m---------------------------------------------------------------------------\u001b[0m",
            "\u001b[0;31mNameError\u001b[0m                                 Traceback (most recent call last)",
            "\u001b[0;32m<ipython-input-5-c5ba3438cf59>\u001b[0m in \u001b[0;36m<module>\u001b[0;34m()\u001b[0m\n\u001b[0;32m----> 1\u001b[0;31m \u001b[0mnew\u001b[0m\u001b[0;34m,\u001b[0m \u001b[0mlabel\u001b[0m \u001b[0;34m=\u001b[0m \u001b[0mget_random_new\u001b[0m\u001b[0;34m(\u001b[0m\u001b[0mtest_og\u001b[0m\u001b[0;34m,\u001b[0m \u001b[0mclasses\u001b[0m\u001b[0;34m,\u001b[0m \u001b[0;34m'BUSINESS'\u001b[0m\u001b[0;34m)\u001b[0m\u001b[0;34m\u001b[0m\u001b[0;34m\u001b[0m\u001b[0m\n\u001b[0m\u001b[1;32m      2\u001b[0m \u001b[0mprint\u001b[0m\u001b[0;34m(\u001b[0m\u001b[0;34m\"Actual Label: \"\u001b[0m \u001b[0;34m+\u001b[0m \u001b[0mstr\u001b[0m\u001b[0;34m(\u001b[0m\u001b[0mclasses\u001b[0m\u001b[0;34m[\u001b[0m\u001b[0mlabel\u001b[0m\u001b[0;34m]\u001b[0m\u001b[0;34m)\u001b[0m\u001b[0;34m)\u001b[0m\u001b[0;34m\u001b[0m\u001b[0;34m\u001b[0m\u001b[0m\n\u001b[1;32m      3\u001b[0m \u001b[0mdeliver_new_hybrid\u001b[0m\u001b[0;34m(\u001b[0m\u001b[0mnew\u001b[0m\u001b[0;34m,\u001b[0m \u001b[0mnorm\u001b[0m\u001b[0;34m,\u001b[0m \u001b[0mtfidf\u001b[0m\u001b[0;34m,\u001b[0m \u001b[0msvc_clf\u001b[0m\u001b[0;34m,\u001b[0m \u001b[0mmodel\u001b[0m\u001b[0;34m,\u001b[0m \u001b[0mnb_clf\u001b[0m\u001b[0;34m,\u001b[0m \u001b[0musers\u001b[0m\u001b[0;34m,\u001b[0m \u001b[0mclasses\u001b[0m\u001b[0;34m)\u001b[0m\u001b[0;34m\u001b[0m\u001b[0;34m\u001b[0m\u001b[0m\n",
            "\u001b[0;31mNameError\u001b[0m: name 'test_og' is not defined"
          ]
        }
      ],
      "source": [
        "new, label = get_random_new(test_og, classes, 'BUSINESS')\n",
        "print(\"Actual Label: \" + str(classes[label]))\n",
        "deliver_new_hybrid(new, norm_with_output, tfidf, svc_clf, model, nb_clf, users, classes)"
      ],
      "id": "llsZC4tdHqma"
    },
    {
      "cell_type": "code",
      "execution_count": null,
      "metadata": {
        "colab": {
          "base_uri": "https://localhost:8080/"
        },
        "id": "4QtxRAgFH8Ir",
        "outputId": "d4eab105-7170-4a7d-e95b-b8cacd5d29c9"
      },
      "outputs": [
        {
          "name": "stdout",
          "output_type": "stream",
          "text": [
            "Actual Label: COLLEGE\n",
            "Headline: UC Davis Chancellor Linda Katehi Placed On Leave Over Claims Of Ethics Violations\n",
            "Classify as: COLLEGE\n",
            "Recommended to the following users: ['user_18', 'user_19', 'user_35', 'user_42']\n"
          ]
        }
      ],
      "source": [
        "new, label = get_random_new(test_og, classes,'COLLEGE')\n",
        "print(\"Actual Label: \" + str(classes[label]))\n",
        "deliver_new_hybrid(new, norm_with_output, tfidf, svc_clf, model, nb_clf, users, classes)"
      ],
      "id": "4QtxRAgFH8Ir"
    },
    {
      "cell_type": "code",
      "execution_count": null,
      "metadata": {
        "colab": {
          "base_uri": "https://localhost:8080/"
        },
        "id": "Hqzvi1JWi99P",
        "outputId": "ac2f734c-1222-450f-fd55-b8c48a1cdf69"
      },
      "outputs": [
        {
          "name": "stdout",
          "output_type": "stream",
          "text": [
            "Actual Label: COMEDY\n",
            "Headline: Trevor Noah Just Sincerely Praised Donald Trump For Something\n",
            "Classify as: COMEDY\n",
            "Recommended to the following users: ['user_27', 'user_37', 'user_39', 'user_40', 'user_47']\n"
          ]
        }
      ],
      "source": [
        "new, label = get_random_new(test_og, classes,'COMEDY')\n",
        "print(\"Actual Label: \" + str(classes[label]))\n",
        "deliver_new_hybrid(new, norm_with_output, tfidf, svc_clf, model, nb_clf, users, classes)"
      ],
      "id": "Hqzvi1JWi99P"
    },
    {
      "cell_type": "code",
      "execution_count": null,
      "metadata": {
        "colab": {
          "base_uri": "https://localhost:8080/"
        },
        "id": "cggECmaSi96P",
        "outputId": "37d62e49-c67f-457a-ed21-25911ec66f4b"
      },
      "outputs": [
        {
          "name": "stdout",
          "output_type": "stream",
          "text": [
            "Actual Label: CRIME\n",
            "Headline: Armed Fugitive Disguises Himself As An Old Man To Evade Cops\n",
            "Classify as: CRIME\n",
            "Recommended to the following users: ['user_2', 'user_3', 'user_5', 'user_17', 'user_19', 'user_21', 'user_28', 'user_39', 'user_43', 'user_44', 'user_47', 'user_48']\n"
          ]
        }
      ],
      "source": [
        "new, label = get_random_new(test_og, classes, 'CRIME')\n",
        "print(\"Actual Label: \" + str(classes[label]))\n",
        "deliver_new_hybrid(new, norm_with_output, tfidf, svc_clf, model, nb_clf, users, classes)"
      ],
      "id": "cggECmaSi96P"
    },
    {
      "cell_type": "code",
      "execution_count": null,
      "metadata": {
        "colab": {
          "base_uri": "https://localhost:8080/"
        },
        "id": "5lnYzHqGi93q",
        "outputId": "5dbb0a52-26b7-4fe3-8597-a379fd7430ff"
      },
      "outputs": [
        {
          "name": "stdout",
          "output_type": "stream",
          "text": [
            "Actual Label: CULTURE & ARTS\n",
            "Headline: Women's History Month Artists: Celebrating WHM With Tracey Emin As The Jack Of Hearts\n",
            "Classify as: CULTURE & ARTS\n",
            "Recommended to the following users: ['user_4', 'user_5', 'user_7', 'user_12', 'user_14', 'user_48']\n"
          ]
        }
      ],
      "source": [
        "new, label = get_random_new(test_og, classes,'CULTURE & ARTS')\n",
        "print(\"Actual Label: \" + str(classes[label]))\n",
        "deliver_new_hybrid(new, norm_with_output, tfidf, svc_clf, model, nb_clf, users, classes)"
      ],
      "id": "5lnYzHqGi93q"
    },
    {
      "cell_type": "code",
      "execution_count": null,
      "metadata": {
        "colab": {
          "base_uri": "https://localhost:8080/"
        },
        "id": "i5-e8H6Ai91r",
        "outputId": "536d9572-9316-4f3e-d932-733b9fe08359"
      },
      "outputs": [
        {
          "name": "stdout",
          "output_type": "stream",
          "text": [
            "Actual Label: DIVORCE\n",
            "Headline: Don't Let Divorce Guilt Break Your Bank\n",
            "Classify as: DIVORCE\n",
            "Recommended to the following users: ['user_6', 'user_8', 'user_12', 'user_24', 'user_31', 'user_38', 'user_39']\n"
          ]
        }
      ],
      "source": [
        "new, label = get_random_new(test_og, classes,'DIVORCE')\n",
        "print(\"Actual Label: \" + str(classes[label]))\n",
        "deliver_new_hybrid(new, norm_with_output, tfidf, svc_clf, model, nb_clf, users, classes)"
      ],
      "id": "i5-e8H6Ai91r"
    },
    {
      "cell_type": "code",
      "execution_count": null,
      "metadata": {
        "colab": {
          "base_uri": "https://localhost:8080/"
        },
        "id": "C2q2lIx8i9yu",
        "outputId": "5d83f5b3-8e62-47a7-cf70-33d1839f38ae"
      },
      "outputs": [
        {
          "name": "stdout",
          "output_type": "stream",
          "text": [
            "Actual Label: EDUCATION\n",
            "Headline: An \"Informed Consumer\" of Students' Test Scores\n",
            "Classify as: EDUCATION\n",
            "Recommended to the following users: ['user_2', 'user_4', 'user_27', 'user_34', 'user_39', 'user_49']\n"
          ]
        }
      ],
      "source": [
        "new, label = get_random_new(test_og, classes,'EDUCATION')\n",
        "print(\"Actual Label: \" + str(classes[label]))\n",
        "deliver_new_hybrid(new, norm_with_output, tfidf, svc_clf, model, nb_clf, users, classes)"
      ],
      "id": "C2q2lIx8i9yu"
    },
    {
      "cell_type": "code",
      "execution_count": null,
      "metadata": {
        "colab": {
          "base_uri": "https://localhost:8080/"
        },
        "id": "qzb3xx2gi9v5",
        "outputId": "2fafc6fb-2b8e-4508-eadf-2e1ee2b90531"
      },
      "outputs": [
        {
          "output_type": "stream",
          "name": "stdout",
          "text": [
            "Actual Label: ENTERTAINMENT\n",
            "Headline: Seth Rogen Lip-Syncing 'Hotline Bling' Is Seriously The Best\n",
            "\n",
            " remove_punct:\tseth rogen lip syncing hotline bling is seriously the best\n",
            "\n",
            "\n",
            " tokenize:\t['seth', 'rogen', 'lip', 'syncing', 'hotline', 'bling', 'is', 'seriously', 'the', 'best']\n",
            "\n",
            "\n",
            " remove_stop_words:\t['seth', 'rogen', 'lip', 'syncing', 'hotline', 'bling', 'seriously', 'best']\n",
            "\n",
            "\n",
            " stemming:\t['seth', 'rogen', 'lip', 'sync', 'hotlin', 'bling', 'serious', 'best']\n",
            "\n",
            "\n",
            " lemmatize:\t['seth', 'rogen', 'lip', 'sync', 'hotlin', 'bling', 'serious', 'best']\n",
            "\n",
            "\n",
            " return_sentences:\tseth rogen lip sync hotlin bling serious best\n",
            "\n",
            "Classify as: ENTERTAINMENT\n",
            "Recommended to the following users: ['user_1', 'user_3', 'user_4', 'user_7', 'user_8', 'user_11', 'user_12', 'user_14', 'user_17', 'user_18', 'user_21', 'user_22', 'user_23', 'user_25', 'user_26', 'user_27', 'user_29', 'user_30', 'user_31', 'user_32', 'user_34', 'user_36', 'user_37', 'user_38', 'user_40', 'user_43', 'user_45', 'user_46', 'user_50']\n"
          ]
        }
      ],
      "source": [
        "new, label = get_random_new(test_og, classes,'ENTERTAINMENT')\n",
        "print(\"Actual Label: \" + str(classes[label]))\n",
        "deliver_new_hybrid(new, norm_with_output, tfidf, svc_clf, model, nb_clf, users, classes)"
      ],
      "id": "qzb3xx2gi9v5"
    },
    {
      "cell_type": "code",
      "execution_count": null,
      "metadata": {
        "colab": {
          "base_uri": "https://localhost:8080/"
        },
        "id": "0gGhbp2upmnk",
        "outputId": "fb234d88-caf2-40b6-c7b2-ee1d575c0ff0"
      },
      "outputs": [
        {
          "name": "stdout",
          "output_type": "stream",
          "text": [
            "Actual Label: ENVIRONMENT\n",
            "Headline: Palo Verde Beetles, Huge Horny Bugs, Descend On Arizona Looking For Love (VIDEO)\n",
            "Classify as: LATINO VOICES\n",
            "Recommended to the following users: ['user_6', 'user_11', 'user_20', 'user_25', 'user_31']\n"
          ]
        }
      ],
      "source": [
        "new, label = get_random_new(test_og, classes,'ENVIRONMENT')\n",
        "print(\"Actual Label: \" + str(classes[label]))\n",
        "deliver_new_hybrid(new, norm_with_output, tfidf, svc_clf, model, nb_clf, users, classes)"
      ],
      "id": "0gGhbp2upmnk"
    },
    {
      "cell_type": "code",
      "execution_count": null,
      "metadata": {
        "colab": {
          "base_uri": "https://localhost:8080/"
        },
        "id": "OEQjOhG4xOOX",
        "outputId": "25270b4d-bb21-4ec6-8049-f6c279ae2aac"
      },
      "outputs": [
        {
          "name": "stdout",
          "output_type": "stream",
          "text": [
            "Actual Label: FIFTY\n",
            "Headline: Cassandra Wilson Says 'Happy 100th, Lady Day'\n",
            "Classify as: FIFTY\n",
            "Recommended to the following users: ['user_8', 'user_10', 'user_15', 'user_16', 'user_19', 'user_21', 'user_37', 'user_39', 'user_46', 'user_49']\n"
          ]
        }
      ],
      "source": [
        "new, label = get_random_new(test_og, classes, 'FIFTY')\n",
        "print(\"Actual Label: \" + str(classes[label]))\n",
        "deliver_new_hybrid(new, norm_with_output, tfidf, svc_clf, model, nb_clf, users, classes)"
      ],
      "id": "OEQjOhG4xOOX"
    },
    {
      "cell_type": "code",
      "execution_count": null,
      "metadata": {
        "colab": {
          "base_uri": "https://localhost:8080/"
        },
        "id": "g2VKHP0_xmWQ",
        "outputId": "75e0459d-a7fb-49a2-9065-8599ad360113"
      },
      "outputs": [
        {
          "name": "stdout",
          "output_type": "stream",
          "text": [
            "Actual Label: FOOD & DRINK\n",
            "Headline: Top 10 Tequilas\n",
            "Classify as: FOOD & DRINK\n",
            "Recommended to the following users: ['user_2', 'user_5', 'user_12', 'user_14', 'user_16', 'user_33', 'user_34', 'user_37', 'user_44', 'user_46']\n"
          ]
        }
      ],
      "source": [
        "new, label = get_random_new(test_og, classes,'FOOD & DRINK')\n",
        "print(\"Actual Label: \" + str(classes[label]))\n",
        "deliver_new_hybrid(new, norm_with_output, tfidf, svc_clf, model, nb_clf, users, classes)"
      ],
      "id": "g2VKHP0_xmWQ"
    },
    {
      "cell_type": "code",
      "execution_count": null,
      "metadata": {
        "colab": {
          "base_uri": "https://localhost:8080/"
        },
        "id": "zun2rM_MxsQt",
        "outputId": "a6ff0662-529a-408b-fd00-4fbde81feda6"
      },
      "outputs": [
        {
          "name": "stdout",
          "output_type": "stream",
          "text": [
            "Actual Label: GOOD NEWS\n",
            "Headline: These Affectionate Doggie Pals Will Make You Wanna Hug Your BFF\n",
            "Classify as: GOOD NEWS\n",
            "Recommended to the following users: ['user_4', 'user_6', 'user_16', 'user_26', 'user_45', 'user_50']\n"
          ]
        }
      ],
      "source": [
        "new, label = get_random_new(test_og, classes, 'GOOD NEWS')\n",
        "print(\"Actual Label: \" + str(classes[label]))\n",
        "deliver_new_hybrid(new, norm_with_output, tfidf, svc_clf, model, nb_clf, users, classes)"
      ],
      "id": "zun2rM_MxsQt"
    },
    {
      "cell_type": "code",
      "execution_count": null,
      "metadata": {
        "colab": {
          "base_uri": "https://localhost:8080/"
        },
        "id": "s1RhWGOBybO9",
        "outputId": "a380326f-fd6b-457f-dd6c-823a048d0400"
      },
      "outputs": [
        {
          "name": "stdout",
          "output_type": "stream",
          "text": [
            "Actual Label: GREEN\n",
            "Headline: A Photo From The Moscow Zoo Vividly Captures Life In Captivity\n",
            "Classify as: ENVIRONMENT\n",
            "Recommended to the following users: ['user_2', 'user_3', 'user_8', 'user_14', 'user_22', 'user_32', 'user_40', 'user_42', 'user_45', 'user_46', 'user_50']\n"
          ]
        }
      ],
      "source": [
        "new, label = get_random_new(test_og, classes, 'GREEN')\n",
        "print(\"Actual Label: \" + str(classes[label]))\n",
        "deliver_new_hybrid(new, norm_with_output, tfidf, svc_clf, model, nb_clf, users, classes)"
      ],
      "id": "s1RhWGOBybO9"
    },
    {
      "cell_type": "code",
      "execution_count": null,
      "metadata": {
        "colab": {
          "base_uri": "https://localhost:8080/"
        },
        "id": "o3DbAJvlyQ2g",
        "outputId": "387b953a-c144-4636-b1dd-9d9fb6c2f506"
      },
      "outputs": [
        {
          "name": "stdout",
          "output_type": "stream",
          "text": [
            "Actual Label: HEALTHY LIVING\n",
            "Headline: When Did I Become A Person With Allergies?!\n",
            "Classify as: HEALTHY LIVING\n",
            "Recommended to the following users: ['user_1', 'user_8', 'user_11', 'user_34', 'user_41', 'user_44', 'user_48', 'user_49']\n"
          ]
        }
      ],
      "source": [
        "new, label = get_random_new(test_og, classes, 'HEALTHY LIVING')\n",
        "print(\"Actual Label: \" + str(classes[label]))\n",
        "deliver_new_hybrid(new, norm_with_output, tfidf, svc_clf, model, nb_clf, users, classes)"
      ],
      "id": "o3DbAJvlyQ2g"
    },
    {
      "cell_type": "code",
      "execution_count": null,
      "metadata": {
        "colab": {
          "base_uri": "https://localhost:8080/"
        },
        "id": "GFexvTRJyhne",
        "outputId": "7db0354c-4915-424e-a3e3-fabab06d6726"
      },
      "outputs": [
        {
          "name": "stdout",
          "output_type": "stream",
          "text": [
            "Actual Label: HOME & LIVING\n",
            "Headline: How To Remove Mold From Your Bathtub\n",
            "Classify as: HOME & LIVING\n",
            "Recommended to the following users: ['user_10', 'user_12', 'user_26', 'user_35', 'user_40', 'user_44', 'user_45']\n"
          ]
        }
      ],
      "source": [
        "new, label = get_random_new(test_og, classes,'HOME & LIVING')\n",
        "print(\"Actual Label: \" + str(classes[label]))\n",
        "deliver_new_hybrid(new, norm_with_output, tfidf, svc_clf, model, nb_clf, users, classes)"
      ],
      "id": "GFexvTRJyhne"
    },
    {
      "cell_type": "code",
      "execution_count": null,
      "metadata": {
        "colab": {
          "base_uri": "https://localhost:8080/"
        },
        "id": "lGE8GBYPm9IJ",
        "outputId": "132f4d57-ffce-4f92-ffbc-265b31d63670"
      },
      "outputs": [
        {
          "name": "stdout",
          "output_type": "stream",
          "text": [
            "Actual Label: IMPACT\n",
            "Headline: What Does the First Tycoon Tell Us About Capitalism?\n",
            "Classify as: BUSINESS\n",
            "Recommended to the following users: ['user_4', 'user_6', 'user_14', 'user_33', 'user_37']\n"
          ]
        }
      ],
      "source": [
        "new, label = get_random_new(test_og, classes,'IMPACT')\n",
        "print(\"Actual Label: \" + str(classes[label]))\n",
        "deliver_new_hybrid(new, norm_with_output, tfidf, svc_clf, model, nb_clf, users, classes)"
      ],
      "id": "lGE8GBYPm9IJ"
    },
    {
      "cell_type": "code",
      "execution_count": null,
      "metadata": {
        "colab": {
          "base_uri": "https://localhost:8080/"
        },
        "id": "scMDnjcEnEE9",
        "outputId": "29092397-c504-4577-efc0-c575a2aac508"
      },
      "outputs": [
        {
          "name": "stdout",
          "output_type": "stream",
          "text": [
            "Actual Label: LATINO VOICES\n",
            "Headline: Laurie Hernandez's Agent Says Brands Are Lining Up To Work With The Olympian\n",
            "Classify as: LATINO VOICES\n",
            "Recommended to the following users: ['user_6', 'user_11', 'user_20', 'user_25', 'user_31']\n"
          ]
        }
      ],
      "source": [
        "new, label = get_random_new(test_og, classes,'LATINO VOICES')\n",
        "print(\"Actual Label: \" + str(classes[label]))\n",
        "deliver_new_hybrid(new, norm_with_output, tfidf, svc_clf, model, nb_clf, users, classes)"
      ],
      "id": "scMDnjcEnEE9"
    },
    {
      "cell_type": "code",
      "execution_count": null,
      "metadata": {
        "colab": {
          "base_uri": "https://localhost:8080/"
        },
        "id": "rDxuSGSPn6uM",
        "outputId": "fd569d6d-9923-47b3-9327-69b49538e7e0"
      },
      "outputs": [
        {
          "name": "stdout",
          "output_type": "stream",
          "text": [
            "Actual Label: MEDIA\n",
            "Headline: The Attack On Charlie Hebdo Was A Symbolic Tragedy So Quit Trying To Change The Subject\n",
            "Classify as: WORLDPOST\n",
            "Recommended to the following users: ['user_5', 'user_7', 'user_10', 'user_15', 'user_22', 'user_32', 'user_36', 'user_39']\n"
          ]
        }
      ],
      "source": [
        "new, label = get_random_new(test_og, classes,'MEDIA')\n",
        "print(\"Actual Label: \" + str(classes[label]))\n",
        "deliver_new_hybrid(new, norm_with_output, tfidf, svc_clf, model, nb_clf, users, classes)"
      ],
      "id": "rDxuSGSPn6uM"
    },
    {
      "cell_type": "code",
      "execution_count": null,
      "metadata": {
        "colab": {
          "base_uri": "https://localhost:8080/"
        },
        "id": "sgsvPJftoCZm",
        "outputId": "414b70b9-a461-4bad-93e4-907377e4b0f8"
      },
      "outputs": [
        {
          "name": "stdout",
          "output_type": "stream",
          "text": [
            "Actual Label: MONEY\n",
            "Headline: Why Wanting to Be Rich Is a Form of Mental Illness\n",
            "Classify as: HEALTHY LIVING\n",
            "Recommended to the following users: ['user_1', 'user_8', 'user_11', 'user_34', 'user_41', 'user_44', 'user_48', 'user_49']\n"
          ]
        }
      ],
      "source": [
        "new, label = get_random_new(test_og, classes,'MONEY')\n",
        "print(\"Actual Label: \" + str(classes[label]))\n",
        "deliver_new_hybrid(new, norm_with_output, tfidf, svc_clf, model, nb_clf, users, classes)"
      ],
      "id": "sgsvPJftoCZm"
    },
    {
      "cell_type": "code",
      "execution_count": null,
      "metadata": {
        "colab": {
          "base_uri": "https://localhost:8080/"
        },
        "id": "Rmb1iTu2oOHG",
        "outputId": "3ff323e5-4c9c-4a0d-ec10-ca27a61d5a16"
      },
      "outputs": [
        {
          "name": "stdout",
          "output_type": "stream",
          "text": [
            "Actual Label: PARENTING\n",
            "Headline: Splish Splash! Kids' Water Shoes That Protect At Play\n",
            "Classify as: PARENTING\n",
            "Recommended to the following users: ['user_2', 'user_7', 'user_10', 'user_14', 'user_25', 'user_27', 'user_40', 'user_41']\n"
          ]
        }
      ],
      "source": [
        "new, label = get_random_new(test_og, classes,'PARENTING')\n",
        "print(\"Actual Label: \" + str(classes[label]))\n",
        "deliver_new_hybrid(new, norm_with_output, tfidf, svc_clf, model, nb_clf, users, classes)"
      ],
      "id": "Rmb1iTu2oOHG"
    },
    {
      "cell_type": "code",
      "execution_count": null,
      "metadata": {
        "colab": {
          "base_uri": "https://localhost:8080/"
        },
        "id": "vrvagiHCoOAF",
        "outputId": "c147b4df-9e9c-4154-e3e4-103126ad8e31"
      },
      "outputs": [
        {
          "name": "stdout",
          "output_type": "stream",
          "text": [
            "Actual Label: PARENTS\n",
            "Headline: How to Breastfeed Twins in Public\n",
            "Classify as: PARENTS\n",
            "Recommended to the following users: ['user_1', 'user_5', 'user_10', 'user_15', 'user_18', 'user_31', 'user_37', 'user_39', 'user_48', 'user_49', 'user_50']\n"
          ]
        }
      ],
      "source": [
        "new, label = get_random_new(test_og, classes,'PARENTS')\n",
        "print(\"Actual Label: \" + str(classes[label]))\n",
        "deliver_new_hybrid(new, norm_with_output, tfidf, svc_clf, model, nb_clf, users, classes)"
      ],
      "id": "vrvagiHCoOAF"
    },
    {
      "cell_type": "code",
      "execution_count": null,
      "metadata": {
        "colab": {
          "base_uri": "https://localhost:8080/"
        },
        "id": "0rPhwYXRohJj",
        "outputId": "361b349b-bf4d-4615-bbae-27736aa26ca1"
      },
      "outputs": [
        {
          "name": "stdout",
          "output_type": "stream",
          "text": [
            "Actual Label: QUEER VOICES\n",
            "Headline: My Child Is 'They,' And It's Society, Not Language, That Needs Fixing\n",
            "Classify as: PARENTING\n",
            "Recommended to the following users: ['user_2', 'user_7', 'user_10', 'user_14', 'user_25', 'user_27', 'user_40', 'user_41']\n"
          ]
        }
      ],
      "source": [
        "new, label = get_random_new(test_og, classes,'QUEER VOICES')\n",
        "print(\"Actual Label: \" + str(classes[label]))\n",
        "deliver_new_hybrid(new, norm_with_output, tfidf, svc_clf, model, nb_clf, users, classes)"
      ],
      "id": "0rPhwYXRohJj"
    },
    {
      "cell_type": "code",
      "execution_count": null,
      "metadata": {
        "colab": {
          "base_uri": "https://localhost:8080/"
        },
        "id": "1pgPNl3qopRW",
        "outputId": "a470d6e8-ec2c-4d50-8ecb-94a2cb4e7de0"
      },
      "outputs": [
        {
          "name": "stdout",
          "output_type": "stream",
          "text": [
            "Actual Label: SCIENCE\n",
            "Headline: Slave Tunnels Found In Massive Network Underneath Second Century Roman Emperor's Villa\n",
            "Classify as: SPORTS\n",
            "Recommended to the following users: ['user_4', 'user_5', 'user_12', 'user_19', 'user_21', 'user_22', 'user_23', 'user_29', 'user_31', 'user_38', 'user_39', 'user_41', 'user_43', 'user_44', 'user_47', 'user_50']\n"
          ]
        }
      ],
      "source": [
        "new, label = get_random_new(test_og, classes,'SCIENCE')\n",
        "print(\"Actual Label: \" + str(classes[label]))\n",
        "deliver_new_hybrid(new, norm_with_output, tfidf, svc_clf, model, nb_clf, users, classes)"
      ],
      "id": "1pgPNl3qopRW"
    },
    {
      "cell_type": "code",
      "execution_count": null,
      "metadata": {
        "colab": {
          "base_uri": "https://localhost:8080/"
        },
        "id": "vo3gUev3ow-A",
        "outputId": "4d3e805b-328f-4e6a-de86-e12c2ec90bdc"
      },
      "outputs": [
        {
          "name": "stdout",
          "output_type": "stream",
          "text": [
            "Actual Label: SPORTS\n",
            "Headline: Mirai Nagasu Says Her Parents' Hard Work In Restaurant Inspires Her Discipline On Ice\n",
            "Classify as: PARENTING\n",
            "Recommended to the following users: ['user_2', 'user_7', 'user_10', 'user_14', 'user_25', 'user_27', 'user_40', 'user_41']\n"
          ]
        }
      ],
      "source": [
        "new, label = get_random_new(test_og, classes, 'SPORTS')\n",
        "print(\"Actual Label: \" + str(classes[label]))\n",
        "deliver_new_hybrid(new, norm_with_output, tfidf, svc_clf, model, nb_clf, users, classes)"
      ],
      "id": "vo3gUev3ow-A"
    },
    {
      "cell_type": "code",
      "execution_count": null,
      "metadata": {
        "colab": {
          "base_uri": "https://localhost:8080/"
        },
        "id": "xI8Cd8o0pDsS",
        "outputId": "58aa06d8-859e-4dfc-cce6-1a708eaa3d76"
      },
      "outputs": [
        {
          "name": "stdout",
          "output_type": "stream",
          "text": [
            "Actual Label: STYLE\n",
            "Headline: Move Over, Clooney: Steve Carell Is Our Favorite Silver Fox Now\n",
            "Classify as: MEDIA\n",
            "Recommended to the following users: ['user_1', 'user_4', 'user_25', 'user_37', 'user_45']\n"
          ]
        }
      ],
      "source": [
        "new, label = get_random_new(test_og, classes, 'STYLE')\n",
        "print(\"Actual Label: \" + str(classes[label]))\n",
        "deliver_new_hybrid(new, norm_with_output, tfidf, svc_clf, model, nb_clf, users, classes)"
      ],
      "id": "xI8Cd8o0pDsS"
    },
    {
      "cell_type": "code",
      "execution_count": null,
      "metadata": {
        "colab": {
          "base_uri": "https://localhost:8080/"
        },
        "id": "nkv-KqjApLWe",
        "outputId": "5b5adaef-11c6-4db5-db94-f2199735cfc5"
      },
      "outputs": [
        {
          "name": "stdout",
          "output_type": "stream",
          "text": [
            "Actual Label: STYLE & BEAUTY\n",
            "Headline: The Met Ball\n",
            "Classify as: SPORTS\n",
            "Recommended to the following users: ['user_4', 'user_5', 'user_12', 'user_19', 'user_21', 'user_22', 'user_23', 'user_29', 'user_31', 'user_38', 'user_39', 'user_41', 'user_43', 'user_44', 'user_47', 'user_50']\n"
          ]
        }
      ],
      "source": [
        "new, label = get_random_new(test_og, classes,'STYLE & BEAUTY')\n",
        "print(\"Actual Label: \" + str(classes[label]))\n",
        "deliver_new_hybrid(new, norm_with_output, tfidf, svc_clf, model, nb_clf, users, classes)"
      ],
      "id": "nkv-KqjApLWe"
    },
    {
      "cell_type": "code",
      "execution_count": null,
      "metadata": {
        "colab": {
          "base_uri": "https://localhost:8080/"
        },
        "id": "USYh6qAHpULa",
        "outputId": "738e4b05-3764-42f8-b130-ec50caa1923c"
      },
      "outputs": [
        {
          "name": "stdout",
          "output_type": "stream",
          "text": [
            "Actual Label: TASTE\n",
            "Headline: Dippin' Dots Responds To Sean Spicer With An Ice-Cold Burn\n",
            "Classify as: COMEDY\n",
            "Recommended to the following users: ['user_27', 'user_37', 'user_39', 'user_40', 'user_47']\n"
          ]
        }
      ],
      "source": [
        "new, label = get_random_new(test_og, classes, 'TASTE')\n",
        "print(\"Actual Label: \" + str(classes[label]))\n",
        "deliver_new_hybrid(new, norm_with_output, tfidf, svc_clf, model, nb_clf, users, classes)"
      ],
      "id": "USYh6qAHpULa"
    },
    {
      "cell_type": "code",
      "execution_count": null,
      "metadata": {
        "colab": {
          "base_uri": "https://localhost:8080/"
        },
        "id": "DamwX_IwpcpG",
        "outputId": "3dbc9c7b-d015-429d-c378-272fb9631d62"
      },
      "outputs": [
        {
          "name": "stdout",
          "output_type": "stream",
          "text": [
            "Actual Label: TECH\n",
            "Headline: Facebook Takes A Step Toward Virtual Reality With New 360-Degree Videos\n",
            "Classify as: TECH\n",
            "Recommended to the following users: ['user_6', 'user_11', 'user_16', 'user_18', 'user_26', 'user_34']\n"
          ]
        }
      ],
      "source": [
        "new, label = get_random_new(test_og, classes,'TECH')\n",
        "print(\"Actual Label: \" + str(classes[label]))\n",
        "deliver_new_hybrid(new, norm_with_output, tfidf, svc_clf, model, nb_clf, users, classes)"
      ],
      "id": "DamwX_IwpcpG"
    },
    {
      "cell_type": "code",
      "execution_count": null,
      "metadata": {
        "colab": {
          "base_uri": "https://localhost:8080/"
        },
        "id": "5mPyhr7wpkae",
        "outputId": "5543b060-6795-48c9-c9df-a2652f31b88b"
      },
      "outputs": [
        {
          "name": "stdout",
          "output_type": "stream",
          "text": [
            "Actual Label: THE WORLDPOST\n",
            "Headline: Aleppo Residents Burn Tires To Obstruct Warplanes Bombarding Their City\n",
            "Classify as: THE WORLDPOST\n",
            "Recommended to the following users: ['user_2', 'user_16', 'user_34', 'user_35', 'user_36', 'user_41', 'user_45']\n"
          ]
        }
      ],
      "source": [
        "new, label = get_random_new(test_og, classes,'THE WORLDPOST')\n",
        "print(\"Actual Label: \" + str(classes[label]))\n",
        "deliver_new_hybrid(new, norm_with_output, tfidf, svc_clf, model, nb_clf, users, classes)"
      ],
      "id": "5mPyhr7wpkae"
    },
    {
      "cell_type": "code",
      "execution_count": null,
      "metadata": {
        "colab": {
          "base_uri": "https://localhost:8080/"
        },
        "id": "MV5Qc_ntqQYL",
        "outputId": "e51e5322-7a36-4fff-837a-ca2e80401828"
      },
      "outputs": [
        {
          "name": "stdout",
          "output_type": "stream",
          "text": [
            "Actual Label: TRAVEL\n",
            "Headline: 21 Travel Photos That'll Re-Ignite Your Sense Of Wanderlust\n",
            "Classify as: TRAVEL\n",
            "Recommended to the following users: ['user_3', 'user_10', 'user_16', 'user_20', 'user_22', 'user_23', 'user_24', 'user_27', 'user_34', 'user_40', 'user_49']\n"
          ]
        }
      ],
      "source": [
        "new, label = get_random_new(test_og, classes,'TRAVEL')\n",
        "print(\"Actual Label: \" + str(classes[label]))\n",
        "deliver_new_hybrid(new, norm_with_output, tfidf, svc_clf, model, nb_clf, users, classes)"
      ],
      "id": "MV5Qc_ntqQYL"
    },
    {
      "cell_type": "code",
      "execution_count": null,
      "metadata": {
        "colab": {
          "base_uri": "https://localhost:8080/"
        },
        "id": "oGAlQLjDqYg4",
        "outputId": "9bf7582c-99c9-453f-f33c-1066808e0672"
      },
      "outputs": [
        {
          "name": "stdout",
          "output_type": "stream",
          "text": [
            "Actual Label: WEDDINGS\n",
            "Headline: Usher: Wedding Singer? Yes, If One Mom Has Her Way\n",
            "Classify as: WEDDINGS\n",
            "Recommended to the following users: ['user_4', 'user_6', 'user_27', 'user_32', 'user_35', 'user_37', 'user_49']\n"
          ]
        }
      ],
      "source": [
        "new, label = get_random_new(test_og, classes, 'WEDDINGS')\n",
        "print(\"Actual Label: \" + str(classes[label]))\n",
        "deliver_new_hybrid(new, norm_with_output, tfidf, svc_clf, model, nb_clf, users, classes)"
      ],
      "id": "oGAlQLjDqYg4"
    },
    {
      "cell_type": "code",
      "execution_count": null,
      "metadata": {
        "colab": {
          "base_uri": "https://localhost:8080/"
        },
        "id": "LZu7LqyPqi6f",
        "outputId": "f92a9a10-3782-4aff-c8aa-d0315ea34c54"
      },
      "outputs": [
        {
          "name": "stdout",
          "output_type": "stream",
          "text": [
            "Actual Label: WEIRD NEWS\n",
            "Headline: Sweden's Gigantic Straw Christmas Goat Goes Up In Flames... Again\n",
            "Classify as: WEIRD NEWS\n",
            "Recommended to the following users: ['user_5', 'user_19', 'user_27', 'user_31', 'user_36', 'user_40', 'user_45']\n"
          ]
        }
      ],
      "source": [
        "new, label = get_random_new(test_og, classes, 'WEIRD NEWS')\n",
        "print(\"Actual Label: \" + str(classes[label]))\n",
        "deliver_new_hybrid(new, norm_with_output, tfidf, svc_clf, model, nb_clf, users, classes)"
      ],
      "id": "LZu7LqyPqi6f"
    },
    {
      "cell_type": "code",
      "execution_count": null,
      "metadata": {
        "colab": {
          "base_uri": "https://localhost:8080/"
        },
        "id": "XLA05O1QqnQU",
        "outputId": "cf7bc6dd-d4ba-4679-fb01-8875cdbe6d82"
      },
      "outputs": [
        {
          "output_type": "stream",
          "name": "stdout",
          "text": [
            "Actual Label: WELLNESS\n",
            "Headline: Does Self-Compassion Mean Letting Yourself Off the Hook?\n",
            "\n",
            " remove_punct:\tdoes self compassion mean letting yourself off the hook\n",
            "\n",
            "\n",
            " tokenize:\t['does', 'self', 'compassion', 'mean', 'letting', 'yourself', 'off', 'the', 'hook']\n",
            "\n",
            "\n",
            " remove_stop_words:\t['self', 'compassion', 'mean', 'letting', 'hook']\n",
            "\n",
            "\n",
            " stemming:\t['self', 'compass', 'mean', 'let', 'hook']\n",
            "\n",
            "\n",
            " lemmatize:\t['self', 'compass', 'mean', 'let', 'hook']\n",
            "\n",
            "\n",
            " return_sentences:\tself compass mean let hook\n",
            "\n",
            "Classify as: WELLNESS\n",
            "Recommended to the following users: ['user_1', 'user_5', 'user_6', 'user_7', 'user_9', 'user_11', 'user_16', 'user_17', 'user_18', 'user_20', 'user_21', 'user_22', 'user_26', 'user_27', 'user_29', 'user_31', 'user_32', 'user_36', 'user_38', 'user_40', 'user_41', 'user_42', 'user_43', 'user_46', 'user_47', 'user_49', 'user_50']\n"
          ]
        }
      ],
      "source": [
        "new, label = get_random_new(test_og, classes, 'WELLNESS')\n",
        "print(\"Actual Label: \" + str(classes[label]))\n",
        "deliver_new_hybrid(new, norm_with_output, tfidf, svc_clf, model, nb_clf, users, classes)"
      ],
      "id": "XLA05O1QqnQU"
    },
    {
      "cell_type": "code",
      "execution_count": null,
      "metadata": {
        "colab": {
          "base_uri": "https://localhost:8080/"
        },
        "id": "gZNcvIRlqv58",
        "outputId": "a8da5dc3-1562-444d-fc00-c7530a0d55f7"
      },
      "outputs": [
        {
          "name": "stdout",
          "output_type": "stream",
          "text": [
            "Actual Label: WOMEN\n",
            "Headline: My Biological Clock Is Defective\n",
            "Classify as: SCIENCE\n",
            "Recommended to the following users: ['user_1', 'user_19', 'user_30', 'user_31', 'user_37', 'user_40', 'user_44', 'user_47', 'user_48']\n"
          ]
        }
      ],
      "source": [
        "new, label = get_random_new(test_og, classes, 'WOMEN')\n",
        "print(\"Actual Label: \" + str(classes[label]))\n",
        "deliver_new_hybrid(new, norm_with_output, tfidf, svc_clf, model, nb_clf, users, classes)"
      ],
      "id": "gZNcvIRlqv58"
    },
    {
      "cell_type": "code",
      "execution_count": null,
      "metadata": {
        "colab": {
          "base_uri": "https://localhost:8080/"
        },
        "id": "d9fvda6pq3mo",
        "outputId": "3b07ad9d-889a-424a-dc1f-42ae4f5adb7c"
      },
      "outputs": [
        {
          "name": "stdout",
          "output_type": "stream",
          "text": [
            "Actual Label: WORLD NEWS\n",
            "Headline: Indian Prime Minister Leads Nationalist Charge To Rewrite History Books\n",
            "Classify as: POLITICS\n",
            "Recommended to the following users: ['user_5', 'user_10', 'user_16', 'user_21', 'user_34', 'user_44', 'user_46', 'user_49']\n"
          ]
        }
      ],
      "source": [
        "new, label = get_random_new(test_og, classes, 'WORLD NEWS')\n",
        "print(\"Actual Label: \" + str(classes[label]))\n",
        "deliver_new_hybrid(new, norm_with_output, tfidf, svc_clf, model, nb_clf, users, classes)"
      ],
      "id": "d9fvda6pq3mo"
    },
    {
      "cell_type": "code",
      "execution_count": null,
      "metadata": {
        "colab": {
          "base_uri": "https://localhost:8080/"
        },
        "id": "k3WahbEtq-dU",
        "outputId": "026e4081-018b-46d0-e89b-c82fdaf1d731"
      },
      "outputs": [
        {
          "name": "stdout",
          "output_type": "stream",
          "text": [
            "Actual Label: WORLDPOST\n",
            "Headline: What Does German Unity Mean to the Post-Cold War Generation?\n",
            "Classify as: WORLDPOST\n",
            "Recommended to the following users: ['user_5', 'user_7', 'user_10', 'user_15', 'user_22', 'user_32', 'user_36', 'user_39']\n"
          ]
        }
      ],
      "source": [
        "new, label = get_random_new(test_og, classes, 'WORLDPOST')\n",
        "print(\"Actual Label: \" + str(classes[label]))\n",
        "deliver_new_hybrid(new, norm_with_output, tfidf, svc_clf, model, nb_clf, users, classes)"
      ],
      "id": "k3WahbEtq-dU"
    },
    {
      "cell_type": "code",
      "execution_count": null,
      "metadata": {
        "colab": {
          "base_uri": "https://localhost:8080/"
        },
        "id": "-OgE6I6y3lNH",
        "outputId": "dc82734b-04ee-4392-d22b-bc63900e3f50"
      },
      "outputs": [
        {
          "data": {
            "text/plain": [
              "['ARTS',\n",
              " 'ARTS & CULTURE',\n",
              " 'BLACK VOICES',\n",
              " 'BUSINESS',\n",
              " 'COLLEGE',\n",
              " 'COMEDY',\n",
              " 'CRIME',\n",
              " 'CULTURE & ARTS',\n",
              " 'DIVORCE',\n",
              " 'EDUCATION',\n",
              " 'ENTERTAINMENT',\n",
              " 'ENVIRONMENT',\n",
              " 'FIFTY',\n",
              " 'FOOD & DRINK',\n",
              " 'GOOD NEWS',\n",
              " 'GREEN',\n",
              " 'HEALTHY LIVING',\n",
              " 'HOME & LIVING',\n",
              " 'IMPACT',\n",
              " 'LATINO VOICES',\n",
              " 'MEDIA',\n",
              " 'MONEY',\n",
              " 'PARENTING',\n",
              " 'PARENTS',\n",
              " 'POLITICS',\n",
              " 'QUEER VOICES',\n",
              " 'RELIGION',\n",
              " 'SCIENCE',\n",
              " 'SPORTS',\n",
              " 'STYLE',\n",
              " 'STYLE & BEAUTY',\n",
              " 'TASTE',\n",
              " 'TECH',\n",
              " 'THE WORLDPOST',\n",
              " 'TRAVEL',\n",
              " 'WEDDINGS',\n",
              " 'WEIRD NEWS',\n",
              " 'WELLNESS',\n",
              " 'WOMEN',\n",
              " 'WORLD NEWS',\n",
              " 'WORLDPOST']"
            ]
          },
          "execution_count": 93,
          "metadata": {},
          "output_type": "execute_result"
        }
      ],
      "source": [
        "classes"
      ],
      "id": "-OgE6I6y3lNH"
    }
  ],
  "metadata": {
    "accelerator": "GPU",
    "colab": {
      "collapsed_sections": [
        "OGvUFTYSVVB4",
        "380137e1",
        "cb14f776"
      ],
      "provenance": []
    },
    "gpuClass": "standard",
    "kernelspec": {
      "display_name": "Python 3",
      "language": "python",
      "name": "python3"
    },
    "language_info": {
      "codemirror_mode": {
        "name": "ipython",
        "version": 3
      },
      "file_extension": ".py",
      "mimetype": "text/x-python",
      "name": "python",
      "nbconvert_exporter": "python",
      "pygments_lexer": "ipython3",
      "version": "3.7.12"
    },
    "papermill": {
      "default_parameters": {},
      "duration": 86.372657,
      "end_time": "2022-04-07T22:09:27.948269",
      "environment_variables": {},
      "exception": null,
      "input_path": "__notebook__.ipynb",
      "output_path": "__notebook__.ipynb",
      "parameters": {},
      "start_time": "2022-04-07T22:08:01.575612",
      "version": "2.3.3"
    },
    "widgets": {
      "application/vnd.jupyter.widget-state+json": {
        "845c4dd674b249bf803b5bcd43725924": {
          "model_module": "@jupyter-widgets/controls",
          "model_name": "HBoxModel",
          "model_module_version": "1.5.0",
          "state": {
            "_dom_classes": [],
            "_model_module": "@jupyter-widgets/controls",
            "_model_module_version": "1.5.0",
            "_model_name": "HBoxModel",
            "_view_count": null,
            "_view_module": "@jupyter-widgets/controls",
            "_view_module_version": "1.5.0",
            "_view_name": "HBoxView",
            "box_style": "",
            "children": [
              "IPY_MODEL_d482a9c3e05343f99c7a644ebc86904e",
              "IPY_MODEL_57039f428a7f4ac29c181b9b2fa68d13",
              "IPY_MODEL_c5947e9d785745bc80e5cc772467fde5"
            ],
            "layout": "IPY_MODEL_e8e1f70ddbfd4d418b7985d35196f258"
          }
        },
        "d482a9c3e05343f99c7a644ebc86904e": {
          "model_module": "@jupyter-widgets/controls",
          "model_name": "HTMLModel",
          "model_module_version": "1.5.0",
          "state": {
            "_dom_classes": [],
            "_model_module": "@jupyter-widgets/controls",
            "_model_module_version": "1.5.0",
            "_model_name": "HTMLModel",
            "_view_count": null,
            "_view_module": "@jupyter-widgets/controls",
            "_view_module_version": "1.5.0",
            "_view_name": "HTMLView",
            "description": "",
            "description_tooltip": null,
            "layout": "IPY_MODEL_552c9d0e8b7c4db8ba47cc2c965fb472",
            "placeholder": "​",
            "style": "IPY_MODEL_1485bfdd7bb442f19fba9c6996ed4cec",
            "value": "100%"
          }
        },
        "57039f428a7f4ac29c181b9b2fa68d13": {
          "model_module": "@jupyter-widgets/controls",
          "model_name": "FloatProgressModel",
          "model_module_version": "1.5.0",
          "state": {
            "_dom_classes": [],
            "_model_module": "@jupyter-widgets/controls",
            "_model_module_version": "1.5.0",
            "_model_name": "FloatProgressModel",
            "_view_count": null,
            "_view_module": "@jupyter-widgets/controls",
            "_view_module_version": "1.5.0",
            "_view_name": "ProgressView",
            "bar_style": "success",
            "description": "",
            "description_tooltip": null,
            "layout": "IPY_MODEL_21415a831efe4be0a9da8b44f92f9325",
            "max": 81395,
            "min": 0,
            "orientation": "horizontal",
            "style": "IPY_MODEL_0c0f368931224f41a31a4db78de7920b",
            "value": 81395
          }
        },
        "c5947e9d785745bc80e5cc772467fde5": {
          "model_module": "@jupyter-widgets/controls",
          "model_name": "HTMLModel",
          "model_module_version": "1.5.0",
          "state": {
            "_dom_classes": [],
            "_model_module": "@jupyter-widgets/controls",
            "_model_module_version": "1.5.0",
            "_model_name": "HTMLModel",
            "_view_count": null,
            "_view_module": "@jupyter-widgets/controls",
            "_view_module_version": "1.5.0",
            "_view_name": "HTMLView",
            "description": "",
            "description_tooltip": null,
            "layout": "IPY_MODEL_d6f46cf09ee04e5791deefe684db8bda",
            "placeholder": "​",
            "style": "IPY_MODEL_c252737f89ce4190b8d641f4d0fbe9b5",
            "value": " 81395/81395 [00:17&lt;00:00, 5520.98it/s]"
          }
        },
        "e8e1f70ddbfd4d418b7985d35196f258": {
          "model_module": "@jupyter-widgets/base",
          "model_name": "LayoutModel",
          "model_module_version": "1.2.0",
          "state": {
            "_model_module": "@jupyter-widgets/base",
            "_model_module_version": "1.2.0",
            "_model_name": "LayoutModel",
            "_view_count": null,
            "_view_module": "@jupyter-widgets/base",
            "_view_module_version": "1.2.0",
            "_view_name": "LayoutView",
            "align_content": null,
            "align_items": null,
            "align_self": null,
            "border": null,
            "bottom": null,
            "display": null,
            "flex": null,
            "flex_flow": null,
            "grid_area": null,
            "grid_auto_columns": null,
            "grid_auto_flow": null,
            "grid_auto_rows": null,
            "grid_column": null,
            "grid_gap": null,
            "grid_row": null,
            "grid_template_areas": null,
            "grid_template_columns": null,
            "grid_template_rows": null,
            "height": null,
            "justify_content": null,
            "justify_items": null,
            "left": null,
            "margin": null,
            "max_height": null,
            "max_width": null,
            "min_height": null,
            "min_width": null,
            "object_fit": null,
            "object_position": null,
            "order": null,
            "overflow": null,
            "overflow_x": null,
            "overflow_y": null,
            "padding": null,
            "right": null,
            "top": null,
            "visibility": null,
            "width": null
          }
        },
        "552c9d0e8b7c4db8ba47cc2c965fb472": {
          "model_module": "@jupyter-widgets/base",
          "model_name": "LayoutModel",
          "model_module_version": "1.2.0",
          "state": {
            "_model_module": "@jupyter-widgets/base",
            "_model_module_version": "1.2.0",
            "_model_name": "LayoutModel",
            "_view_count": null,
            "_view_module": "@jupyter-widgets/base",
            "_view_module_version": "1.2.0",
            "_view_name": "LayoutView",
            "align_content": null,
            "align_items": null,
            "align_self": null,
            "border": null,
            "bottom": null,
            "display": null,
            "flex": null,
            "flex_flow": null,
            "grid_area": null,
            "grid_auto_columns": null,
            "grid_auto_flow": null,
            "grid_auto_rows": null,
            "grid_column": null,
            "grid_gap": null,
            "grid_row": null,
            "grid_template_areas": null,
            "grid_template_columns": null,
            "grid_template_rows": null,
            "height": null,
            "justify_content": null,
            "justify_items": null,
            "left": null,
            "margin": null,
            "max_height": null,
            "max_width": null,
            "min_height": null,
            "min_width": null,
            "object_fit": null,
            "object_position": null,
            "order": null,
            "overflow": null,
            "overflow_x": null,
            "overflow_y": null,
            "padding": null,
            "right": null,
            "top": null,
            "visibility": null,
            "width": null
          }
        },
        "1485bfdd7bb442f19fba9c6996ed4cec": {
          "model_module": "@jupyter-widgets/controls",
          "model_name": "DescriptionStyleModel",
          "model_module_version": "1.5.0",
          "state": {
            "_model_module": "@jupyter-widgets/controls",
            "_model_module_version": "1.5.0",
            "_model_name": "DescriptionStyleModel",
            "_view_count": null,
            "_view_module": "@jupyter-widgets/base",
            "_view_module_version": "1.2.0",
            "_view_name": "StyleView",
            "description_width": ""
          }
        },
        "21415a831efe4be0a9da8b44f92f9325": {
          "model_module": "@jupyter-widgets/base",
          "model_name": "LayoutModel",
          "model_module_version": "1.2.0",
          "state": {
            "_model_module": "@jupyter-widgets/base",
            "_model_module_version": "1.2.0",
            "_model_name": "LayoutModel",
            "_view_count": null,
            "_view_module": "@jupyter-widgets/base",
            "_view_module_version": "1.2.0",
            "_view_name": "LayoutView",
            "align_content": null,
            "align_items": null,
            "align_self": null,
            "border": null,
            "bottom": null,
            "display": null,
            "flex": null,
            "flex_flow": null,
            "grid_area": null,
            "grid_auto_columns": null,
            "grid_auto_flow": null,
            "grid_auto_rows": null,
            "grid_column": null,
            "grid_gap": null,
            "grid_row": null,
            "grid_template_areas": null,
            "grid_template_columns": null,
            "grid_template_rows": null,
            "height": null,
            "justify_content": null,
            "justify_items": null,
            "left": null,
            "margin": null,
            "max_height": null,
            "max_width": null,
            "min_height": null,
            "min_width": null,
            "object_fit": null,
            "object_position": null,
            "order": null,
            "overflow": null,
            "overflow_x": null,
            "overflow_y": null,
            "padding": null,
            "right": null,
            "top": null,
            "visibility": null,
            "width": null
          }
        },
        "0c0f368931224f41a31a4db78de7920b": {
          "model_module": "@jupyter-widgets/controls",
          "model_name": "ProgressStyleModel",
          "model_module_version": "1.5.0",
          "state": {
            "_model_module": "@jupyter-widgets/controls",
            "_model_module_version": "1.5.0",
            "_model_name": "ProgressStyleModel",
            "_view_count": null,
            "_view_module": "@jupyter-widgets/base",
            "_view_module_version": "1.2.0",
            "_view_name": "StyleView",
            "bar_color": null,
            "description_width": ""
          }
        },
        "d6f46cf09ee04e5791deefe684db8bda": {
          "model_module": "@jupyter-widgets/base",
          "model_name": "LayoutModel",
          "model_module_version": "1.2.0",
          "state": {
            "_model_module": "@jupyter-widgets/base",
            "_model_module_version": "1.2.0",
            "_model_name": "LayoutModel",
            "_view_count": null,
            "_view_module": "@jupyter-widgets/base",
            "_view_module_version": "1.2.0",
            "_view_name": "LayoutView",
            "align_content": null,
            "align_items": null,
            "align_self": null,
            "border": null,
            "bottom": null,
            "display": null,
            "flex": null,
            "flex_flow": null,
            "grid_area": null,
            "grid_auto_columns": null,
            "grid_auto_flow": null,
            "grid_auto_rows": null,
            "grid_column": null,
            "grid_gap": null,
            "grid_row": null,
            "grid_template_areas": null,
            "grid_template_columns": null,
            "grid_template_rows": null,
            "height": null,
            "justify_content": null,
            "justify_items": null,
            "left": null,
            "margin": null,
            "max_height": null,
            "max_width": null,
            "min_height": null,
            "min_width": null,
            "object_fit": null,
            "object_position": null,
            "order": null,
            "overflow": null,
            "overflow_x": null,
            "overflow_y": null,
            "padding": null,
            "right": null,
            "top": null,
            "visibility": null,
            "width": null
          }
        },
        "c252737f89ce4190b8d641f4d0fbe9b5": {
          "model_module": "@jupyter-widgets/controls",
          "model_name": "DescriptionStyleModel",
          "model_module_version": "1.5.0",
          "state": {
            "_model_module": "@jupyter-widgets/controls",
            "_model_module_version": "1.5.0",
            "_model_name": "DescriptionStyleModel",
            "_view_count": null,
            "_view_module": "@jupyter-widgets/base",
            "_view_module_version": "1.2.0",
            "_view_name": "StyleView",
            "description_width": ""
          }
        }
      }
    }
  },
  "nbformat": 4,
  "nbformat_minor": 5
}